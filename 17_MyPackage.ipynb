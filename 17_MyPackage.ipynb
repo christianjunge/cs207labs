{
 "cells": [
  {
   "cell_type": "markdown",
   "metadata": {},
   "source": [
    "## Python Module and Packages Lecture and Lab\n",
    "\n",
    "This interpreter essentionally reproduces lis.py from Peter Norvig. Go read his posts."
   ]
  },
  {
   "cell_type": "markdown",
   "metadata": {
    "collapsed": false
   },
   "source": [
    "### Environment Interface"
   ]
  },
  {
   "cell_type": "code",
   "execution_count": 1,
   "metadata": {
    "collapsed": false
   },
   "outputs": [],
   "source": [
    "import abc\n",
    "class Environment(abc.ABC):\n",
    "    \"\"\"\n",
    "    This is the interface for an Environment. The client for \n",
    "    this interface is a language intepreter. \n",
    "    \"\"\"\n",
    "    @classmethod\n",
    "    @abc.abstractmethod\n",
    "    def empty(cls):\n",
    "        return cls()\n",
    "    \n",
    "    @abc.abstractmethod\n",
    "    def extend(self, variable, value):\n",
    "        \"\"\"\n",
    "        extend an existing environment by binding variable to value.\n",
    "        The values must be an acceptable value in the language. If the\n",
    "        same variable is used twice the newer value must be bound.\n",
    "        \"\"\"\n",
    "    \n",
    "    @abc.abstractmethod\n",
    "    def extend_many(self, envdict):\n",
    "        \"\"\"\n",
    "        extend the current environment by values in the dictionary\n",
    "        envdict. If the dictionary contains variables already in the\n",
    "        environment, the newer values from the dictionary are bound\n",
    "        \"\"\"\n",
    "        \n",
    "    @abc.abstractmethod\n",
    "    def lookup(variable):\n",
    "        \"\"\"\n",
    "        return the unique binding of the variable and the environment it was bound\n",
    "        in as a tuple. If it is not found raise a NameError as below\n",
    "        \"\"\"\n",
    "        raise NameError(\"{} not found in Environment\".format(vaiable))"
   ]
  },
  {
   "cell_type": "markdown",
   "metadata": {},
   "source": [
    "### Environment Implementation"
   ]
  },
  {
   "cell_type": "code",
   "execution_count": 2,
   "metadata": {
    "collapsed": false
   },
   "outputs": [
    {
     "data": {
      "text/plain": [
       "__main__.Env"
      ]
     },
     "execution_count": 2,
     "metadata": {},
     "output_type": "execute_result"
    }
   ],
   "source": [
    "class Env:\n",
    "    \"\"\"\n",
    "    Absfun: the dicionary {k1:v1, k2:v2,...} represents the\n",
    "    environment binding k1 to v1 and k2 to v2. There are no duplicates.\n",
    "    \n",
    "    The keys k must be strings, and the values v must be legitimate values\n",
    "    in our environment.\n",
    "    \n",
    "    The empty dictionary represents the empty environment.\n",
    "    \n",
    "    Repinv: Newer bindings replace older bindings in the dictionary. \n",
    "    This is guaranteed by using python dictionaries.\n",
    "    \"\"\"\n",
    "    \n",
    "    def __init__(self, outerenv=None):\n",
    "        self.env = dict()\n",
    "        self.outerenv = outerenv\n",
    "    \n",
    "    @classmethod\n",
    "    def empty(cls):\n",
    "        return cls()\n",
    "    \n",
    "    def extend(self, variable, value):\n",
    "        self.env[variable] = value\n",
    "        \n",
    "    def extend_many(self, envdict):\n",
    "        self.env.update(envdict)\n",
    "        \n",
    "    def lookup(self, key):\n",
    "        try:\n",
    "            found = self.env[key]\n",
    "            env = self\n",
    "        except KeyError:\n",
    "            if self.outerenv is not None:\n",
    "                found, env =self.outerenv.lookup(key)\n",
    "            else:\n",
    "                raise NameError(\"{} <<>> not found in Environment\".format(key))\n",
    "        return found, env\n",
    "            \n",
    "Environment.register(Env)"
   ]
  },
  {
   "cell_type": "markdown",
   "metadata": {},
   "source": [
    "### Parser"
   ]
  },
  {
   "cell_type": "code",
   "execution_count": 3,
   "metadata": {
    "collapsed": false
   },
   "outputs": [],
   "source": [
    "Symbol = str\n",
    "\n",
    "def typer(token):\n",
    "    if token == 'true':\n",
    "        return True\n",
    "    elif token == 'false':\n",
    "        return False\n",
    "    try:\n",
    "        t = int(token)\n",
    "        return t\n",
    "    except ValueError:\n",
    "        try:\n",
    "            t = float(token)\n",
    "            return t\n",
    "        except ValueError:\n",
    "            return Symbol(token)\n",
    "        \n",
    "def lex(loc):\n",
    "    tokenlist =  loc.replace('(', ' ( ').replace(')', ' ) ').split()\n",
    "    return [typer(t) for t in tokenlist]\n",
    "\n",
    "def syn(tokens):\n",
    "    if len(tokens) == 0:\n",
    "        return []\n",
    "    token = tokens.pop(0)\n",
    "    if token == '(':\n",
    "        L = []\n",
    "        while tokens[0] != ')':\n",
    "            L.append(syn(tokens))\n",
    "        tokens.pop(0) # pop off ')'\n",
    "        return L\n",
    "    else:\n",
    "        if token==')':\n",
    "            assert 1, \"should not have got here\"\n",
    "        return token\n",
    "    \n",
    "def parse(loc):\n",
    "    return syn(lex(loc))"
   ]
  },
  {
   "cell_type": "markdown",
   "metadata": {},
   "source": [
    "### Evaluator"
   ]
  },
  {
   "cell_type": "code",
   "execution_count": 4,
   "metadata": {
    "collapsed": false
   },
   "outputs": [],
   "source": [
    "def global_env(envclass):\n",
    "    \"An environment with some Scheme standard procedures.\"\n",
    "    import math, operator as op\n",
    "    env = envclass.empty()\n",
    "    env.extend_many(vars(math))\n",
    "    env.extend_many({\n",
    "        '+':op.add, '-':op.sub, '*':op.mul, '/':op.truediv, \n",
    "        'abs':     abs,\n",
    "        'max':     max,\n",
    "        'min':     min,\n",
    "        'round':   round,\n",
    "        '>':op.gt, '<':op.lt, '>=':op.ge, '<=':op.le, '==':op.eq,\n",
    "        'not':     op.not_\n",
    "    })\n",
    "    return env"
   ]
  },
  {
   "cell_type": "code",
   "execution_count": 5,
   "metadata": {
    "collapsed": true
   },
   "outputs": [],
   "source": [
    "class Function():\n",
    "    def __init__(self, params, parsedbody, env):\n",
    "        self.params = params\n",
    "        self.code = parsedbody\n",
    "        self.env = env\n",
    "        self.envclass = env.__class__\n",
    "        \n",
    "    def __call__(self, *args):\n",
    "        funcenv = self.envclass(outerenv = self.env)\n",
    "        funcenv.extend_many(zip(self.params, args))\n",
    "        return eval_ptree(self.code, funcenv)"
   ]
  },
  {
   "cell_type": "code",
   "execution_count": 6,
   "metadata": {
    "collapsed": false
   },
   "outputs": [],
   "source": [
    "def eval_ptree(x, env):\n",
    "    fmap={'#t':True, '#f':False, 'nil':None}\n",
    "    if x in ('#t', '#f', 'nil'):\n",
    "        return fmap[x]        \n",
    "    elif isinstance(x, Symbol):\n",
    "        # variable lookup\n",
    "        return env.lookup(x)[0]\n",
    "    elif not isinstance(x, list):  # constant\n",
    "        return x\n",
    "    elif len(x)==0: #noop\n",
    "        return None\n",
    "    elif x[0]=='if':\n",
    "        (_, predicate, truexpr, falseexpr) = x\n",
    "        if eval_ptree(predicate, env):\n",
    "            expression = truexpr\n",
    "        else:\n",
    "            expression = falseexpr\n",
    "        return eval_ptree(expression, env)\n",
    "    elif x[0] == 'def':         # variable definition\n",
    "        (_, var, expression) = x\n",
    "        #postorder traversal by nested eval is needed below\n",
    "        # your code here\n",
    "        env.extend(var, eval_ptree(expression, env))\n",
    "    elif x[0] == 'store':           # (set! var exp)\n",
    "        (_, var, exp) = x\n",
    "        env.lookup(var)[1].extend(var, eval_ptree(exp, env))\n",
    "    elif x[0] == 'func':\n",
    "        (_, parameters, parsedbody) = x\n",
    "        return Function(parameters, parsedbody, env)\n",
    "    else:                          # operator\n",
    "        op = eval_ptree(x[0], env)\n",
    "        #postorder traversal to get subexpressione before running the op\n",
    "        args = [eval_ptree(arg, env) for arg in x[1:]]\n",
    "        return op(*args)"
   ]
  },
  {
   "cell_type": "code",
   "execution_count": 7,
   "metadata": {
    "collapsed": true
   },
   "outputs": [],
   "source": [
    "class Program():\n",
    "    \n",
    "    def __init__(self, program, env):\n",
    "        self.program = [e.strip() for e in program.split('\\n')]\n",
    "        self.env = env\n",
    "        \n",
    "    def __iter__(self):\n",
    "        for line in self.program:\n",
    "            yield line\n",
    "    \n",
    "    def parse(self):\n",
    "        for l in iter(self):\n",
    "            yield parse(l)\n",
    "            \n",
    "    def run(self):\n",
    "        for l in iter(self):\n",
    "            yield eval_ptree(parse(l), self.env)"
   ]
  },
  {
   "cell_type": "markdown",
   "metadata": {},
   "source": [
    "### Driver to run the code"
   ]
  },
  {
   "cell_type": "code",
   "execution_count": 8,
   "metadata": {
    "collapsed": false
   },
   "outputs": [],
   "source": [
    "def backtolang(exp):\n",
    "    boolmap={True:'#t', False:'#f'}\n",
    "    if  isinstance(exp, list):\n",
    "        return '(' + ' '.join(map(backtolang, exp)) + ')' \n",
    "    elif isinstance(exp, bool):\n",
    "        return boolmap[exp]\n",
    "    elif exp is None:\n",
    "        return 'nil'\n",
    "    else:\n",
    "        return str(exp)\n",
    "    \n",
    "def repl(env, prompt='calc> '):\n",
    "    while True:\n",
    "        try:\n",
    "            val = eval_ptree(parse(input(prompt)), env)\n",
    "        except (KeyboardInterrupt, EOFError):\n",
    "            break\n",
    "        if val is not None: \n",
    "            print(backtolang(val))\n",
    "            \n"
   ]
  },
  {
   "cell_type": "code",
   "execution_count": 9,
   "metadata": {
    "collapsed": false,
    "scrolled": true
   },
   "outputs": [],
   "source": [
    "def run_program_asif_repl(program, env):\n",
    "    prog=Program(prpgram, globenv)\n",
    "    for result in p1c.run():\n",
    "        print(backtolang(result))"
   ]
  },
  {
   "cell_type": "code",
   "execution_count": 10,
   "metadata": {
    "collapsed": true
   },
   "outputs": [],
   "source": [
    "def run_program(program, env):\n",
    "    prog=Program(prpgram, globenv)\n",
    "    endit = None\n",
    "    for result in p1c.run():\n",
    "        endit = result\n",
    "    return endit"
   ]
  },
  {
   "cell_type": "code",
   "execution_count": 11,
   "metadata": {
    "collapsed": true
   },
   "outputs": [],
   "source": [
    "globenv = global_env(Env)"
   ]
  },
  {
   "cell_type": "code",
   "execution_count": 12,
   "metadata": {
    "collapsed": false
   },
   "outputs": [
    {
     "name": "stdout",
     "output_type": "stream",
     "text": [
      "calc> a\n"
     ]
    },
    {
     "ename": "NameError",
     "evalue": "a <<>> not found in Environment",
     "output_type": "error",
     "traceback": [
      "\u001b[0;31m---------------------------------------------------------------------------\u001b[0m",
      "\u001b[0;31mKeyError\u001b[0m                                  Traceback (most recent call last)",
      "\u001b[0;32m<ipython-input-2-d26b74362ea8>\u001b[0m in \u001b[0;36mlookup\u001b[0;34m(self, key)\u001b[0m\n\u001b[1;32m     30\u001b[0m         \u001b[0;32mtry\u001b[0m\u001b[0;34m:\u001b[0m\u001b[0;34m\u001b[0m\u001b[0m\n\u001b[0;32m---> 31\u001b[0;31m             \u001b[0mfound\u001b[0m \u001b[0;34m=\u001b[0m \u001b[0mself\u001b[0m\u001b[0;34m.\u001b[0m\u001b[0menv\u001b[0m\u001b[0;34m[\u001b[0m\u001b[0mkey\u001b[0m\u001b[0;34m]\u001b[0m\u001b[0;34m\u001b[0m\u001b[0m\n\u001b[0m\u001b[1;32m     32\u001b[0m             \u001b[0menv\u001b[0m \u001b[0;34m=\u001b[0m \u001b[0mself\u001b[0m\u001b[0;34m\u001b[0m\u001b[0m\n",
      "\u001b[0;31mKeyError\u001b[0m: 'a'",
      "\nDuring handling of the above exception, another exception occurred:\n",
      "\u001b[0;31mNameError\u001b[0m                                 Traceback (most recent call last)",
      "\u001b[0;32m<ipython-input-12-6c96d2f209ad>\u001b[0m in \u001b[0;36m<module>\u001b[0;34m()\u001b[0m\n\u001b[0;32m----> 1\u001b[0;31m \u001b[0mrepl\u001b[0m\u001b[0;34m(\u001b[0m\u001b[0mglobenv\u001b[0m\u001b[0;34m)\u001b[0m\u001b[0;31m# to get out of the repl in the notebook just cause an exception like below\u001b[0m\u001b[0;34m\u001b[0m\u001b[0m\n\u001b[0m",
      "\u001b[0;32m<ipython-input-8-9a9944844d5a>\u001b[0m in \u001b[0;36mrepl\u001b[0;34m(env, prompt)\u001b[0m\n\u001b[1;32m     13\u001b[0m     \u001b[0;32mwhile\u001b[0m \u001b[0;32mTrue\u001b[0m\u001b[0;34m:\u001b[0m\u001b[0;34m\u001b[0m\u001b[0m\n\u001b[1;32m     14\u001b[0m         \u001b[0;32mtry\u001b[0m\u001b[0;34m:\u001b[0m\u001b[0;34m\u001b[0m\u001b[0m\n\u001b[0;32m---> 15\u001b[0;31m             \u001b[0mval\u001b[0m \u001b[0;34m=\u001b[0m \u001b[0meval_ptree\u001b[0m\u001b[0;34m(\u001b[0m\u001b[0mparse\u001b[0m\u001b[0;34m(\u001b[0m\u001b[0minput\u001b[0m\u001b[0;34m(\u001b[0m\u001b[0mprompt\u001b[0m\u001b[0;34m)\u001b[0m\u001b[0;34m)\u001b[0m\u001b[0;34m,\u001b[0m \u001b[0menv\u001b[0m\u001b[0;34m)\u001b[0m\u001b[0;34m\u001b[0m\u001b[0m\n\u001b[0m\u001b[1;32m     16\u001b[0m         \u001b[0;32mexcept\u001b[0m \u001b[0;34m(\u001b[0m\u001b[0mKeyboardInterrupt\u001b[0m\u001b[0;34m,\u001b[0m \u001b[0mEOFError\u001b[0m\u001b[0;34m)\u001b[0m\u001b[0;34m:\u001b[0m\u001b[0;34m\u001b[0m\u001b[0m\n\u001b[1;32m     17\u001b[0m             \u001b[0;32mbreak\u001b[0m\u001b[0;34m\u001b[0m\u001b[0m\n",
      "\u001b[0;32m<ipython-input-6-735c5228de50>\u001b[0m in \u001b[0;36meval_ptree\u001b[0;34m(x, env)\u001b[0m\n\u001b[1;32m      5\u001b[0m     \u001b[0;32melif\u001b[0m \u001b[0misinstance\u001b[0m\u001b[0;34m(\u001b[0m\u001b[0mx\u001b[0m\u001b[0;34m,\u001b[0m \u001b[0mSymbol\u001b[0m\u001b[0;34m)\u001b[0m\u001b[0;34m:\u001b[0m\u001b[0;34m\u001b[0m\u001b[0m\n\u001b[1;32m      6\u001b[0m         \u001b[0;31m# variable lookup\u001b[0m\u001b[0;34m\u001b[0m\u001b[0;34m\u001b[0m\u001b[0m\n\u001b[0;32m----> 7\u001b[0;31m         \u001b[0;32mreturn\u001b[0m \u001b[0menv\u001b[0m\u001b[0;34m.\u001b[0m\u001b[0mlookup\u001b[0m\u001b[0;34m(\u001b[0m\u001b[0mx\u001b[0m\u001b[0;34m)\u001b[0m\u001b[0;34m[\u001b[0m\u001b[0;36m0\u001b[0m\u001b[0;34m]\u001b[0m\u001b[0;34m\u001b[0m\u001b[0m\n\u001b[0m\u001b[1;32m      8\u001b[0m     \u001b[0;32melif\u001b[0m \u001b[0;32mnot\u001b[0m \u001b[0misinstance\u001b[0m\u001b[0;34m(\u001b[0m\u001b[0mx\u001b[0m\u001b[0;34m,\u001b[0m \u001b[0mlist\u001b[0m\u001b[0;34m)\u001b[0m\u001b[0;34m:\u001b[0m  \u001b[0;31m# constant\u001b[0m\u001b[0;34m\u001b[0m\u001b[0m\n\u001b[1;32m      9\u001b[0m         \u001b[0;32mreturn\u001b[0m \u001b[0mx\u001b[0m\u001b[0;34m\u001b[0m\u001b[0m\n",
      "\u001b[0;32m<ipython-input-2-d26b74362ea8>\u001b[0m in \u001b[0;36mlookup\u001b[0;34m(self, key)\u001b[0m\n\u001b[1;32m     35\u001b[0m                 \u001b[0mfound\u001b[0m\u001b[0;34m,\u001b[0m \u001b[0menv\u001b[0m \u001b[0;34m=\u001b[0m\u001b[0mself\u001b[0m\u001b[0;34m.\u001b[0m\u001b[0mouterenv\u001b[0m\u001b[0;34m.\u001b[0m\u001b[0mlookup\u001b[0m\u001b[0;34m(\u001b[0m\u001b[0mkey\u001b[0m\u001b[0;34m)\u001b[0m\u001b[0;34m\u001b[0m\u001b[0m\n\u001b[1;32m     36\u001b[0m             \u001b[0;32melse\u001b[0m\u001b[0;34m:\u001b[0m\u001b[0;34m\u001b[0m\u001b[0m\n\u001b[0;32m---> 37\u001b[0;31m                 \u001b[0;32mraise\u001b[0m \u001b[0mNameError\u001b[0m\u001b[0;34m(\u001b[0m\u001b[0;34m\"{} <<>> not found in Environment\"\u001b[0m\u001b[0;34m.\u001b[0m\u001b[0mformat\u001b[0m\u001b[0;34m(\u001b[0m\u001b[0mkey\u001b[0m\u001b[0;34m)\u001b[0m\u001b[0;34m)\u001b[0m\u001b[0;34m\u001b[0m\u001b[0m\n\u001b[0m\u001b[1;32m     38\u001b[0m         \u001b[0;32mreturn\u001b[0m \u001b[0mfound\u001b[0m\u001b[0;34m,\u001b[0m \u001b[0menv\u001b[0m\u001b[0;34m\u001b[0m\u001b[0m\n\u001b[1;32m     39\u001b[0m \u001b[0;34m\u001b[0m\u001b[0m\n",
      "\u001b[0;31mNameError\u001b[0m: a <<>> not found in Environment"
     ]
    }
   ],
   "source": [
    "repl(globenv)# to get out of the repl in the notebook just cause an exception like below"
   ]
  },
  {
   "cell_type": "markdown",
   "metadata": {},
   "source": [
    "### Tests"
   ]
  },
  {
   "cell_type": "code",
   "execution_count": 13,
   "metadata": {
    "collapsed": true
   },
   "outputs": [],
   "source": [
    "p1 = \"\"\"\n",
    "(def ra 5)\n",
    "ra\n",
    "(if (== (> 2 3) #t) #f ra)\n",
    "\"\"\""
   ]
  },
  {
   "cell_type": "code",
   "execution_count": 14,
   "metadata": {
    "collapsed": true
   },
   "outputs": [],
   "source": [
    "program = \"\"\"\n",
    "(def rad 5)\n",
    "rad\n",
    "(def radiusfunc (func (radius) (* pi (* radius radius))))\n",
    "(radiusfunc rad)\n",
    "(def myvar 0)\n",
    "(if (== myvar 1) (store rad 6) (store rad 7))\n",
    "(radiusfunc rad)\n",
    "(== 1 1)\n",
    "\"\"\""
   ]
  },
  {
   "cell_type": "code",
   "execution_count": 15,
   "metadata": {
    "collapsed": false
   },
   "outputs": [
    {
     "data": {
      "text/plain": [
       "['',\n",
       " '(def rad 5)',\n",
       " 'rad',\n",
       " '(def radiusfunc (func (radius) (* pi (* radius radius))))',\n",
       " '(radiusfunc rad)',\n",
       " '(def myvar 0)',\n",
       " '(if (== myvar 1) (store rad 6) (store rad 7))',\n",
       " '(radiusfunc rad)',\n",
       " '(== 1 1)',\n",
       " '']"
      ]
     },
     "execution_count": 15,
     "metadata": {},
     "output_type": "execute_result"
    }
   ],
   "source": [
    "p=Program(program, globenv)\n",
    "list(iter(p))"
   ]
  },
  {
   "cell_type": "code",
   "execution_count": 16,
   "metadata": {
    "collapsed": false
   },
   "outputs": [
    {
     "name": "stdout",
     "output_type": "stream",
     "text": [
      "[]\n",
      "['def', 'rad', 5]\n",
      "rad\n",
      "['def', 'radiusfunc', ['func', ['radius'], ['*', 'pi', ['*', 'radius', 'radius']]]]\n",
      "['radiusfunc', 'rad']\n",
      "['def', 'myvar', 0]\n",
      "['if', ['==', 'myvar', 1], ['store', 'rad', 6], ['store', 'rad', 7]]\n",
      "['radiusfunc', 'rad']\n",
      "['==', 1, 1]\n",
      "[]\n"
     ]
    }
   ],
   "source": [
    "for s in p.parse():\n",
    "    print(s)"
   ]
  },
  {
   "cell_type": "code",
   "execution_count": 17,
   "metadata": {
    "collapsed": false
   },
   "outputs": [
    {
     "name": "stdout",
     "output_type": "stream",
     "text": [
      "nil\n",
      "nil\n",
      "5\n",
      "nil\n",
      "78.53981633974483\n",
      "nil\n",
      "nil\n",
      "153.93804002589985\n",
      "#t\n",
      "nil\n"
     ]
    }
   ],
   "source": [
    "for result in p.run():\n",
    "    print(backtolang(result))"
   ]
  },
  {
   "cell_type": "markdown",
   "metadata": {},
   "source": [
    "### pyscaffold\n",
    "\n",
    "Pyscaffold is a project which creates a scaffolding for us for a python project. We'll use it to understand the structure of a python project and the modules that go therein.\n",
    "\n",
    "Get into your `py35` virtual environment.\n",
    "We'll see:\n",
    "\n",
    "- the notion of a package module (also see https://docs.python.org/3/tutorial/modules.html)\n",
    "- generating documentation\n",
    "- doing tests on the fly\n",
    "- creating command line executables.\n",
    "- installing in development mode (`pip install -e .`)\n",
    "- uninstalling(`pip uninstall packagename`)\n",
    "\n",
    "Create a \"skeleton project\" witht he incantation (mit license for example)\n",
    "\n",
    "`putup -l mit --with-travis projectname`"
   ]
  },
  {
   "cell_type": "code",
   "execution_count": 100,
   "metadata": {
    "collapsed": false
   },
   "outputs": [
    {
     "name": "stdout",
     "output_type": "stream",
     "text": [
      "usage: putup [-h] [-p NAME] [-d TEXT] [-u URL] [-l LICENSE] [-f] [-U]\r\n",
      "             [--with-namespace NS1[.NS2]]\r\n",
      "             [--with-cookiecutter TEMPLATE | --with-django] [--with-travis]\r\n",
      "             [--with-pre-commit] [--with-tox] [-v]\r\n",
      "             PROJECT\r\n",
      "\r\n",
      "PyScaffold is a tool for easily putting up the scaffold of a Python project.\r\n",
      "\r\n",
      "positional arguments:\r\n",
      "  PROJECT               project name\r\n",
      "\r\n",
      "optional arguments:\r\n",
      "  -h, --help            show this help message and exit\r\n",
      "  -p NAME, --package NAME\r\n",
      "                        package name (default: project name)\r\n",
      "  -d TEXT, --description TEXT\r\n",
      "                        package description (default: '')\r\n",
      "  -u URL, --url URL     package url (default: '')\r\n",
      "  -l LICENSE, --license LICENSE\r\n",
      "                        package license from dict_keys(['none', 'lgpl2',\r\n",
      "                        'affero', 'gpl3', 'cc0', 'eclipse', 'public-domain',\r\n",
      "                        'new-bsd', 'proprietary', 'artistic', 'apache',\r\n",
      "                        'simple-bsd', 'isc', 'mozilla', 'lgpl3', 'mit',\r\n",
      "                        'gpl2']) (default: No license)\r\n",
      "  -f, --force           force overwriting an existing directory\r\n",
      "  -U, --update          update an existing project by replacing the most\r\n",
      "                        important files like setup.py etc. Use additionally\r\n",
      "                        --force to replace all scaffold files.\r\n",
      "  --with-namespace NS1[.NS2]\r\n",
      "                        put your project inside a namespace package\r\n",
      "  --with-cookiecutter TEMPLATE\r\n",
      "                        additionally apply a cookiecutter template\r\n",
      "  --with-django         generate Django project files\r\n",
      "  --with-travis         generate Travis configuration files\r\n",
      "  --with-pre-commit     generate pre-commit configuration file\r\n",
      "  --with-tox            generate Tox configuration file\r\n",
      "  -v, --version         show program's version number and exit\r\n"
     ]
    }
   ],
   "source": [
    "!putup -h"
   ]
  },
  {
   "cell_type": "markdown",
   "metadata": {},
   "source": [
    "We'll now go look inside."
   ]
  },
  {
   "cell_type": "markdown",
   "metadata": {},
   "source": [
    "`python setup.py` incantations:\n",
    "\n",
    "\n",
    "- python setup.py --help-commands\n",
    "- python setup.py install\n",
    "- pip install -e .\n",
    "- python setup.py sdist\n",
    "- python setup.py tests\n",
    "- python setup.py doctest\n",
    "- python setup.py docs\n",
    "- python setup.py --help\n",
    "- python setup.py build\n",
    "- python setup.py clean\n",
    "- python setup.py develop"
   ]
  },
  {
   "cell_type": "markdown",
   "metadata": {},
   "source": [
    "### The stupidlang package\n",
    "\n",
    "I used the template here to create a package for our language. Go get it here: https://github.com/rahuldave/stupidlang . As a lab, we'll play a game of documenting it, testing it, etc.\n",
    "\n",
    "Also see http://python-packaging-user-guide.readthedocs.org/en/latest/distributing/#requirements-for-packaging-and-distributing.\n",
    "\n",
    "What we'll learn?\n",
    "\n",
    "- how to do command lines\n",
    "- how relative imports work\n",
    "- installing into virtual environments (`conda create py35-test`). Also see http://conda.pydata.org/docs/using/envs.html and http://docs.python-guide.org/en/latest/dev/virtualenvs/.\n",
    "- capturing environments(`pip freeze > requirements.txt`, `pip install -r requirements.txt` ) and (`conda env export > environment.yml`, `conda env create -f environment.yml`)\n",
    "- getting stuff working on travis and with coveralls."
   ]
  },
  {
   "cell_type": "code",
   "execution_count": null,
   "metadata": {
    "collapsed": true
   },
   "outputs": [],
   "source": []
  }
 ],
 "metadata": {
  "kernelspec": {
   "display_name": "Python 3",
   "language": "python",
   "name": "python3"
  },
  "language_info": {
   "codemirror_mode": {
    "name": "ipython",
    "version": 3
   },
   "file_extension": ".py",
   "mimetype": "text/x-python",
   "name": "python",
   "nbconvert_exporter": "python",
   "pygments_lexer": "ipython3",
   "version": "3.5.1"
  }
 },
 "nbformat": 4,
 "nbformat_minor": 0
}
