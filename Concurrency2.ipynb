{
 "cells": [
  {
   "cell_type": "markdown",
   "metadata": {},
   "source": [
    "### FUTURES \n",
    "\n",
    "A future, or promise, is something that represents a pending operation and returns straight away. One can then query their state of completion, or register callbacks to be called on successful completion or error.\n",
    "\n",
    "Adapted from Fluent Python."
   ]
  },
  {
   "cell_type": "code",
   "execution_count": 85,
   "metadata": {
    "collapsed": false
   },
   "outputs": [],
   "source": [
    "import time"
   ]
  },
  {
   "cell_type": "markdown",
   "metadata": {},
   "source": [
    "#### Serial sleeping"
   ]
  },
  {
   "cell_type": "code",
   "execution_count": 78,
   "metadata": {
    "collapsed": false
   },
   "outputs": [
    {
     "ename": "NameError",
     "evalue": "name 'serial_main' is not defined",
     "output_type": "error",
     "traceback": [
      "\u001b[0;31m---------------------------------------------------------------------------\u001b[0m",
      "\u001b[0;31mNameError\u001b[0m                                 Traceback (most recent call last)",
      "\u001b[0;32m<ipython-input-78-96a4195d5e64>\u001b[0m in \u001b[0;36m<module>\u001b[0;34m()\u001b[0m\n\u001b[0;32m----> 1\u001b[0;31m \u001b[0mserial_main\u001b[0m\u001b[0;34m(\u001b[0m\u001b[0mrange\u001b[0m\u001b[0;34m(\u001b[0m\u001b[0;36m20\u001b[0m\u001b[0;34m)\u001b[0m\u001b[0;34m)\u001b[0m\u001b[0;34m\u001b[0m\u001b[0m\n\u001b[0m",
      "\u001b[0;31mNameError\u001b[0m: name 'serial_main' is not defined"
     ]
    }
   ],
   "source": [
    "serial_main(range(20))"
   ]
  },
  {
   "cell_type": "markdown",
   "metadata": {},
   "source": [
    "#### concurrent sleeping using threads"
   ]
  },
  {
   "cell_type": "code",
   "execution_count": 86,
   "metadata": {
    "collapsed": true
   },
   "outputs": [],
   "source": [
    "from concurrent import futures\n",
    "def get_many_threaded1(it):\n",
    "    workers = 10\n",
    "    with futures.ThreadPoolExecutor(max_workers=workers) as executor:\n",
    "        res = executor.map(get_thing, it)\n",
    "    return len(list(res))\n",
    "def threaded_main1(it):\n",
    "    t0 = time.time()\n",
    "    count = get_many_threaded1(it)\n",
    "    elapsed = time.time() - t0\n",
    "    msg = '\\n{} things got in {:.2f}s' \n",
    "    print(msg.format(count, elapsed))"
   ]
  },
  {
   "cell_type": "code",
   "execution_count": 87,
   "metadata": {
    "collapsed": false
   },
   "outputs": [
    {
     "ename": "NameError",
     "evalue": "name 'get_thing' is not defined",
     "output_type": "error",
     "traceback": [
      "\u001b[0;31m---------------------------------------------------------------------------\u001b[0m",
      "\u001b[0;31mNameError\u001b[0m                                 Traceback (most recent call last)",
      "\u001b[0;32m<ipython-input-87-5307eccd4751>\u001b[0m in \u001b[0;36m<module>\u001b[0;34m()\u001b[0m\n\u001b[0;32m----> 1\u001b[0;31m \u001b[0mthreaded_main1\u001b[0m\u001b[0;34m(\u001b[0m\u001b[0mrange\u001b[0m\u001b[0;34m(\u001b[0m\u001b[0;36m20\u001b[0m\u001b[0;34m)\u001b[0m\u001b[0;34m)\u001b[0m\u001b[0;34m\u001b[0m\u001b[0m\n\u001b[0m",
      "\u001b[0;32m<ipython-input-86-0dbf9da484e8>\u001b[0m in \u001b[0;36mthreaded_main1\u001b[0;34m(it)\u001b[0m\n\u001b[1;32m      7\u001b[0m \u001b[0;32mdef\u001b[0m \u001b[0mthreaded_main1\u001b[0m\u001b[0;34m(\u001b[0m\u001b[0mit\u001b[0m\u001b[0;34m)\u001b[0m\u001b[0;34m:\u001b[0m\u001b[0;34m\u001b[0m\u001b[0m\n\u001b[1;32m      8\u001b[0m     \u001b[0mt0\u001b[0m \u001b[0;34m=\u001b[0m \u001b[0mtime\u001b[0m\u001b[0;34m.\u001b[0m\u001b[0mtime\u001b[0m\u001b[0;34m(\u001b[0m\u001b[0;34m)\u001b[0m\u001b[0;34m\u001b[0m\u001b[0m\n\u001b[0;32m----> 9\u001b[0;31m     \u001b[0mcount\u001b[0m \u001b[0;34m=\u001b[0m \u001b[0mget_many_threaded1\u001b[0m\u001b[0;34m(\u001b[0m\u001b[0mit\u001b[0m\u001b[0;34m)\u001b[0m\u001b[0;34m\u001b[0m\u001b[0m\n\u001b[0m\u001b[1;32m     10\u001b[0m     \u001b[0melapsed\u001b[0m \u001b[0;34m=\u001b[0m \u001b[0mtime\u001b[0m\u001b[0;34m.\u001b[0m\u001b[0mtime\u001b[0m\u001b[0;34m(\u001b[0m\u001b[0;34m)\u001b[0m \u001b[0;34m-\u001b[0m \u001b[0mt0\u001b[0m\u001b[0;34m\u001b[0m\u001b[0m\n\u001b[1;32m     11\u001b[0m     \u001b[0mmsg\u001b[0m \u001b[0;34m=\u001b[0m \u001b[0;34m'\\n{} things got in {:.2f}s'\u001b[0m\u001b[0;34m\u001b[0m\u001b[0m\n",
      "\u001b[0;32m<ipython-input-86-0dbf9da484e8>\u001b[0m in \u001b[0;36mget_many_threaded1\u001b[0;34m(it)\u001b[0m\n\u001b[1;32m      3\u001b[0m     \u001b[0mworkers\u001b[0m \u001b[0;34m=\u001b[0m \u001b[0;36m10\u001b[0m\u001b[0;34m\u001b[0m\u001b[0m\n\u001b[1;32m      4\u001b[0m     \u001b[0;32mwith\u001b[0m \u001b[0mfutures\u001b[0m\u001b[0;34m.\u001b[0m\u001b[0mThreadPoolExecutor\u001b[0m\u001b[0;34m(\u001b[0m\u001b[0mmax_workers\u001b[0m\u001b[0;34m=\u001b[0m\u001b[0mworkers\u001b[0m\u001b[0;34m)\u001b[0m \u001b[0;32mas\u001b[0m \u001b[0mexecutor\u001b[0m\u001b[0;34m:\u001b[0m\u001b[0;34m\u001b[0m\u001b[0m\n\u001b[0;32m----> 5\u001b[0;31m         \u001b[0mres\u001b[0m \u001b[0;34m=\u001b[0m \u001b[0mexecutor\u001b[0m\u001b[0;34m.\u001b[0m\u001b[0mmap\u001b[0m\u001b[0;34m(\u001b[0m\u001b[0mget_thing\u001b[0m\u001b[0;34m,\u001b[0m \u001b[0mit\u001b[0m\u001b[0;34m)\u001b[0m\u001b[0;34m\u001b[0m\u001b[0m\n\u001b[0m\u001b[1;32m      6\u001b[0m     \u001b[0;32mreturn\u001b[0m \u001b[0mlen\u001b[0m\u001b[0;34m(\u001b[0m\u001b[0mlist\u001b[0m\u001b[0;34m(\u001b[0m\u001b[0mres\u001b[0m\u001b[0;34m)\u001b[0m\u001b[0;34m)\u001b[0m\u001b[0;34m\u001b[0m\u001b[0m\n\u001b[1;32m      7\u001b[0m \u001b[0;32mdef\u001b[0m \u001b[0mthreaded_main1\u001b[0m\u001b[0;34m(\u001b[0m\u001b[0mit\u001b[0m\u001b[0;34m)\u001b[0m\u001b[0;34m:\u001b[0m\u001b[0;34m\u001b[0m\u001b[0m\n",
      "\u001b[0;31mNameError\u001b[0m: name 'get_thing' is not defined"
     ]
    }
   ],
   "source": [
    "threaded_main1(range(20))"
   ]
  },
  {
   "cell_type": "markdown",
   "metadata": {},
   "source": [
    "One might think that the concurrent IO (or sleeping) case is limited by the GIL, but in both cases, the GIL is yielded. Thus there is no waiting around.\n",
    "\n",
    "The GIL is harmless if code is being run in the context of python library IO or code running in properly coded C extensions like numpy.  The time.sleep() function also releases the GIL. Python threads are totally usable in I/O-bound applications."
   ]
  },
  {
   "cell_type": "markdown",
   "metadata": {},
   "source": [
    "### Threads\n",
    "\n",
    "threads vs processes\n",
    "\n",
    "On linux\n",
    "\n",
    "- processes created by fork()\n",
    "- have a primary thread\n",
    "- thread is the unit of execution\n",
    "- process is a container, can have more threads\n",
    "- can be scheduled across different cores/cpus\n",
    "\n",
    "```c\n",
    "int pid;\n",
    "int status = 0;\n",
    "/* fork returns pid of child to parent and 0 to child*/\n",
    "if (pid = fork()) {\n",
    "    /* parent code */\n",
    "    pid = wait(&status);\n",
    "    /*wait returns child pid and status*/\n",
    "} else {\n",
    "    /* child  code*/\n",
    "    exit(status);\n",
    "} \n",
    "```\n",
    "\n",
    "- threads in a process share same address space (share it entirely)\n",
    "- thread abstraction decouples resource allocation from control\n",
    "- defines a single sequential execution stream with PC, stack, register values\n",
    "- process handles: address space, global variables, open files, child processes, pending alarms, signals and signal handlers, accounting info\n",
    "- thread handles program counter, registers, stack, and state\n",
    "- user vs kernel threads"
   ]
  },
  {
   "cell_type": "code",
   "execution_count": 88,
   "metadata": {
    "collapsed": false
   },
   "outputs": [],
   "source": [
    "def fib(n):\n",
    "    return fib(n - 1) + fib(n - 2) if n > 1 else n"
   ]
  },
  {
   "cell_type": "code",
   "execution_count": 89,
   "metadata": {
    "collapsed": false
   },
   "outputs": [
    {
     "name": "stdout",
     "output_type": "stream",
     "text": [
      "fib(0) is 0\n",
      "fib(1) is 1\n",
      "fib(2) is 1\n",
      "fib(3) is 2\n",
      "fib(4) is 3\n",
      "fib(5) is 5\n",
      "fib(6) is 8\n",
      "fib(7) is 13\n",
      "fib(8) is 21\n",
      "fib(9) is 34\n",
      "fib(10) is 55\n",
      "fib(11) is 89\n",
      "fib(12) is 144\n",
      "fib(13) is 233\n",
      "fib(14) is 377\n",
      "fib(15) is 610\n",
      "fib(16) is 987\n",
      "fib(17) is 1597\n",
      "fib(18) is 2584\n",
      "fib(19) is 4181\n",
      "fib(20) is 6765\n",
      "fib(21) is 10946\n",
      "fib(22) is 17711\n",
      "fib(23) is 28657\n",
      "fib(24) is 46368\n",
      "fib(25) is 75025\n",
      "fib(26) is 121393\n",
      "fib(27) is 196418\n",
      "fib(28) is 317811\n",
      "fib(29) is 514229\n",
      "fib(30) is 832040\n",
      "fib(31) is 1346269\n",
      "fib(32) is 2178309\n",
      "fib(33) is 3524578\n",
      "fib(34) is 5702887\n",
      "cpuy2 fib(0) is 0\n",
      "cpuy2 fib(1) is 1\n",
      "cpuy2 fib(2) is 1\n",
      "cpuy2 fib(3) is 2\n",
      "cpuy2 fib(4) is 3\n",
      "cpuy2 fib(5) is 5\n",
      "cpuy2 fib(6) is 8\n",
      "cpuy2 fib(7) is 13\n",
      "cpuy2 fib(8) is 21\n",
      "cpuy2 fib(9) is 34\n",
      "cpuy2 fib(10) is 55\n",
      "cpuy2 fib(11) is 89\n",
      "cpuy2 fib(12) is 144\n",
      "cpuy2 fib(13) is 233\n",
      "cpuy2 fib(14) is 377\n",
      "cpuy2 fib(15) is 610\n",
      "cpuy2 fib(16) is 987\n",
      "cpuy2 fib(17) is 1597\n",
      "cpuy2 fib(18) is 2584\n",
      "cpuy2 fib(19) is 4181\n",
      "cpuy2 fib(20) is 6765\n",
      "cpuy2 fib(21) is 10946\n",
      "cpuy2 fib(22) is 17711\n",
      "cpuy2 fib(23) is 28657\n",
      "cpuy2 fib(24) is 46368\n",
      "cpuy2 fib(25) is 75025\n",
      "cpuy2 fib(26) is 121393\n",
      "cpuy2 fib(27) is 196418\n",
      "cpuy2 fib(28) is 317811\n",
      "cpuy2 fib(29) is 514229\n",
      "cpuy2 fib(30) is 832040\n",
      "cpuy2 fib(31) is 1346269\n",
      "cpuy2 fib(32) is 2178309\n",
      "cpuy2 fib(33) is 3524578\n",
      "cpuy2 fib(34) is 5702887\n",
      "serial elapsed: 16.265708923339844\n",
      "cpuy2 fib(0) is 0\n",
      "cpuy2 fib(1) is 1\n",
      "cpuy2 fib(2) is 1\n",
      "cpuy2 fib(3) is 2\n",
      "cpuy2 fib(4) is 3\n",
      "cpuy2 fib(5) is 5\n",
      "cpuy2 fib(6) is 8\n",
      "cpuy2 fib(7) is 13\n",
      "cpuy2 fib(8) is 21\n",
      "cpuy2 fib(9) is 34\n",
      "cpuy2 fib(10) is 55\n",
      "cpuy2 fib(11) is 89\n",
      "cpuy2 fib(12) is 144\n",
      "cpuy2 fib(13) is 233\n",
      "cpuy2 fib(14) is 377\n",
      "cpuy2 fib(15) is 610\n",
      "cpuy2 fib(16) is 987\n",
      "cpuy2 fib(17) is 1597\n",
      "cpuy2 fib(18) is 2584\n",
      "cpuy2 fib(19) is 4181\n",
      "fib(0) is 0\n",
      "fib(1) is 1\n",
      "fib(2) is 1\n",
      "fib(3) is 2\n",
      "fib(4) is 3\n",
      "fib(5) is 5\n",
      "fib(6) is 8\n",
      "fib(7) is 13\n",
      "fib(8) is 21\n",
      "fib(9) is 34\n",
      "fib(10) is 55\n",
      "fib(11) is 89\n",
      "fib(12) is 144\n",
      "fib(13) is 233\n",
      "fib(14) is 377\n",
      "fib(15) is 610\n",
      "fib(16) is 987\n",
      "fib(17) is 1597\n",
      "fib(18) is 2584\n",
      "fib(19) is 4181\n",
      "cpuy2 fib(20) is 6765\n",
      "fib(20) is 6765\n",
      "cpuy2 fib(21) is 10946\n",
      "fib(21) is 10946\n",
      "cpuy2 fib(22) is 17711\n",
      "fib(22) is 17711cpuy2 fib(23) is 28657\n",
      "\n",
      "cpuy2 fib(24) is 46368\n",
      "fib(23) is 28657\n",
      "fib(24) is 46368\n",
      "cpuy2 fib(25) is 75025\n",
      "fib(25) is 75025\n",
      "cpuy2 fib(26) is 121393\n",
      "fib(26) is 121393\n",
      "cpuy2 fib(27) is 196418\n",
      "fib(27) is 196418\n",
      "cpuy2 fib(28) is 317811\n",
      "fib(28) is 317811\n",
      "cpuy2 fib(29) is 514229\n",
      "fib(29) is 514229\n",
      "cpuy2 fib(30) is 832040\n",
      "fib(30) is 832040\n",
      "cpuy2 fib(31) is 1346269\n",
      "fib(31) is 1346269\n",
      "cpuy2 fib(32) is 2178309\n",
      "fib(32) is 2178309\n",
      "cpuy2 fib(33) is 3524578\n",
      "fib(33) is 3524578\n",
      "cpuy2 fib(34) is 5702887\n",
      "fib(34) is 5702887\n",
      "thread elapsed: 18.158565998077393\n"
     ]
    }
   ],
   "source": [
    "from threading import Thread\n",
    "from time import sleep\n",
    "from time import time\n",
    "\n",
    "\n",
    "def sleepy(): #like io\n",
    "    i=0\n",
    "    while i < 10:\n",
    "        print(\"{} -- {} Sleepy!\".format(i, int(time())), flush=True)\n",
    "        sleep(3)\n",
    "        i += 1\n",
    "\n",
    "\n",
    "def cpuy():\n",
    "    for i in range(35):\n",
    "        val = fib(i)\n",
    "        print(\"fib({}) is {}\".format(i, val))\n",
    "\n",
    "def cpuy2():\n",
    "    for i in range(35):\n",
    "        val = fib(i)\n",
    "        print(\"cpuy2 fib({}) is {}\".format(i, val))\n",
    "        \n",
    "def main():\n",
    "    # Second thread will print the hello message. Starting as a daemon means\n",
    "    # the thread will not prevent the process from exiting.\n",
    "    start = time()\n",
    "    cpuy()\n",
    "    cpuy2()\n",
    "    print(\"serial elapsed:\", time() - start)\n",
    "    start=time()\n",
    "    #t = Thread(target=sleepy)\n",
    "    #t.start()\n",
    "    t2 = Thread(target=cpuy2)\n",
    "    t2.start()\n",
    "    # Main thread will read and process input\n",
    "    cpuy()\n",
    "    print(\"thread elapsed:\", time() - start)\n",
    "if __name__ == '__main__':\n",
    "    main()"
   ]
  },
  {
   "cell_type": "markdown",
   "metadata": {},
   "source": [
    "### Processes with concurrent futures.\n",
    "\n",
    "CPU based processing wont release the gil, and is thus best done in a separate process. For illustration, we show what this looks like."
   ]
  },
  {
   "cell_type": "code",
   "execution_count": 94,
   "metadata": {
    "collapsed": true
   },
   "outputs": [],
   "source": [
    "def get_many_process(it, workers=None):\n",
    "    if workers:\n",
    "        with futures.ProcessPoolExecutor(max_workers=workers) as executor:\n",
    "            res = executor.map(get_thing, it)\n",
    "    else:\n",
    "        with futures.ProcessPoolExecutor() as executor:\n",
    "            res = executor.map(get_thing, it)\n",
    "    return len(list(res))\n",
    "\n",
    "def process_main(it, workers=None):\n",
    "    t0 = time()\n",
    "    count = get_many_process(it, workers)\n",
    "    elapsed = time() - t0\n",
    "    msg = '\\n{} things got in {:.2f}s' \n",
    "    print(msg.format(count, elapsed))"
   ]
  },
  {
   "cell_type": "code",
   "execution_count": 95,
   "metadata": {
    "collapsed": false
   },
   "outputs": [
    {
     "ename": "NameError",
     "evalue": "name 'get_thing' is not defined",
     "output_type": "error",
     "traceback": [
      "\u001b[0;31m---------------------------------------------------------------------------\u001b[0m",
      "\u001b[0;31mNameError\u001b[0m                                 Traceback (most recent call last)",
      "\u001b[0;32m<ipython-input-95-ddf7596b5bfc>\u001b[0m in \u001b[0;36m<module>\u001b[0;34m()\u001b[0m\n\u001b[0;32m----> 1\u001b[0;31m \u001b[0mprocess_main\u001b[0m\u001b[0;34m(\u001b[0m\u001b[0mrange\u001b[0m\u001b[0;34m(\u001b[0m\u001b[0;36m20\u001b[0m\u001b[0;34m)\u001b[0m\u001b[0;34m)\u001b[0m\u001b[0;34m\u001b[0m\u001b[0m\n\u001b[0m",
      "\u001b[0;32m<ipython-input-94-0343bbf0a0de>\u001b[0m in \u001b[0;36mprocess_main\u001b[0;34m(it, workers)\u001b[0m\n\u001b[1;32m     10\u001b[0m \u001b[0;32mdef\u001b[0m \u001b[0mprocess_main\u001b[0m\u001b[0;34m(\u001b[0m\u001b[0mit\u001b[0m\u001b[0;34m,\u001b[0m \u001b[0mworkers\u001b[0m\u001b[0;34m=\u001b[0m\u001b[0;32mNone\u001b[0m\u001b[0;34m)\u001b[0m\u001b[0;34m:\u001b[0m\u001b[0;34m\u001b[0m\u001b[0m\n\u001b[1;32m     11\u001b[0m     \u001b[0mt0\u001b[0m \u001b[0;34m=\u001b[0m \u001b[0mtime\u001b[0m\u001b[0;34m(\u001b[0m\u001b[0;34m)\u001b[0m\u001b[0;34m\u001b[0m\u001b[0m\n\u001b[0;32m---> 12\u001b[0;31m     \u001b[0mcount\u001b[0m \u001b[0;34m=\u001b[0m \u001b[0mget_many_process\u001b[0m\u001b[0;34m(\u001b[0m\u001b[0mit\u001b[0m\u001b[0;34m,\u001b[0m \u001b[0mworkers\u001b[0m\u001b[0;34m)\u001b[0m\u001b[0;34m\u001b[0m\u001b[0m\n\u001b[0m\u001b[1;32m     13\u001b[0m     \u001b[0melapsed\u001b[0m \u001b[0;34m=\u001b[0m \u001b[0mtime\u001b[0m\u001b[0;34m(\u001b[0m\u001b[0;34m)\u001b[0m \u001b[0;34m-\u001b[0m \u001b[0mt0\u001b[0m\u001b[0;34m\u001b[0m\u001b[0m\n\u001b[1;32m     14\u001b[0m     \u001b[0mmsg\u001b[0m \u001b[0;34m=\u001b[0m \u001b[0;34m'\\n{} things got in {:.2f}s'\u001b[0m\u001b[0;34m\u001b[0m\u001b[0m\n",
      "\u001b[0;32m<ipython-input-94-0343bbf0a0de>\u001b[0m in \u001b[0;36mget_many_process\u001b[0;34m(it, workers)\u001b[0m\n\u001b[1;32m      5\u001b[0m     \u001b[0;32melse\u001b[0m\u001b[0;34m:\u001b[0m\u001b[0;34m\u001b[0m\u001b[0m\n\u001b[1;32m      6\u001b[0m         \u001b[0;32mwith\u001b[0m \u001b[0mfutures\u001b[0m\u001b[0;34m.\u001b[0m\u001b[0mProcessPoolExecutor\u001b[0m\u001b[0;34m(\u001b[0m\u001b[0;34m)\u001b[0m \u001b[0;32mas\u001b[0m \u001b[0mexecutor\u001b[0m\u001b[0;34m:\u001b[0m\u001b[0;34m\u001b[0m\u001b[0m\n\u001b[0;32m----> 7\u001b[0;31m             \u001b[0mres\u001b[0m \u001b[0;34m=\u001b[0m \u001b[0mexecutor\u001b[0m\u001b[0;34m.\u001b[0m\u001b[0mmap\u001b[0m\u001b[0;34m(\u001b[0m\u001b[0mget_thing\u001b[0m\u001b[0;34m,\u001b[0m \u001b[0mit\u001b[0m\u001b[0;34m)\u001b[0m\u001b[0;34m\u001b[0m\u001b[0m\n\u001b[0m\u001b[1;32m      8\u001b[0m     \u001b[0;32mreturn\u001b[0m \u001b[0mlen\u001b[0m\u001b[0;34m(\u001b[0m\u001b[0mlist\u001b[0m\u001b[0;34m(\u001b[0m\u001b[0mres\u001b[0m\u001b[0;34m)\u001b[0m\u001b[0;34m)\u001b[0m\u001b[0;34m\u001b[0m\u001b[0m\n\u001b[1;32m      9\u001b[0m \u001b[0;34m\u001b[0m\u001b[0m\n",
      "\u001b[0;31mNameError\u001b[0m: name 'get_thing' is not defined"
     ]
    }
   ],
   "source": [
    "process_main(range(20))"
   ]
  },
  {
   "cell_type": "code",
   "execution_count": 33,
   "metadata": {
    "collapsed": false
   },
   "outputs": [
    {
     "name": "stdout",
     "output_type": "stream",
     "text": [
      "\n",
      "20 things got in 2.07s\n"
     ]
    }
   ],
   "source": [
    "process_main(range(20), workers=10)"
   ]
  },
  {
   "cell_type": "code",
   "execution_count": 8,
   "metadata": {
    "collapsed": false
   },
   "outputs": [
    {
     "name": "stdout",
     "output_type": "stream",
     "text": [
      "__main__\n"
     ]
    }
   ],
   "source": [
    "print(__name__)"
   ]
  },
  {
   "cell_type": "code",
   "execution_count": 96,
   "metadata": {
    "collapsed": false
   },
   "outputs": [
    {
     "name": "stdout",
     "output_type": "stream",
     "text": [
      "fib(0) is 0\n",
      "fib(1) is 1\n",
      "fib(2) is 1\n",
      "fib(3) is 2\n",
      "fib(4) is 3\n",
      "fib(5) is 5\n",
      "fib(6) is 8\n",
      "fib(7) is 13\n",
      "fib(8) is 21\n",
      "fib(9) is 34\n",
      "fib(10) is 55\n",
      "fib(11) is 89\n",
      "fib(12) is 144\n",
      "fib(13) is 233\n",
      "fib(14) is 377\n",
      "fib(15) is 610\n",
      "fib(16) is 987\n",
      "fib(17) is 1597\n",
      "fib(18) is 2584\n",
      "fib(19) is 4181\n",
      "fib(20) is 6765\n",
      "fib(21) is 10946\n",
      "fib(22) is 17711\n",
      "fib(23) is 28657cpuy2 fib(0) is 0\n",
      "cpuy2 fib(1) is 1\n",
      "cpuy2 fib(2) is 1\n",
      "cpuy2 fib(3) is 2\n",
      "cpuy2 fib(4) is 3\n",
      "cpuy2 fib(5) is 5\n",
      "cpuy2 fib(6) is 8\n",
      "cpuy2 fib(7) is 13\n",
      "cpuy2 fib(8) is 21\n",
      "cpuy2 fib(9) is 34\n",
      "cpuy2 fib(10) is 55\n",
      "cpuy2 fib(11) is 89\n",
      "cpuy2 fib(12) is 144\n",
      "cpuy2 fib(13) is 233\n",
      "cpuy2 fib(14) is 377\n",
      "cpuy2 fib(15) is 610\n",
      "cpuy2 fib(16) is 987\n",
      "cpuy2 fib(17) is 1597\n",
      "cpuy2 fib(18) is 2584\n",
      "cpuy2 fib(19) is 4181\n",
      "cpuy2 fib(20) is 6765\n",
      "cpuy2 fib(21) is 10946\n",
      "\n",
      "fib(24) is 46368\n",
      "fib(25) is 75025cpuy2 fib(22) is 17711\n",
      "cpuy2 fib(23) is 28657\n",
      "cpuy2 fib(24) is 46368\n",
      "\n",
      "fib(26) is 121393cpuy2 fib(25) is 75025\n",
      "\n",
      "fib(27) is 196418cpuy2 fib(26) is 121393\n",
      "\n",
      "fib(28) is 317811cpuy2 fib(27) is 196418\n",
      "\n",
      "fib(29) is 514229cpuy2 fib(28) is 317811\n",
      "\n",
      "fib(30) is 832040cpuy2 fib(29) is 514229\n",
      "\n",
      "fib(31) is 1346269cpuy2 fib(30) is 832040\n",
      "\n",
      "fib(32) is 2178309cpuy2 fib(31) is 1346269\n",
      "\n",
      "fib(33) is 3524578cpuy2 fib(32) is 2178309\n",
      "cpuy2 fib(33) is 3524578\n",
      "\n",
      "fib(34) is 5702887cpuy2 fib(34) is 5702887\n",
      "\n",
      "mp elapsed: 9.405884027481079\n"
     ]
    }
   ],
   "source": [
    "import multiprocessing\n",
    "start = time()\n",
    "p=multiprocessing.Process(target=cpuy2)\n",
    "p.start()\n",
    "cpuy()\n",
    "p.join()\n",
    "print(\"mp elapsed:\", time() - start)"
   ]
  },
  {
   "cell_type": "markdown",
   "metadata": {},
   "source": [
    "### sockets\n",
    "\n",
    "- distinction between \"client socket\" and \"server socket\"\n",
    "- default `socket.socket(family=AF_INET, type=SOCK_STREAM, proto=0, fileno=None)`\n",
    "- server socket sits and creates client sockets\n",
    "- non-blocking sockets and the `select` system call\n",
    "\n",
    "Read: https://docs.python.org/3.5/howto/sockets.html"
   ]
  },
  {
   "cell_type": "markdown",
   "metadata": {},
   "source": [
    "### Writing a web page fetcher\n",
    "\n",
    "We'll eventually use the asyncio module to play with web page fetching and crawling, but lets build up to that by writing a simple fetcher. We'll start with blocking, then move to non-blocking, and finally to co-routines, and even more finally to `yield from` based co-routines.\n",
    "\n",
    "Adapted from http://aosabook.org/en/500L/a-web-crawler-with-asyncio-coroutines.html"
   ]
  },
  {
   "cell_type": "markdown",
   "metadata": {},
   "source": [
    "#### Blocking fetch"
   ]
  },
  {
   "cell_type": "code",
   "execution_count": 99,
   "metadata": {
    "collapsed": true
   },
   "outputs": [],
   "source": [
    "import socket\n",
    "def fetch(host, url):\n",
    "    sock = socket.socket()\n",
    "    sock.connect((host, 80))\n",
    "    request = 'GET {} HTTP/1.0\\r\\nHost: {}\\r\\n\\r\\n'.format(url, host)\n",
    "    sock.send(request.encode('ascii'))\n",
    "    response = b''\n",
    "    chunk = sock.recv(4096)\n",
    "    while chunk:\n",
    "        response += chunk\n",
    "        chunk = sock.recv(4096)\n",
    "    return response"
   ]
  },
  {
   "cell_type": "code",
   "execution_count": 100,
   "metadata": {
    "collapsed": false
   },
   "outputs": [
    {
     "data": {
      "text/html": [
       "b'HTTP/1.0 200 OK\\r\\nAccept-Ranges: bytes\\r\\nCache-Control: max-age=604800\\r\\nContent-Type: text/html\\r\\nDate: Tue, 05 Apr 2016 02:02:07 GMT\\r\\nEtag: \"359670651+gzip\"\\r\\nExpires: Tue, 12 Apr 2016 02:02:07 GMT\\r\\nLast-Modified: Fri, 09 Aug 2013 23:54:35 GMT\\r\\nServer: ECS (mdw/1275)\\r\\nVary: Accept-Encoding\\r\\nX-Cache: HIT\\r\\nx-ec-custom-error: 1\\r\\nContent-Length: 1270\\r\\nConnection: close\\r\\n\\r\\n<!doctype html>\\n<html>\\n<head>\\n    <title>Example Domain</title>\\n\\n    <meta charset=\"utf-8\" />\\n    <meta http-equiv=\"Content-type\" content=\"text/html; charset=utf-8\" />\\n    <meta name=\"viewport\" content=\"width=device-width, initial-scale=1\" />\\n    <style type=\"text/css\">\\n    body {\\n        background-color: #f0f0f2;\\n        margin: 0;\\n        padding: 0;\\n        font-family: \"Open Sans\", \"Helvetica Neue\", Helvetica, Arial, sans-serif;\\n        \\n    }\\n    div {\\n        width: 600px;\\n        margin: 5em auto;\\n        padding: 50px;\\n        background-color: #fff;\\n        border-radius: 1em;\\n    }\\n    a:link, a:visited {\\n        color: #38488f;\\n        text-decoration: none;\\n    }\\n    @media (max-width: 700px) {\\n        body {\\n            background-color: #fff;\\n        }\\n        div {\\n            width: auto;\\n            margin: 0 auto;\\n            border-radius: 0;\\n            padding: 1em;\\n        }\\n    }\\n    </style>    \\n</head>\\n\\n<body>\\n<div>\\n    <h1>Example Domain</h1>\\n    <p>This domain is established to be used for illustrative examples in documents. You may use this\\n    domain in examples without prior coordination or asking for permission.</p>\\n    <p><a href=\"http://www.iana.org/domains/example\">More information...</a></p>\\n</div>\\n</body>\\n</html>\\n'"
      ],
      "text/plain": [
       "<IPython.core.display.HTML object>"
      ]
     },
     "execution_count": 100,
     "metadata": {},
     "output_type": "execute_result"
    }
   ],
   "source": [
    "from IPython.display import HTML, IFrame\n",
    "HTML(str(fetch(\"www.example.com\",\"/\")))"
   ]
  },
  {
   "cell_type": "markdown",
   "metadata": {},
   "source": [
    "#### Basic non-blocking"
   ]
  },
  {
   "cell_type": "code",
   "execution_count": 13,
   "metadata": {
    "collapsed": false
   },
   "outputs": [
    {
     "name": "stdout",
     "output_type": "stream",
     "text": [
      "sent\n"
     ]
    }
   ],
   "source": [
    "host=\"www.example.com\"\n",
    "url=\"/\"\n",
    "request = 'GET {} HTTP/1.0\\r\\nHost: {}\\r\\n\\r\\n'.format(url, host)\n",
    "encoded = request.encode('ascii')\n",
    "sock = socket.socket()\n",
    "sock.setblocking(False)\n",
    "try:\n",
    "    sock.connect(('xkcd.com', 80))\n",
    "except BlockingIOError:\n",
    "    pass\n",
    "while True:\n",
    "    try:\n",
    "        sock.send(encoded)\n",
    "        break  # Done.\n",
    "    except OSError as e:\n",
    "        pass\n",
    "\n",
    "print('sent')"
   ]
  },
  {
   "cell_type": "markdown",
   "metadata": {},
   "source": [
    "This has only been implemented partially. Notice how the `sock.send` spins in a loop.\n",
    "\n",
    "This eats cycles. the solution is to use select/kqueue/epoll from a small number of connections to a large number of them. The basic idea behind `select` is to wait for an event to occur on a small set of non-blocking sokets.\n",
    "\n",
    "We'll use python's `DefaultSelector`, an addition from python 3.4 that automatically chooses the \"best\" select like implementation on your system.\n"
   ]
  },
  {
   "cell_type": "code",
   "execution_count": 14,
   "metadata": {
    "collapsed": false
   },
   "outputs": [
    {
     "data": {
      "text/plain": [
       "SelectorKey(fileobj=192, fd=192, events=2, data=<function connected at 0x103390ea0>)"
      ]
     },
     "execution_count": 14,
     "metadata": {},
     "output_type": "execute_result"
    }
   ],
   "source": [
    "from selectors import DefaultSelector, EVENT_WRITE\n",
    "\n",
    "selector = DefaultSelector()\n",
    "host=\"www.example.com\"\n",
    "sock = socket.socket()\n",
    "sock.setblocking(False)\n",
    "try:\n",
    "    sock.connect((host, 80))\n",
    "except BlockingIOError:\n",
    "    pass\n",
    "\n",
    "def connected():\n",
    "    selector.unregister(sock.fileno())\n",
    "    print('connected!', flush=True)\n",
    "\n",
    "selector.register(sock.fileno(), EVENT_WRITE, connected)"
   ]
  },
  {
   "cell_type": "markdown",
   "metadata": {},
   "source": [
    "`connected` is the **callback** run when the connection happens."
   ]
  },
  {
   "cell_type": "code",
   "execution_count": 17,
   "metadata": {
    "collapsed": true
   },
   "outputs": [],
   "source": [
    "\n",
    "def loop():\n",
    "    start = time()\n",
    "    while True:\n",
    "        if time() - start > 10:\n",
    "            break\n",
    "        events = selector.select()\n",
    "        for event_key, event_mask in events:\n",
    "            callback = event_key.data\n",
    "            callback()"
   ]
  },
  {
   "cell_type": "markdown",
   "metadata": {},
   "source": [
    "Such a loop is called an \"event loop\". An async frameworkhas two parts: (a) such an event loop and (b) non-blocking sockets. It all runs on one thread. This is a system, it should be obvious for I/O bound problems.\n",
    "\n",
    "What have we demonstrated already? We showed how to begin an operation and execute a callback when the operation is ready. An async framework builds on the two features we have shown—non-blocking sockets and the event loop—to run concurrent operations on a single thread.\n",
    "\n",
    "Guido:\n",
    ">We have achieved \"concurrency\" here, but not what is traditionally called \"parallelism\". What asynchronous I/O is right for, is applications with many slow or sleepy connections with infrequent events."
   ]
  },
  {
   "cell_type": "code",
   "execution_count": 18,
   "metadata": {
    "collapsed": false
   },
   "outputs": [
    {
     "name": "stdout",
     "output_type": "stream",
     "text": [
      "connected!\n"
     ]
    }
   ],
   "source": [
    "loop() #loop will destruct after 10 secs"
   ]
  },
  {
   "cell_type": "markdown",
   "metadata": {},
   "source": [
    "#### async with response reading"
   ]
  },
  {
   "cell_type": "code",
   "execution_count": 22,
   "metadata": {
    "collapsed": true
   },
   "outputs": [],
   "source": [
    "from selectors import DefaultSelector, EVENT_READ, EVENT_WRITE\n",
    "\n",
    "selector = DefaultSelector()\n",
    "class Fetcher:\n",
    "    def __init__(self, host, url):\n",
    "        self.response = b''  # Empty array of bytes.\n",
    "        self.host = host\n",
    "        self.url = url\n",
    "        self.sock = None\n",
    "        \n",
    "    # Method on Fetcher class.\n",
    "    def fetch(self):\n",
    "        self.sock = socket.socket()\n",
    "        self.sock.setblocking(False)\n",
    "        try:\n",
    "            self.sock.connect((self.host, 80))\n",
    "        except BlockingIOError:\n",
    "            pass\n",
    "\n",
    "        # Register next callback.\n",
    "        selector.register(self.sock.fileno(),\n",
    "                          EVENT_WRITE,\n",
    "                          self.connected)\n",
    "\n",
    "    def connected(self, key, mask):\n",
    "        print('connected!', flush=True)\n",
    "        selector.unregister(key.fd)\n",
    "        request = 'GET {} HTTP/1.0\\r\\nHost: {}\\r\\n\\r\\n'.format(self.url, self.host)\n",
    "        self.sock.send(request.encode('ascii'))\n",
    "\n",
    "        # Register the next callback.\n",
    "        selector.register(key.fd,\n",
    "                          EVENT_READ,\n",
    "                          self.read_response)\n",
    "        \n",
    "    def read_response(self, key, mask):\n",
    "        global stopped\n",
    "        \n",
    "        chunk = self.sock.recv(128)  # USUALLY 4k chunk size, here small\n",
    "        if chunk:\n",
    "            print(\"read chunk\", flush=True)\n",
    "            self.response += chunk\n",
    "        else:\n",
    "            print(\"all read\", flush=True)\n",
    "            selector.unregister(key.fd)  # Done reading.\n",
    "            stopped=True\n",
    "            \n",
    "stopped = False\n",
    "\n",
    "def loop():\n",
    "    while not stopped:\n",
    "        events = selector.select()\n",
    "        for event_key, event_mask in events:\n",
    "            callback = event_key.data\n",
    "            callback(event_key, event_mask)"
   ]
  },
  {
   "cell_type": "code",
   "execution_count": 21,
   "metadata": {
    "collapsed": false
   },
   "outputs": [
    {
     "name": "stdout",
     "output_type": "stream",
     "text": [
      "connected!\n",
      "read chunk\n",
      "read chunk\n",
      "read chunk\n",
      "read chunk\n",
      "all read\n"
     ]
    }
   ],
   "source": [
    "fetcher = Fetcher('/353/', 'xkcd.com')\n",
    "fetcher.fetch()\n",
    "loop()"
   ]
  },
  {
   "cell_type": "markdown",
   "metadata": {},
   "source": [
    "You can see how the control-flow is chained together by having the connected callback do the resposing. Beyond a 2-3 ladder, this gets confusing and onerous (see some node.js code). As compared to a blocking program, where the continuation of the program is stored and adressed via the instruction pointer in a sequential fashiom, here the cintinuation is stored by registering the callbacks.'\n",
    "\n",
    "Since the current frame is popped out of the stack, exceptions have a hard time figuring the origin This is called stack-ripping.\n",
    "\n",
    "So, even apart from the long debate about the relative efficiencies of multithreading and async, there is this other debate regarding which is more error-prone: threads are susceptible to data races if you make a mistake synchronizing them, but callbacks are stubborn to debug due to stack ripping. And within a bit, we get callback soup.\n",
    "\n",
    "https://thesynchronousblog.wordpress.com/tag/stack-ripping/\n",
    "\n",
    "Threads seem to offer a more natural way of programming as the programmer with all state in thread’s single stack.\n"
   ]
  },
  {
   "cell_type": "markdown",
   "metadata": {},
   "source": [
    "So why not use them. As we said last time: synchronization and overhead. \n",
    "\n",
    "But we can do better with Coroutines!\n",
    "\n",
    "Guido:\n",
    ">We entice you with a promise. It is possible to write asynchronous code that combines the efficiency of callbacks with the classic good looks of multithreaded programming. This combination is achieved with a pattern called \"coroutines\". Using Python 3.4's standard asyncio library, and a package called \"aiohttp\", fetching a URL in a coroutine is very direct7:\n",
    "\n",
    "    @asyncio.coroutine\n",
    "    def fetch(self, url):\n",
    "        response = yield from self.session.get(url)\n",
    "        body = yield from response.read()\n",
    "        \n",
    "In 3.5 its even more clear:\n",
    "\n",
    "async def fetch(self, url):\n",
    "        response = await self.session.get(url)\n",
    "        body = await response.read()"
   ]
  },
  {
   "cell_type": "markdown",
   "metadata": {},
   "source": [
    "### Back to the Future with co-routines"
   ]
  },
  {
   "cell_type": "code",
   "execution_count": 23,
   "metadata": {
    "collapsed": true
   },
   "outputs": [],
   "source": [
    "from selectors import DefaultSelector, EVENT_READ, EVENT_WRITE\n",
    "import socket\n",
    "selector = DefaultSelector()"
   ]
  },
  {
   "cell_type": "markdown",
   "metadata": {},
   "source": [
    "The future, as you might expect is something with callbacks..."
   ]
  },
  {
   "cell_type": "code",
   "execution_count": 42,
   "metadata": {
    "collapsed": true
   },
   "outputs": [],
   "source": [
    "class MyFuture:\n",
    "    def __init__(self):\n",
    "        self.result = None\n",
    "        self._callbacks = []\n",
    "\n",
    "    def add_done_callback(self, fn):\n",
    "        self._callbacks.append(fn)\n",
    "\n",
    "    def set_result(self, result):\n",
    "        self.result = result\n",
    "        for fn in self._callbacks:\n",
    "            fn(self)"
   ]
  },
  {
   "cell_type": "markdown",
   "metadata": {},
   "source": [
    "We need a \"main\" to yield to."
   ]
  },
  {
   "cell_type": "code",
   "execution_count": 43,
   "metadata": {
    "collapsed": true
   },
   "outputs": [],
   "source": [
    "class Fetcher:\n",
    "    \n",
    "    def __init__(self, url, host):\n",
    "        self.url = url\n",
    "        self.host = host\n",
    "        self.response = b''  # Empty array of bytes.\n",
    "\n",
    "        \n",
    "    def fetch(self):\n",
    "        global stopped\n",
    "        sock = socket.socket()\n",
    "\n",
    "        sock.setblocking(False)\n",
    "        try:\n",
    "            sock.connect((self.host, 80))\n",
    "        except BlockingIOError:\n",
    "            pass\n",
    "\n",
    "        f = MyFuture()\n",
    "\n",
    "        #resolves the future by setting a result on it\n",
    "        def on_connected():\n",
    "            print('on connected cb ran', flush=True)\n",
    "            f.set_result(None)\n",
    "        \n",
    "        \n",
    "        \n",
    "        selector.register(sock.fileno(),\n",
    "                          EVENT_WRITE,\n",
    "                          on_connected)\n",
    "        print(\"about to yield connection future\", flush=True)\n",
    "        yield f#this makes it look like fetch has returned the \"future\"\n",
    "        #bit we have not lost the state (or have to have carried it in obj)\n",
    "        #a send in will continue us here\n",
    "        print('we were connected! now back in gen', flush=True)\n",
    "        selector.unregister(sock.fileno())\n",
    "        request = 'GET {} HTTP/1.0\\r\\nHost: {}\\r\\n\\r\\n'.format(self.url, self.host)\n",
    "        sock.send(request.encode('ascii'))\n",
    "        while True:\n",
    "            print(\"in loop\")\n",
    "            #now create a new future for the data-recieving call\n",
    "            f = MyFuture()\n",
    "            def on_response():\n",
    "                chunky = sock.recv(4096)  # 4k chunk size.\n",
    "                f.set_result(chunky)\n",
    "            selector.register(sock.fileno(),\n",
    "                              EVENT_READ,\n",
    "                              on_response)\n",
    "            #now to restart the gen, we will from the main\n",
    "            #throw the data right back in\n",
    "            chunk = yield f\n",
    "            selector.unregister(sock.fileno())\n",
    "            if chunk:\n",
    "                print(\"len(chunk)\",len(chunk))\n",
    "                self.response += chunk\n",
    "            else:\n",
    "                print(\"all read\")\n",
    "                stopped= True\n",
    "                break\n",
    "\n",
    "\n",
    "        \n",
    "    "
   ]
  },
  {
   "cell_type": "code",
   "execution_count": 44,
   "metadata": {
    "collapsed": false
   },
   "outputs": [],
   "source": [
    "#But when the future resolves, what resumes the generator? We need a coroutine driver. Let us call it \"task\":\n",
    "#(this is our main)\n",
    "class Task:\n",
    "    def __init__(self, coro):\n",
    "        self.coro = coro\n",
    "        f = MyFuture()\n",
    "        print(\">>sending none to initial future\",f)\n",
    "        f.set_result(None)\n",
    "        print(\"...stepping\")\n",
    "        self.step(f)\n",
    "        print(\">>>after priming\")\n",
    "\n",
    "    def step(self, future):\n",
    "        try:\n",
    "            print(\"sending\", type(future.result))\n",
    "            next_future = self.coro.send(future.result)\n",
    "            print('got next future', next_future)\n",
    "\n",
    "        except StopIteration:\n",
    "            print(\"si\")\n",
    "            return None\n",
    "        next_future.add_done_callback(self.step)"
   ]
  },
  {
   "cell_type": "code",
   "execution_count": 45,
   "metadata": {
    "collapsed": true
   },
   "outputs": [],
   "source": [
    "stopped=False\n",
    "def loop():\n",
    "    while not stopped:\n",
    "        events = selector.select()\n",
    "        for event_key, event_mask in events:\n",
    "            callback = event_key.data\n",
    "            callback()"
   ]
  },
  {
   "cell_type": "code",
   "execution_count": 46,
   "metadata": {
    "collapsed": false
   },
   "outputs": [
    {
     "name": "stdout",
     "output_type": "stream",
     "text": [
      ">>sending none to initial future <__main__.MyFuture object at 0x104d72978>\n",
      "...stepping\n",
      "sending <class 'NoneType'>\n",
      "about to yield connection future\n",
      "got next future <__main__.MyFuture object at 0x104d72c88>\n",
      ">>>after priming\n",
      "on connected cb ran\n",
      "sending <class 'NoneType'>\n",
      "we were connected! now back in gen\n",
      "in loop\n",
      "got next future <__main__.MyFuture object at 0x104d72780>\n",
      "sending <class 'bytes'>\n",
      "len(chunk) 4096\n",
      "in loop\n",
      "got next future <__main__.MyFuture object at 0x104d72d68>\n",
      "sending <class 'bytes'>\n",
      "len(chunk) 3991\n",
      "in loop\n",
      "got next future <__main__.MyFuture object at 0x104d72048>\n",
      "sending <class 'bytes'>\n",
      "all read\n",
      "si\n"
     ]
    }
   ],
   "source": [
    "fetcher = Fetcher('/353/', 'xkcd.com')\n",
    "Task(fetcher.fetch())\n",
    "stopped=False\n",
    "loop()"
   ]
  },
  {
   "cell_type": "markdown",
   "metadata": {},
   "source": [
    "#### Refactoring using generators"
   ]
  },
  {
   "cell_type": "code",
   "execution_count": 6,
   "metadata": {
    "collapsed": true
   },
   "outputs": [],
   "source": [
    "#But when the future resolves, what resumes the generator? We need a coroutine driver. Let us call it \"task\":\n",
    "#(this is our main)\n",
    "class Task:\n",
    "    def __init__(self, coro):\n",
    "        self.coro = coro\n",
    "        f = MyFuture()\n",
    "        print(\">>sending none to initial future\",f)\n",
    "        f.set_result(None)\n",
    "        print(\"...stepping\")\n",
    "        self.step(f)\n",
    "        print(\">>>after priming\")\n",
    "\n",
    "    def step(self, future):\n",
    "        try:\n",
    "            print(\"sending\", type(future.result))\n",
    "            next_future = self.coro.send(future.result)\n",
    "            print('got next future', next_future)\n",
    "\n",
    "        except StopIteration:\n",
    "            print(\"si\")\n",
    "            return None\n",
    "        next_future.add_done_callback(self.step)"
   ]
  },
  {
   "cell_type": "code",
   "execution_count": 7,
   "metadata": {
    "collapsed": true
   },
   "outputs": [],
   "source": [
    "def read(sock):\n",
    "    f = MyFuture()\n",
    "\n",
    "    def on_readable():\n",
    "        f.set_result(sock.recv(4096))\n",
    "\n",
    "    selector.register(sock.fileno(), EVENT_READ, on_readable)\n",
    "    chunk = yield f  # Read one chunk.\n",
    "    selector.unregister(sock.fileno())\n",
    "    return chunk"
   ]
  },
  {
   "cell_type": "code",
   "execution_count": 8,
   "metadata": {
    "collapsed": true
   },
   "outputs": [],
   "source": [
    "def read_all(sock):\n",
    "    global stopped\n",
    "    response = []\n",
    "    # Read whole response.\n",
    "    chunk = yield from read(sock)\n",
    "    while chunk:\n",
    "        response.append(chunk)\n",
    "        chunk = yield from read(sock)\n",
    "    stopped=True\n",
    "    return b''.join(response)"
   ]
  },
  {
   "cell_type": "markdown",
   "metadata": {},
   "source": [
    ">If you squint and make the yield from statements disappear it looks like  conventional functions doing blocking I/O. But in fact, read and read_all are coroutines. Yielding from read pauses read_all until the I/O completes. While read_all is paused, asyncio's event loop does other work and awaits other I/O events; read_all is resumed with the result of read on the next loop tick once its event is ready."
   ]
  },
  {
   "cell_type": "code",
   "execution_count": 19,
   "metadata": {
    "collapsed": true
   },
   "outputs": [],
   "source": [
    "class Fetcher:\n",
    "    \n",
    "    def __init__(self, url, host):\n",
    "        self.url = url\n",
    "        self.host = host\n",
    "        self.response = b''  # Empty array of bytes.\n",
    "\n",
    "        \n",
    "    def fetch(self):\n",
    "        global stopped\n",
    "        sock = socket.socket()\n",
    "\n",
    "        sock.setblocking(False)\n",
    "        try:\n",
    "            sock.connect((host, 80))\n",
    "        except BlockingIOError:\n",
    "            pass\n",
    "\n",
    "        f = MyFuture()\n",
    "\n",
    "        def on_connected():\n",
    "            print('on connected cb ran')\n",
    "            f.set_result(None)\n",
    "        \n",
    "        \n",
    "        \n",
    "        selector.register(sock.fileno(),\n",
    "                          EVENT_WRITE,\n",
    "                          on_connected)\n",
    "        print(\"about to yield connection future\")\n",
    "        yield f\n",
    "        print('connected!')\n",
    "        selector.unregister(sock.fileno())\n",
    "        request = 'GET {} HTTP/1.0\\r\\nHost: xkcd.com\\r\\n\\r\\n'.format(self.url)\n",
    "        sock.send(request.encode('ascii'))\n",
    "        yield from read_all(sock)"
   ]
  },
  {
   "cell_type": "code",
   "execution_count": 20,
   "metadata": {
    "collapsed": false
   },
   "outputs": [
    {
     "ename": "NameError",
     "evalue": "name 'Task' is not defined",
     "output_type": "error",
     "traceback": [
      "\u001b[0;31m---------------------------------------------------------------------------\u001b[0m",
      "\u001b[0;31mNameError\u001b[0m                                 Traceback (most recent call last)",
      "\u001b[0;32m<ipython-input-20-2fdcb9d76ce6>\u001b[0m in \u001b[0;36m<module>\u001b[0;34m()\u001b[0m\n\u001b[1;32m      1\u001b[0m \u001b[0mfetcher\u001b[0m \u001b[0;34m=\u001b[0m \u001b[0mFetcher\u001b[0m\u001b[0;34m(\u001b[0m\u001b[0;34m'/353/'\u001b[0m\u001b[0;34m,\u001b[0m \u001b[0;34m'xkcd.com'\u001b[0m\u001b[0;34m)\u001b[0m\u001b[0;34m\u001b[0m\u001b[0m\n\u001b[0;32m----> 2\u001b[0;31m \u001b[0mTask\u001b[0m\u001b[0;34m(\u001b[0m\u001b[0mfetcher\u001b[0m\u001b[0;34m.\u001b[0m\u001b[0mfetch\u001b[0m\u001b[0;34m(\u001b[0m\u001b[0;34m)\u001b[0m\u001b[0;34m)\u001b[0m\u001b[0;34m\u001b[0m\u001b[0m\n\u001b[0m\u001b[1;32m      3\u001b[0m \u001b[0mstopped\u001b[0m \u001b[0;34m=\u001b[0m \u001b[0;32mFalse\u001b[0m\u001b[0;34m\u001b[0m\u001b[0m\n\u001b[1;32m      4\u001b[0m \u001b[0mloop\u001b[0m\u001b[0;34m(\u001b[0m\u001b[0;34m)\u001b[0m\u001b[0;34m\u001b[0m\u001b[0m\n",
      "\u001b[0;31mNameError\u001b[0m: name 'Task' is not defined"
     ]
    }
   ],
   "source": [
    "fetcher = Fetcher('/353/', 'xkcd.com')\n",
    "Task(fetcher.fetch())\n",
    "stopped = False\n",
    "loop()"
   ]
  },
  {
   "cell_type": "markdown",
   "metadata": {},
   "source": [
    "![](http://aosabook.org/en/500L/crawler-images/yield-from.png)\n",
    "\n",
    "There is one yield left amongst the yield froms. For consistency, this can be fixed...it also lets us change implementations under the hood.."
   ]
  },
  {
   "cell_type": "code",
   "execution_count": 11,
   "metadata": {
    "collapsed": true
   },
   "outputs": [],
   "source": [
    "def read(sock):\n",
    "    f = MyFuture()\n",
    "\n",
    "    def on_readable():\n",
    "        f.set_result(sock.recv(4096))\n",
    "\n",
    "    selector.register(sock.fileno(), EVENT_READ, on_readable)\n",
    "    chunk = yield from f  # Read one chunk.\n",
    "    selector.unregister(sock.fileno())\n",
    "    return chunk"
   ]
  },
  {
   "cell_type": "code",
   "execution_count": 12,
   "metadata": {
    "collapsed": true
   },
   "outputs": [],
   "source": [
    "class MyFuture:\n",
    "    def __init__(self):\n",
    "        self.result = None\n",
    "        self._callbacks = []\n",
    "\n",
    "    def add_done_callback(self, fn):\n",
    "        self._callbacks.append(fn)\n",
    "\n",
    "    def set_result(self, result):\n",
    "        self.result = result\n",
    "        print(\"cblist\", self._callbacks)\n",
    "        for fn in self._callbacks:\n",
    "            fn(self)\n",
    "            \n",
    "    def __iter__(self):\n",
    "        yield self\n",
    "        return self.result"
   ]
  },
  {
   "cell_type": "code",
   "execution_count": 13,
   "metadata": {
    "collapsed": true
   },
   "outputs": [],
   "source": [
    "class Fetcher:\n",
    "    \n",
    "    def __init__(self, url, host):\n",
    "        self.url = url\n",
    "        self.host = host\n",
    "        self.response = b''  # Empty array of bytes.\n",
    "\n",
    "        \n",
    "    def fetch(self):\n",
    "        global stopped\n",
    "        sock = socket.socket()\n",
    "\n",
    "        sock.setblocking(False)\n",
    "        try:\n",
    "            sock.connect((self.host, 80))\n",
    "        except BlockingIOError:\n",
    "            pass\n",
    "\n",
    "        f = MyFuture()\n",
    "\n",
    "        def on_connected():\n",
    "            print('on connected cb ran')\n",
    "            f.set_result(None)\n",
    "        \n",
    "        \n",
    "        \n",
    "        selector.register(sock.fileno(),\n",
    "                          EVENT_WRITE,\n",
    "                          on_connected)\n",
    "        print(\"about to yield connection future\")\n",
    "        yield from f\n",
    "        print('connected!')\n",
    "        selector.unregister(sock.fileno())\n",
    "        request = 'GET {} HTTP/1.0\\r\\nHost: xkcd.com\\r\\n\\r\\n'.format(self.url)\n",
    "        sock.send(request.encode('ascii'))\n",
    "        yield from read_all(sock)"
   ]
  },
  {
   "cell_type": "code",
   "execution_count": 14,
   "metadata": {
    "collapsed": false
   },
   "outputs": [
    {
     "name": "stdout",
     "output_type": "stream",
     "text": [
      ">>sending none to initial future <__main__.MyFuture object at 0x1039d6860>\n",
      "cblist []\n",
      "...stepping\n",
      "sending <class 'NoneType'>\n"
     ]
    },
    {
     "ename": "NameError",
     "evalue": "name 'socket' is not defined",
     "output_type": "error",
     "traceback": [
      "\u001b[0;31m---------------------------------------------------------------------------\u001b[0m",
      "\u001b[0;31mNameError\u001b[0m                                 Traceback (most recent call last)",
      "\u001b[0;32m<ipython-input-14-236b728b846e>\u001b[0m in \u001b[0;36m<module>\u001b[0;34m()\u001b[0m\n\u001b[1;32m      1\u001b[0m \u001b[0mfetcher\u001b[0m \u001b[0;34m=\u001b[0m \u001b[0mFetcher\u001b[0m\u001b[0;34m(\u001b[0m\u001b[0;34m'/353/'\u001b[0m\u001b[0;34m,\u001b[0m\u001b[0;34m'xkcd.com'\u001b[0m\u001b[0;34m)\u001b[0m\u001b[0;34m\u001b[0m\u001b[0m\n\u001b[0;32m----> 2\u001b[0;31m \u001b[0mTask\u001b[0m\u001b[0;34m(\u001b[0m\u001b[0mfetcher\u001b[0m\u001b[0;34m.\u001b[0m\u001b[0mfetch\u001b[0m\u001b[0;34m(\u001b[0m\u001b[0;34m)\u001b[0m\u001b[0;34m)\u001b[0m\u001b[0;34m\u001b[0m\u001b[0m\n\u001b[0m\u001b[1;32m      3\u001b[0m \u001b[0mstopped\u001b[0m \u001b[0;34m=\u001b[0m \u001b[0;32mFalse\u001b[0m\u001b[0;34m\u001b[0m\u001b[0m\n\u001b[1;32m      4\u001b[0m \u001b[0mloop\u001b[0m\u001b[0;34m(\u001b[0m\u001b[0;34m)\u001b[0m\u001b[0;34m\u001b[0m\u001b[0m\n",
      "\u001b[0;32m<ipython-input-6-6d9369307daf>\u001b[0m in \u001b[0;36m__init__\u001b[0;34m(self, coro)\u001b[0m\n\u001b[1;32m      8\u001b[0m         \u001b[0mf\u001b[0m\u001b[0;34m.\u001b[0m\u001b[0mset_result\u001b[0m\u001b[0;34m(\u001b[0m\u001b[0;32mNone\u001b[0m\u001b[0;34m)\u001b[0m\u001b[0;34m\u001b[0m\u001b[0m\n\u001b[1;32m      9\u001b[0m         \u001b[0mprint\u001b[0m\u001b[0;34m(\u001b[0m\u001b[0;34m\"...stepping\"\u001b[0m\u001b[0;34m)\u001b[0m\u001b[0;34m\u001b[0m\u001b[0m\n\u001b[0;32m---> 10\u001b[0;31m         \u001b[0mself\u001b[0m\u001b[0;34m.\u001b[0m\u001b[0mstep\u001b[0m\u001b[0;34m(\u001b[0m\u001b[0mf\u001b[0m\u001b[0;34m)\u001b[0m\u001b[0;34m\u001b[0m\u001b[0m\n\u001b[0m\u001b[1;32m     11\u001b[0m         \u001b[0mprint\u001b[0m\u001b[0;34m(\u001b[0m\u001b[0;34m\">>>after priming\"\u001b[0m\u001b[0;34m)\u001b[0m\u001b[0;34m\u001b[0m\u001b[0m\n\u001b[1;32m     12\u001b[0m \u001b[0;34m\u001b[0m\u001b[0m\n",
      "\u001b[0;32m<ipython-input-6-6d9369307daf>\u001b[0m in \u001b[0;36mstep\u001b[0;34m(self, future)\u001b[0m\n\u001b[1;32m     14\u001b[0m         \u001b[0;32mtry\u001b[0m\u001b[0;34m:\u001b[0m\u001b[0;34m\u001b[0m\u001b[0m\n\u001b[1;32m     15\u001b[0m             \u001b[0mprint\u001b[0m\u001b[0;34m(\u001b[0m\u001b[0;34m\"sending\"\u001b[0m\u001b[0;34m,\u001b[0m \u001b[0mtype\u001b[0m\u001b[0;34m(\u001b[0m\u001b[0mfuture\u001b[0m\u001b[0;34m.\u001b[0m\u001b[0mresult\u001b[0m\u001b[0;34m)\u001b[0m\u001b[0;34m)\u001b[0m\u001b[0;34m\u001b[0m\u001b[0m\n\u001b[0;32m---> 16\u001b[0;31m             \u001b[0mnext_future\u001b[0m \u001b[0;34m=\u001b[0m \u001b[0mself\u001b[0m\u001b[0;34m.\u001b[0m\u001b[0mcoro\u001b[0m\u001b[0;34m.\u001b[0m\u001b[0msend\u001b[0m\u001b[0;34m(\u001b[0m\u001b[0mfuture\u001b[0m\u001b[0;34m.\u001b[0m\u001b[0mresult\u001b[0m\u001b[0;34m)\u001b[0m\u001b[0;34m\u001b[0m\u001b[0m\n\u001b[0m\u001b[1;32m     17\u001b[0m             \u001b[0mprint\u001b[0m\u001b[0;34m(\u001b[0m\u001b[0;34m'got next future'\u001b[0m\u001b[0;34m,\u001b[0m \u001b[0mnext_future\u001b[0m\u001b[0;34m)\u001b[0m\u001b[0;34m\u001b[0m\u001b[0m\n\u001b[1;32m     18\u001b[0m \u001b[0;34m\u001b[0m\u001b[0m\n",
      "\u001b[0;32m<ipython-input-13-321006e59fbb>\u001b[0m in \u001b[0;36mfetch\u001b[0;34m(self)\u001b[0m\n\u001b[1;32m      9\u001b[0m     \u001b[0;32mdef\u001b[0m \u001b[0mfetch\u001b[0m\u001b[0;34m(\u001b[0m\u001b[0mself\u001b[0m\u001b[0;34m)\u001b[0m\u001b[0;34m:\u001b[0m\u001b[0;34m\u001b[0m\u001b[0m\n\u001b[1;32m     10\u001b[0m         \u001b[0;32mglobal\u001b[0m \u001b[0mstopped\u001b[0m\u001b[0;34m\u001b[0m\u001b[0m\n\u001b[0;32m---> 11\u001b[0;31m         \u001b[0msock\u001b[0m \u001b[0;34m=\u001b[0m \u001b[0msocket\u001b[0m\u001b[0;34m.\u001b[0m\u001b[0msocket\u001b[0m\u001b[0;34m(\u001b[0m\u001b[0;34m)\u001b[0m\u001b[0;34m\u001b[0m\u001b[0m\n\u001b[0m\u001b[1;32m     12\u001b[0m \u001b[0;34m\u001b[0m\u001b[0m\n\u001b[1;32m     13\u001b[0m         \u001b[0msock\u001b[0m\u001b[0;34m.\u001b[0m\u001b[0msetblocking\u001b[0m\u001b[0;34m(\u001b[0m\u001b[0;32mFalse\u001b[0m\u001b[0;34m)\u001b[0m\u001b[0;34m\u001b[0m\u001b[0m\n",
      "\u001b[0;31mNameError\u001b[0m: name 'socket' is not defined"
     ]
    }
   ],
   "source": [
    "fetcher = Fetcher('/353/','xkcd.com')\n",
    "Task(fetcher.fetch())\n",
    "stopped = False\n",
    "loop()"
   ]
  },
  {
   "cell_type": "markdown",
   "metadata": {},
   "source": [
    "## Lab\n",
    "\n",
    "Implement a URL fetcher using Beautiful Soup in the callback version. We will implement a similar one using coroutines on wednesday. \n",
    "\n",
    "The implimentation will extend the read_response method by parsing for URL's using `bs4` . Start by creating globals:\n",
    "```\n",
    "urls_todo = set(['/'])\n",
    "seen_urls = set(['/'])\n",
    "```\n",
    "\n",
    "then:\n",
    "\n",
    "```\n",
    "links = self.parse_links()#write this\n",
    "```\n",
    "(using self.response)\n",
    "\n",
    "Then use the set `difference` method  to add new links to `urls_todo` and recursively set up a `Fetcher` instance.\n",
    "\n",
    "Now update the `seen_urls` and `urls_todo` thus:\n",
    "```\n",
    "seen_urls.update(links)\n",
    "urls_todo.remove(self.url)\n",
    "if not urls_todo:\n",
    "    stopped = True\n",
    "```"
   ]
  },
  {
   "cell_type": "code",
   "execution_count": null,
   "metadata": {
    "collapsed": true
   },
   "outputs": [],
   "source": [
    "from bs4 import BeautifulSoup\n",
    "import urllib2\n",
    "\n",
    "from selectors import DefaultSelector, EVENT_READ, EVENT_WRITE\n",
    "\n",
    "urls_todo = set(['/'])\n",
    "seen_urls = set(['/'])\n",
    "\n",
    "\n",
    "\n",
    "selector = DefaultSelector()\n",
    "class Fetcher:\n",
    "    def __init__(self, host, url, recurse=0):\n",
    "        self.response = b''  # Empty array of bytes.\n",
    "        self.host = host\n",
    "        self.url = url\n",
    "        self.sock = None\n",
    "        ######## Count of how deep you want to go with recursions\n",
    "        self.recurse=recurse\n",
    "        \n",
    "    # Method on Fetcher class.\n",
    "    def fetch(self):\n",
    "        self.sock = socket.socket()\n",
    "        self.sock.setblocking(False)\n",
    "        try:\n",
    "            self.sock.connect((self.host, 80))\n",
    "        except BlockingIOError:\n",
    "            pass\n",
    "\n",
    "        # Register next callback.\n",
    "        selector.register(self.sock.fileno(),\n",
    "                          EVENT_WRITE,\n",
    "                          self.connected)\n",
    "\n",
    "    def connected(self, key, mask):\n",
    "        print('connected!', flush=True)\n",
    "        selector.unregister(key.fd)\n",
    "        request = 'GET {} HTTP/1.0\\r\\nHost: {}\\r\\n\\r\\n'.format(self.url, self.host)\n",
    "        self.sock.send(request.encode('ascii'))\n",
    "\n",
    "        # Register the next callback.\n",
    "        selector.register(key.fd,\n",
    "                          EVENT_READ,\n",
    "                          self.read_response)\n",
    "        \n",
    "    def read_response(self, key, mask):\n",
    "        global stopped\n",
    "        \n",
    "        chunk = self.sock.recv(128)  # USUALLY 4k chunk size, here small\n",
    "        if chunk:\n",
    "            print(\"read chunk\", flush=True)\n",
    "            self.response += chunk\n",
    "        else:\n",
    "            print(\"all read\", flush=True)\n",
    "            selector.unregister(key.fd)  # Done reading.\n",
    "            \n",
    "            #######\n",
    "            links=self.parse_links()\n",
    "            # Give us links that we haven't already seen\n",
    "            urls = links.difference(seen_urls)\n",
    "            urls_todo.update(urls)\n",
    "            \n",
    "            ####### Recurse\n",
    "            if self.recurse >= 1:\n",
    "                for link in urls_todo:\n",
    "                    fetcher = Fetcher(____url, host____, recurse=self.recurse-1)\n",
    "                    fetcher.fetch()\n",
    "                    urls_todo.remove(link)\n",
    "                    # Once these have been done, add to the list that have been done\n",
    "                    seen_urls.update(link)\n",
    "            #######\n",
    "            \n",
    "            stopped=True\n",
    "            \n",
    "    ######\n",
    "    def parse_links(self):\n",
    "        urls = []\n",
    "        \n",
    "        page = urllib2.urlopen(self.host+self.url).read()\n",
    "        soup = BeautifulSoup(page)\n",
    "        soup.prettify()\n",
    "        for anchor in soup.findAll('a', href=True)\n",
    "            urls.append(anchor['href'])\n",
    "        \n",
    "        return urls\n",
    "        \n",
    "\n",
    "    ######\n",
    "            \n",
    "stopped = False\n",
    "\n",
    "def loop():\n",
    "    while not stopped:\n",
    "        events = selector.select()\n",
    "        for event_key, event_mask in events:\n",
    "            callback = event_key.data\n",
    "            callback(event_key, event_mask)\n",
    "\n",
    "\n"
   ]
  },
  {
   "cell_type": "code",
   "execution_count": 97,
   "metadata": {
    "collapsed": false
   },
   "outputs": [
    {
     "ename": "ImportError",
     "evalue": "No module named 'urllib2'",
     "output_type": "error",
     "traceback": [
      "\u001b[0;31m---------------------------------------------------------------------------\u001b[0m",
      "\u001b[0;31mImportError\u001b[0m                               Traceback (most recent call last)",
      "\u001b[0;32m<ipython-input-97-e311558b2a4b>\u001b[0m in \u001b[0;36m<module>\u001b[0;34m()\u001b[0m\n\u001b[0;32m----> 1\u001b[0;31m \u001b[0;32mimport\u001b[0m \u001b[0murllib2\u001b[0m\u001b[0;34m\u001b[0m\u001b[0m\n\u001b[0m\u001b[1;32m      2\u001b[0m \u001b[0mpage\u001b[0m \u001b[0;34m=\u001b[0m \u001b[0murllib2\u001b[0m\u001b[0;34m.\u001b[0m\u001b[0murlopen\u001b[0m\u001b[0;34m(\u001b[0m\u001b[0;34m'www.yahoo.com'\u001b[0m\u001b[0;34m)\u001b[0m\u001b[0;34m.\u001b[0m\u001b[0mread\u001b[0m\u001b[0;34m(\u001b[0m\u001b[0;34m)\u001b[0m\u001b[0;34m\u001b[0m\u001b[0m\n\u001b[1;32m      3\u001b[0m \u001b[0;31m#         soup = BeautifulSoup(page)\u001b[0m\u001b[0;34m\u001b[0m\u001b[0;34m\u001b[0m\u001b[0m\n\u001b[1;32m      4\u001b[0m \u001b[0;31m#         soup.prettify()\u001b[0m\u001b[0;34m\u001b[0m\u001b[0;34m\u001b[0m\u001b[0m\n\u001b[1;32m      5\u001b[0m \u001b[0;31m#         for anchor in soup.findAll('a', href=True)\u001b[0m\u001b[0;34m\u001b[0m\u001b[0;34m\u001b[0m\u001b[0m\n",
      "\u001b[0;31mImportError\u001b[0m: No module named 'urllib2'"
     ]
    }
   ],
   "source": [
    "import urllib2\n",
    "page = urllib2.urlopen('www.yahoo.com').read()\n",
    "#         soup = BeautifulSoup(page)\n",
    "#         soup.prettify()\n",
    "#         for anchor in soup.findAll('a', href=True)\n",
    "#             urls.append(anchor['href'])\n",
    "        "
   ]
  },
  {
   "cell_type": "code",
   "execution_count": 1,
   "metadata": {
    "collapsed": true
   },
   "outputs": [],
   "source": [
    "fetcher = Fetcher('/353/', 'xkcd.com')\n",
    "fetcher.fetch()\n",
    "loop()"
   ]
  },
  {
   "cell_type": "code",
   "execution_count": 5,
   "metadata": {
    "collapsed": false
   },
   "outputs": [
    {
     "name": "stdout",
     "output_type": "stream",
     "text": [
      "Collecting urllib2\n",
      "\u001b[31m  Could not find a version that satisfies the requirement urllib2 (from versions: )\u001b[0m\n",
      "\u001b[31mNo matching distribution found for urllib2\u001b[0m\n",
      "\u001b[33mYou are using pip version 8.0.2, however version 8.1.1 is available.\n",
      "You should consider upgrading via the 'pip install --upgrade pip' command.\u001b[0m\n"
     ]
    }
   ],
   "source": [
    "!pip install urllib2"
   ]
  },
  {
   "cell_type": "code",
   "execution_count": null,
   "metadata": {
    "collapsed": true
   },
   "outputs": [],
   "source": []
  }
 ],
 "metadata": {
  "kernelspec": {
   "display_name": "Python 3",
   "language": "python",
   "name": "python3"
  },
  "language_info": {
   "codemirror_mode": {
    "name": "ipython",
    "version": 3
   },
   "file_extension": ".py",
   "mimetype": "text/x-python",
   "name": "python",
   "nbconvert_exporter": "python",
   "pygments_lexer": "ipython3",
   "version": "3.5.1"
  }
 },
 "nbformat": 4,
 "nbformat_minor": 0
}
