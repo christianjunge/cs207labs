{
 "cells": [
  {
   "cell_type": "markdown",
   "metadata": {
    "collapsed": true
   },
   "source": [
    "## Q1.\n",
    "\n",
    "Add methods `__iter__` to your project Time Series class to iterate over values, a method `itertimes` to iterate over times, a method `itervalues` to iterate over values, and a method `iteritems` to iterate over time-value pairs. (This is a similar interface to python dictionaries). To test these, check both the types of the results and the answers you expect."
   ]
  },
  {
   "cell_type": "code",
   "execution_count": 1,
   "metadata": {
    "collapsed": true
   },
   "outputs": [],
   "source": [
    "#your code here\n",
    "# Added to our TimeSeries class:\n",
    "    def __iter__(self):\n",
    "        return iter(self._values)\n",
    "\n",
    "    def iteritems(self):\n",
    "        return zip(self._times,self._values)\n",
    "\n",
    "    def itervalues(self):\n",
    "        return iter(self._values)\n",
    "\n",
    "    def itertimes(self):\n",
    "        return iter(self._times)"
   ]
  },
  {
   "cell_type": "markdown",
   "metadata": {},
   "source": [
    "## Q2.\n",
    "\n",
    "An online mean and standard deviation algorithm.\n",
    "\n",
    "Below is a function to generate a potentially infinite stream of 1-D data."
   ]
  },
  {
   "cell_type": "code",
   "execution_count": 1,
   "metadata": {
    "collapsed": false
   },
   "outputs": [],
   "source": [
    "from random import normalvariate, random\n",
    "from itertools import count\n",
    "def make_data(m, stop=None):\n",
    "    for _ in count():\n",
    "        if stop and _ > stop:\n",
    "            break\n",
    "        yield 1.0e09 + normalvariate(0, m*random() )\n",
    "        "
   ]
  },
  {
   "cell_type": "markdown",
   "metadata": {},
   "source": [
    "Here is an implementation of an online mean algorithm..see http://www.johndcook.com/blog/standard_deviation/ and the link to http://www.johndcook.com/blog/2008/09/26/comparing-three-methods-of-computing-standard-deviation/ in-between. (Convince yourselves of the formulas...)"
   ]
  },
  {
   "cell_type": "code",
   "execution_count": 2,
   "metadata": {
    "collapsed": true
   },
   "outputs": [],
   "source": [
    "def online_mean(iterator):\n",
    "    n = 0\n",
    "    mu = 0\n",
    "    for value in iterator:\n",
    "        n += 1\n",
    "        delta = value - mu\n",
    "        mu = mu + delta/n\n",
    "        yield mu"
   ]
  },
  {
   "cell_type": "markdown",
   "metadata": {},
   "source": [
    "We use out generator functions to implement iterators:"
   ]
  },
  {
   "cell_type": "code",
   "execution_count": 32,
   "metadata": {
    "collapsed": false
   },
   "outputs": [
    {
     "data": {
      "text/plain": [
       "[1000000000.6633602,\n",
       " 999999999.1531693,\n",
       " 999999998.0347095,\n",
       " 999999997.3845587,\n",
       " 1000000000.1360068,\n",
       " 1000000003.7602679,\n",
       " 999999997.8984545,\n",
       " 999999998.4067945,\n",
       " 999999995.1473001,\n",
       " 1000000004.3249445,\n",
       " 999999998.5533131]"
      ]
     },
     "execution_count": 32,
     "metadata": {},
     "output_type": "execute_result"
    }
   ],
   "source": [
    "g = make_data(5, 10)\n",
    "list(g)"
   ]
  },
  {
   "cell_type": "code",
   "execution_count": 34,
   "metadata": {
    "collapsed": false
   },
   "outputs": [
    {
     "name": "stdout",
     "output_type": "stream",
     "text": [
      "<class 'generator'>\n"
     ]
    },
    {
     "data": {
      "text/plain": [
       "[1000000005.122938,\n",
       " 1000000002.5397222,\n",
       " 1000000001.3473922,\n",
       " 1000000002.9736841,\n",
       " 1000000002.3926823]"
      ]
     },
     "execution_count": 34,
     "metadata": {},
     "output_type": "execute_result"
    }
   ],
   "source": [
    "g = online_mean(make_data(5, 100))\n",
    "print(type(g))\n",
    "list(g)[:5]"
   ]
  },
  {
   "cell_type": "markdown",
   "metadata": {},
   "source": [
    "### 2.1\n",
    "\n",
    "Implement the standard deviation algorithm as a generator function as\n",
    "\n",
    "```python\n",
    "def online_mean_dev(iterator):\n",
    "    BLA BLA\n",
    "    if n > 1:\n",
    "        stddev = math.sqrt(dev_accum/(n-1))\n",
    "        yield (n, value, mu, stddev)\n",
    "```"
   ]
  },
  {
   "cell_type": "code",
   "execution_count": 67,
   "metadata": {
    "collapsed": false
   },
   "outputs": [],
   "source": [
    "# your code here\n",
    "import math\n",
    "def online_mean_dev(iterator):\n",
    "    mu = next(iterator)\n",
    "    dev_accum = 0\n",
    "    n=0\n",
    "    \n",
    "    for value in iterator:\n",
    "        n+=1\n",
    "        old_mu = mu\n",
    "        mu = old_mu + (value - old_mu)/n\n",
    "        dev_accum = dev_accum + (value - old_mu)*(value - mu)\n",
    "    \n",
    "        if n > 1:\n",
    "            stddev = math.sqrt(dev_accum/(n-1))\n",
    "            yield (n, value, mu, stddev)"
   ]
  },
  {
   "cell_type": "markdown",
   "metadata": {},
   "source": [
    "Here we make 100000 element data, and run this iterator on it (imagine running this on a time-series being slowly read from disk"
   ]
  },
  {
   "cell_type": "code",
   "execution_count": 68,
   "metadata": {
    "collapsed": true
   },
   "outputs": [],
   "source": [
    "data_with_stats = online_mean_dev(make_data(5, 100000))"
   ]
  },
  {
   "cell_type": "code",
   "execution_count": 66,
   "metadata": {
    "collapsed": false
   },
   "outputs": [
    {
     "data": {
      "text/plain": [
       "[(10001, 999999995.1955078, 999999999.9657292, 2.904659908960276),\n",
       " (10002, 1000000004.9114842, 999999999.9662237, 2.9049356492541385),\n",
       " (10003, 1000000000.2235223, 999999999.9662495, 2.9047915670843594),\n",
       " (10004, 999999999.022243, 999999999.966155, 2.9046617013067224),\n",
       " (10005, 999999996.969372, 999999999.9658555, 2.9046710403154172)]"
      ]
     },
     "execution_count": 66,
     "metadata": {},
     "output_type": "execute_result"
    }
   ],
   "source": [
    "list(data_with_stats)[9999:10004]"
   ]
  },
  {
   "cell_type": "markdown",
   "metadata": {},
   "source": [
    "## Q3.\n",
    "\n",
    "Let's do Anomaly detection. Write a routine `is_ok`:\n",
    "\n",
    "```python\n",
    "def is_ok(level, t)\n",
    "```\n",
    "\n",
    "which takes a tuple like the one yielded by your code above and returns True if the value is inbetween `level`-$\\sigma$ of the mean."
   ]
  },
  {
   "cell_type": "code",
   "execution_count": 69,
   "metadata": {
    "collapsed": true
   },
   "outputs": [],
   "source": [
    "#your code here\n",
    "def is_ok(level, t):\n",
    "    n, value, mu, stddev = t\n",
    "    above = (value >= (mu - level*stddev))\n",
    "    below = (value <= (mu + level*stddev))\n",
    "    return (above & below)"
   ]
  },
  {
   "cell_type": "markdown",
   "metadata": {},
   "source": [
    "We use this function to create a predicate passed through to `itertools.filterfalse` which is then used to obtain an iterator on the anomalies."
   ]
  },
  {
   "cell_type": "code",
   "execution_count": 70,
   "metadata": {
    "collapsed": true
   },
   "outputs": [],
   "source": [
    "from itertools import filterfalse\n",
    "pred = lambda t: is_ok(5, t)\n",
    "anomalies = filterfalse(pred, data_with_stats)"
   ]
  },
  {
   "cell_type": "markdown",
   "metadata": {},
   "source": [
    "We materialize the anomalies..."
   ]
  },
  {
   "cell_type": "code",
   "execution_count": 71,
   "metadata": {
    "collapsed": false
   },
   "outputs": [
    {
     "data": {
      "text/plain": [
       "[(1217, 1000000016.1595209, 1000000000.1549648, 2.8917077035400975),\n",
       " (1348, 999999982.761378, 1000000000.1251444, 2.937724352965173),\n",
       " (6562, 999999983.7535243, 999999999.9877862, 2.9089096579826323),\n",
       " (7323, 1000000014.7159464, 999999999.9954739, 2.9233229696920486),\n",
       " (7592, 999999983.7700639, 999999999.9895842, 2.923596534425622),\n",
       " (7763, 999999984.1318893, 999999999.9914607, 2.9260590362678283),\n",
       " (8855, 1000000014.5991789, 999999999.9965973, 2.9157340703520203),\n",
       " (10022, 999999985.2586726, 999999999.9938676, 2.9331859420690214),\n",
       " (12422, 999999984.8763034, 1000000000.0027957, 2.932280894094167),\n",
       " (13012, 1000000016.3651265, 1000000000.0054185, 2.932499917539923),\n",
       " (21939, 1000000015.6092161, 1000000000.0171708, 2.895917155814586),\n",
       " (22643, 1000000016.8827181, 1000000000.010105, 2.8984798313114335),\n",
       " (24353, 1000000014.7571688, 1000000000.0127407, 2.899329179735781),\n",
       " (27719, 999999984.6054496, 1000000000.0160838, 2.8936640046860056),\n",
       " (39421, 1000000014.5171062, 1000000000.0109216, 2.8876088295734923),\n",
       " (41622, 1000000014.9989915, 1000000000.0049375, 2.884974970528125),\n",
       " (44116, 1000000014.9066241, 1000000000.0035704, 2.8893276714894234),\n",
       " (44282, 1000000015.5195843, 1000000000.0050623, 2.890709911386503),\n",
       " (46335, 999999985.5306795, 1000000000.0041363, 2.893179660456244),\n",
       " (46835, 1000000014.704675, 1000000000.004242, 2.8935357123773935),\n",
       " (48663, 1000000014.5635961, 1000000000.0069059, 2.8951138582042435),\n",
       " (52070, 999999983.7958972, 1000000000.0071046, 2.8899401265573306),\n",
       " (54304, 1000000016.8302021, 1000000000.0074286, 2.887046414994706),\n",
       " (57091, 999999984.4889796, 1000000000.0081433, 2.8897493635220095),\n",
       " (68482, 1000000014.7945485, 1000000000.0018697, 2.883148860515933),\n",
       " (69305, 999999981.5995456, 1000000000.0015758, 2.8840644073547765),\n",
       " (69742, 999999982.5353993, 1000000000.0021876, 2.885320749498206),\n",
       " (69807, 999999982.6801727, 1000000000.001989, 2.8860566220550203),\n",
       " (72711, 1000000016.6168672, 1000000000.0008191, 2.8867923378558857),\n",
       " (74700, 1000000015.0422943, 1000000000.0009638, 2.888866252366771),\n",
       " (76505, 1000000015.9165791, 999999999.9999256, 2.8892611968364106),\n",
       " (77550, 1000000015.2868, 999999999.9991441, 2.887972573426016),\n",
       " (79068, 999999984.1818019, 999999999.999064, 2.8875860456557016),\n",
       " (79226, 1000000016.0420806, 999999999.9993206, 2.8874149314422155),\n",
       " (80558, 999999982.3719102, 999999999.9991393, 2.8871952489749124),\n",
       " (81891, 999999984.9629352, 999999999.9985635, 2.8876624906929047),\n",
       " (83908, 999999985.1058028, 1000000000.0007037, 2.8870754614731826),\n",
       " (84006, 999999984.3731195, 1000000000.0008423, 2.8876002325099734),\n",
       " (84212, 999999985.3547618, 1000000000.0012692, 2.888242030008297),\n",
       " (88290, 999999984.5843643, 999999999.998532, 2.890107090335225),\n",
       " (89019, 999999985.5463071, 999999999.9990504, 2.8893656770750438),\n",
       " (94818, 1000000015.8161484, 999999999.9972177, 2.891319330583403),\n",
       " (95065, 999999984.215186, 999999999.9973977, 2.892027987915034),\n",
       " (95244, 1000000015.4537721, 999999999.9980285, 2.8919543442057525),\n",
       " (95671, 1000000015.4492958, 999999999.998813, 2.891061469089173),\n",
       " (96948, 999999985.4646373, 999999999.9991555, 2.889394819019563),\n",
       " (97314, 999999985.2348005, 999999999.9995958, 2.8897111219921405)]"
      ]
     },
     "execution_count": 71,
     "metadata": {},
     "output_type": "execute_result"
    }
   ],
   "source": [
    "list(anomalies)#materialize"
   ]
  },
  {
   "cell_type": "markdown",
   "metadata": {},
   "source": [
    "## To think of, but not hand in\n",
    "\n",
    "What kinds of anomalies will this algorithm pick up? What kinds would a shorter \"window\" of anomaly detection, like 100 points around the time in question pick? How might you create an algorithm which does window based averaging? (hint: the window size is small compared to the time series size). \n",
    "\n",
    "Finally think a bit of how you might implement all of this in a production environment..remember that data streaming in might get backed up when you handle an anomaly.\n",
    "\n",
    "(Some inspiration might accrue if you look at the docs for `collections.deque`)."
   ]
  },
  {
   "cell_type": "markdown",
   "metadata": {
    "collapsed": true
   },
   "source": [
    "### The algorithm picks up values that are more or less than the number of standard deviations passed to the algorithm, where the standard deviation is a running calculation based on all of your data up until that point.  One limitation would be if your mean changes over time due to the characteristics of your incoming data.  In this case, you might want to see if a value is anomalous around the time window (for example, to detect a large measurement error in a time series that has a mean that changes over time).  In this case, you might want to run over the values in the iterator and do the comparison with a standard deviation for that window rather than the standard deviation of all the data up until that point.  \n",
    "### In a production environment, you might want to have some data storage between the data streaming and the anomaly detection so that you can continue to run the anomaly detection while the data streaming is backed up.  "
   ]
  },
  {
   "cell_type": "code",
   "execution_count": null,
   "metadata": {
    "collapsed": true
   },
   "outputs": [],
   "source": []
  }
 ],
 "metadata": {
  "kernelspec": {
   "display_name": "Python 3",
   "language": "python",
   "name": "python3"
  },
  "language_info": {
   "codemirror_mode": {
    "name": "ipython",
    "version": 3
   },
   "file_extension": ".py",
   "mimetype": "text/x-python",
   "name": "python",
   "nbconvert_exporter": "python",
   "pygments_lexer": "ipython3",
   "version": "3.5.1"
  }
 },
 "nbformat": 4,
 "nbformat_minor": 0
}
