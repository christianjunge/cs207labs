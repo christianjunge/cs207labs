{
 "cells": [
  {
   "cell_type": "markdown",
   "metadata": {},
   "source": [
    "### Q1. Continuing the Vector\n",
    "\n",
    "Our Vector implementation so far looks like this"
   ]
  },
  {
   "cell_type": "code",
   "execution_count": 13,
   "metadata": {
    "collapsed": true
   },
   "outputs": [],
   "source": [
    "from doctest import run_docstring_examples as dtest"
   ]
  },
  {
   "cell_type": "markdown",
   "metadata": {},
   "source": [
    "First, implement all the ad-hoc tests so far as doctests. Then implement multiplication and subtraction for this class. Notice that this is currently a non-mutable vector."
   ]
  },
  {
   "cell_type": "code",
   "execution_count": 82,
   "metadata": {
    "collapsed": true
   },
   "outputs": [],
   "source": [
    "#example from Fluent\n",
    "from array import array \n",
    "import reprlib\n",
    "import math\n",
    "import numbers\n",
    "import functools\n",
    "import operator\n",
    "import itertools\n",
    "\n",
    "class Vector:\n",
    "    \"\"\"\n",
    "    Parameters\n",
    "    ----------\n",
    "    Returns\n",
    "    -------\n",
    "    Notes\n",
    "    -----\n",
    "\n",
    "    Examples\n",
    "    --------\n",
    "    >>> v3=Vector([1,2,3])\n",
    "    >>> v2=Vector([3,4])\n",
    "    >>> v1=Vector([1,2])\n",
    "    >>> v4=Vector([3,4])\n",
    "    >>> v1+1,v1+[1,2]\n",
    "    (Vector([2.0, 3.0]), Vector([2.0, 4.0]))\n",
    "    >>> v1 + v2, v2 + v1\n",
    "    (Vector([4.0, 6.0]), Vector([4.0, 6.0]))\n",
    "    >>> v2==v4\n",
    "    True\n",
    "    >>> v1==v2\n",
    "    False\n",
    "    >>> list(v1)\n",
    "    [1.0, 2.0]\n",
    "    >>> -v1\n",
    "    Vector([-1.0, -2.0])\n",
    "    >>> +v1\n",
    "    Vector([1.0, 2.0])\n",
    "    >>> v1 + [1,2]\n",
    "    Vector([2.0, 4.0])\n",
    "    >>> [1,2] + v1\n",
    "    Vector([2.0, 4.0])\n",
    "    >>> v1 + 3\n",
    "    Vector([4.0, 5.0])\n",
    "    >>> 3 + v1\n",
    "    Vector([4.0, 5.0])\n",
    "    >>> v1 += 3\n",
    "    >>> v1\n",
    "    Vector([4.0, 5.0])\n",
    "    >>> list(iter(v1))\n",
    "    [4.0, 5.0]\n",
    "    >>> len(v1)\n",
    "    2\n",
    "    >>> v1[1]\n",
    "    5.0\n",
    "    >>> abs(v1)\n",
    "    6.4031242374328485\n",
    "    >>> v1 * v2\n",
    "    Vector([12.0, 20.0])\n",
    "    >>> v2* v1\n",
    "    Vector([12.0, 20.0])\n",
    "    >>> 4*v1\n",
    "    Vector([16.0, 20.0])\n",
    "    >>> v1*4.9\n",
    "    Vector([19.6, 24.5])\n",
    "    \"\"\"\n",
    "    \n",
    "    typecode = 'd'\n",
    "    \n",
    "    def __init__(self, components):\n",
    "        self._components = array(self.typecode, components)\n",
    "        \n",
    "    def __iter__(self):\n",
    "        return iter(self._components)\n",
    "    \n",
    "    def __repr__(self):\n",
    "        components = reprlib.repr(self._components) \n",
    "        components = components[components.find('['):-1] \n",
    "        return 'Vector({})'.format(components)\n",
    "    \n",
    "    def __eq__(self, other):\n",
    "        if isinstance(other, Vector):\n",
    "            return (len(self) == len(other) and\n",
    "                all(a == b for a, b in zip(self, other)))\n",
    "        else:\n",
    "            return NotImplemented\n",
    "    \n",
    "    def __abs__(self):\n",
    "        return math.sqrt(sum(x * x for x in self))\n",
    "    \n",
    "    def __bool__(self): \n",
    "        return bool(abs(self))\n",
    "    \n",
    "    def __len__(self):\n",
    "        return len(self._components)\n",
    "    \n",
    "    def __getitem__(self, index): \n",
    "        cls = type(self)\n",
    "        \n",
    "        if isinstance(index, slice):\n",
    "            return cls(self._components[index])\n",
    "        elif isinstance(index, numbers.Integral): \n",
    "            return self._components[index]\n",
    "        else:\n",
    "            msg = '{.__name__} indices must be integers' \n",
    "            raise TypeError(msg.format(cls))\n",
    "            \n",
    "    def __neg__(self):\n",
    "        return Vector(-x for x in self) \n",
    "    \n",
    "    def __pos__(self):\n",
    "        return Vector(self)\n",
    "    \n",
    "    def _check_length_helper(self , rhs):\n",
    "        if not len(self)==len(rhs):\n",
    "            raise ValueError(str(self)+' and '+str(rhs)+' must have the same length')\n",
    "    \n",
    "    def __add__(self, rhs):\n",
    "        try:\n",
    "            if isinstance(rhs, numbers.Real):\n",
    "                return Vector(a + rhs for a in self) \n",
    "            else: #\n",
    "                self._check_length_helper(rhs)\n",
    "                pairs = zip(self, rhs)\n",
    "                return Vector(a + b for a, b in pairs)\n",
    "        except TypeError:\n",
    "            raise NotImplemented\n",
    "    \n",
    "    def __radd__(self, other): # other + self delegates to __add__\n",
    "        return self + other\n",
    "\n",
    "    def __mul__(self, rhs):\n",
    "        try:\n",
    "            if isinstance(rhs, numbers.Real):\n",
    "                return Vector(a * rhs for a in self) \n",
    "            else: #\n",
    "                self._check_length_helper(rhs)\n",
    "                pairs = zip(self, rhs)\n",
    "                return Vector(a*b for a, b in pairs)\n",
    "        except TypeError:\n",
    "            raise NotImplemented\n",
    "    \n",
    "    def __rmul__(self, other): # other + self delegates to __add__\n",
    "        return self * other\n",
    "    \n",
    "    def __sub__(self, rhs):\n",
    "        try:\n",
    "            if isinstance(rhs, numbers.Real):\n",
    "                return Vector(a-rhs for a in self) \n",
    "            else: #\n",
    "                self._check_length_helper(rhs)\n",
    "                pairs = zip(self, rhs)\n",
    "                return Vector(a-b for a, b in pairs)\n",
    "        except TypeError:\n",
    "            raise NotImplemented\n",
    "    \n",
    "    def __rsub__(self, other): # other + self delegates to __add__\n",
    "        return self - other"
   ]
  },
  {
   "cell_type": "code",
   "execution_count": 84,
   "metadata": {
    "collapsed": false
   },
   "outputs": [
    {
     "name": "stdout",
     "output_type": "stream",
     "text": [
      "Finding tests in NoName\n",
      "Trying:\n",
      "    v3=Vector([1,2,3])\n",
      "Expecting nothing\n",
      "ok\n",
      "Trying:\n",
      "    v2=Vector([3,4])\n",
      "Expecting nothing\n",
      "ok\n",
      "Trying:\n",
      "    v1=Vector([1,2])\n",
      "Expecting nothing\n",
      "ok\n",
      "Trying:\n",
      "    v4=Vector([3,4])\n",
      "Expecting nothing\n",
      "ok\n",
      "Trying:\n",
      "    v1+1,v1+[1,2]\n",
      "Expecting:\n",
      "    (Vector([2.0, 3.0]), Vector([2.0, 4.0]))\n",
      "ok\n",
      "Trying:\n",
      "    v1 + v2, v2 + v1\n",
      "Expecting:\n",
      "    (Vector([4.0, 6.0]), Vector([4.0, 6.0]))\n",
      "ok\n",
      "Trying:\n",
      "    v2==v4\n",
      "Expecting:\n",
      "    True\n",
      "ok\n",
      "Trying:\n",
      "    v1==v2\n",
      "Expecting:\n",
      "    False\n",
      "ok\n",
      "Trying:\n",
      "    list(v1)\n",
      "Expecting:\n",
      "    [1.0, 2.0]\n",
      "ok\n",
      "Trying:\n",
      "    -v1\n",
      "Expecting:\n",
      "    Vector([-1.0, -2.0])\n",
      "ok\n",
      "Trying:\n",
      "    +v1\n",
      "Expecting:\n",
      "    Vector([1.0, 2.0])\n",
      "ok\n",
      "Trying:\n",
      "    v1 + [1,2]\n",
      "Expecting:\n",
      "    Vector([2.0, 4.0])\n",
      "ok\n",
      "Trying:\n",
      "    [1,2] + v1\n",
      "Expecting:\n",
      "    Vector([2.0, 4.0])\n",
      "ok\n",
      "Trying:\n",
      "    v1 + 3\n",
      "Expecting:\n",
      "    Vector([4.0, 5.0])\n",
      "ok\n",
      "Trying:\n",
      "    3 + v1\n",
      "Expecting:\n",
      "    Vector([4.0, 5.0])\n",
      "ok\n",
      "Trying:\n",
      "    v1 += 3\n",
      "Expecting nothing\n",
      "ok\n",
      "Trying:\n",
      "    v1\n",
      "Expecting:\n",
      "    Vector([4.0, 5.0])\n",
      "ok\n",
      "Trying:\n",
      "    list(iter(v1))\n",
      "Expecting:\n",
      "    [4.0, 5.0]\n",
      "ok\n",
      "Trying:\n",
      "    len(v1)\n",
      "Expecting:\n",
      "    2\n",
      "ok\n",
      "Trying:\n",
      "    v1[1]\n",
      "Expecting:\n",
      "    5.0\n",
      "ok\n",
      "Trying:\n",
      "    abs(v1)\n",
      "Expecting:\n",
      "    6.4031242374328485\n",
      "ok\n",
      "Trying:\n",
      "    v1 * v2\n",
      "Expecting:\n",
      "    Vector([12.0, 20.0])\n",
      "ok\n",
      "Trying:\n",
      "    v2* v1\n",
      "Expecting:\n",
      "    Vector([12.0, 20.0])\n",
      "ok\n",
      "Trying:\n",
      "    4*v1\n",
      "Expecting:\n",
      "    Vector([16.0, 20.0])\n",
      "ok\n",
      "Trying:\n",
      "    v1*4.9\n",
      "Expecting:\n",
      "    Vector([19.6, 24.5])\n",
      "ok\n"
     ]
    }
   ],
   "source": [
    "dtest(Vector, globals(), verbose=True)"
   ]
  },
  {
   "cell_type": "markdown",
   "metadata": {},
   "source": [
    "### Q2. Mixins for functionality\n",
    "\n",
    "Here is a set of methods that logs dictionary access"
   ]
  },
  {
   "cell_type": "code",
   "execution_count": 86,
   "metadata": {
    "collapsed": true
   },
   "outputs": [],
   "source": [
    "class LoggedMappingMixin: \n",
    "    '''\n",
    "    Add logging to get/set/delete operations for debugging. \n",
    "    '''\n",
    "    __slots__ = ()\n",
    "    def __getitem__(self, key): \n",
    "        print('Getting ' + str(key)) \n",
    "        return super().__getitem__(key)\n",
    "    def __setitem__(self, key, value): \n",
    "        print('Setting {} = {!r}'.format(key, value)) \n",
    "        return super().__setitem__(key, value)\n",
    "    def __delitem__(self, key): \n",
    "        print('Deleting ' + str(key)) \n",
    "        return super().__delitem__(key)"
   ]
  },
  {
   "cell_type": "markdown",
   "metadata": {},
   "source": [
    "Notice the use of `super()` here. `super()` is the same as `super(self.__class__, self)`. But we dont have a parent!\n",
    "\n",
    "What is going on? You tell me the answer to this when you inherit a `LoggedDict` with no implementation from both `LoggedMappingMixin` and `dict`. Which order must you inherit in? Play with the `mro` method and figure this out."
   ]
  },
  {
   "cell_type": "code",
   "execution_count": 127,
   "metadata": {
    "collapsed": false
   },
   "outputs": [],
   "source": [
    "#write the LoggedDict class 2 ways and play with the mro, then write the reason\n",
    "\n",
    "class LoggedDict(LoggedMappingMixin, dict): \n",
    "    pass"
   ]
  },
  {
   "cell_type": "code",
   "execution_count": 128,
   "metadata": {
    "collapsed": false
   },
   "outputs": [
    {
     "data": {
      "text/plain": [
       "[__main__.LoggedDict, __main__.LoggedMappingMixin, dict, object]"
      ]
     },
     "execution_count": 128,
     "metadata": {},
     "output_type": "execute_result"
    }
   ],
   "source": [
    "LoggedDict.mro()"
   ]
  },
  {
   "cell_type": "code",
   "execution_count": 126,
   "metadata": {
    "collapsed": false
   },
   "outputs": [
    {
     "name": "stdout",
     "output_type": "stream",
     "text": [
      "Getting a\n",
      "3\n",
      "Setting d = 10\n",
      "Getting a\n",
      "Getting b\n",
      "Getting c\n",
      "Getting d\n"
     ]
    },
    {
     "data": {
      "text/plain": [
       "{'a': 3, 'b': 4, 'c': 5, 'd': 10}"
      ]
     },
     "execution_count": 126,
     "metadata": {},
     "output_type": "execute_result"
    }
   ],
   "source": [
    "ba = LoggedDict({'a':3, 'b':4, 'c':5})\n",
    "print(ba['a'])\n",
    "ba['d']=10\n",
    "ba"
   ]
  },
  {
   "cell_type": "code",
   "execution_count": 103,
   "metadata": {
    "collapsed": false
   },
   "outputs": [],
   "source": [
    "#your code here\n",
    "class LoggedDict(dict, LoggedMappingMixin): \n",
    "    pass"
   ]
  },
  {
   "cell_type": "code",
   "execution_count": 97,
   "metadata": {
    "collapsed": false
   },
   "outputs": [
    {
     "data": {
      "text/plain": [
       "[__main__.LoggedDict, dict, __main__.LoggedMappingMixin, object]"
      ]
     },
     "execution_count": 97,
     "metadata": {},
     "output_type": "execute_result"
    }
   ],
   "source": [
    "LoggedDict.mro()"
   ]
  },
  {
   "cell_type": "code",
   "execution_count": 104,
   "metadata": {
    "collapsed": true
   },
   "outputs": [],
   "source": [
    "ba = LoggedDict({'a':3, 'b':4, 'c':5})\n",
    "print(ba['a'])\n",
    "ba['d']=10\n",
    "ba"
   ]
  },
  {
   "cell_type": "markdown",
   "metadata": {},
   "source": [
    "*your answer here*\n",
    "We need to inherit from dict after LoggedMappingMixin, because lookup will search the mro left to right, and we want to find LoggedMappingMixin before we find dict so that dict's behavior is overridden. "
   ]
  },
  {
   "cell_type": "markdown",
   "metadata": {},
   "source": [
    "### Q3. The Pavlos Problem\n",
    "\n",
    "ABC's and doctests. The Pavlos problem.\n",
    "\n",
    "Introspection of a class hierarchy is helped by:\n",
    "`__subclasses__()` and `_abc_registry` which give us concrete subclasses and virtual subclasses respectively. We can use this to fully document an interface via an example."
   ]
  },
  {
   "cell_type": "code",
   "execution_count": 179,
   "metadata": {
    "collapsed": false
   },
   "outputs": [],
   "source": [
    "import abc\n",
    "class StackInterface(abc.ABC):\n",
    "    \"\"\"\n",
    "    >>> a = ListStack()\n",
    "    >>> a.push(1)\n",
    "    >>> a.push(2)\n",
    "    >>> a.peek()\n",
    "    2\n",
    "    >>> a.pop()\n",
    "    2\n",
    "    >>> a.pop()\n",
    "    1\n",
    "    >>> a.peek()\n",
    "    >>> a.pop()\n",
    "    \"\"\"\n",
    "    \n",
    "    @abc.abstractmethod\n",
    "    def push(self, value):\n",
    "        \"Push value onto the stack. Return None\"\n",
    "        \n",
    "    @abc.abstractmethod\n",
    "    def pop(self):\n",
    "        \"Pop value from Stack. Return None if nothingon stack\"\n",
    "        \n",
    "    @abc.abstractmethod\n",
    "    def peek(self):\n",
    "        \"Peeak at top of stack. Return None if empty\""
   ]
  },
  {
   "cell_type": "markdown",
   "metadata": {},
   "source": [
    "Implement `ListStack` using a python list"
   ]
  },
  {
   "cell_type": "code",
   "execution_count": 185,
   "metadata": {
    "collapsed": false
   },
   "outputs": [],
   "source": [
    "#your code here\n",
    "class ListStack(StackInterface):\n",
    "    def __init__(self):\n",
    "        self._stack = list()\n",
    "        \n",
    "    def push(self, value):\n",
    "        self._stack.append(value)\n",
    "        \n",
    "    def pop(self):\n",
    "        try: \n",
    "            popped = self._stack[-1]\n",
    "            self._stack = self._stack[:-1]\n",
    "            return popped\n",
    "        except: \n",
    "            \"Empty ListStack\"\n",
    "    \n",
    "    def peek(self):\n",
    "        try:\n",
    "            return self._stack[-1]\n",
    "        except: \"Empty ListStack\"\n",
    "    \n",
    "    def __getitem__(self, idx):\n",
    "        return self._stack[idx]\n",
    "    \n",
    "    def __iter__(self):\n",
    "        return iter(self._stack)\n",
    "    \n",
    "    def __repr__(self):\n",
    "        return \"ListStack(\" + str(self._stack) + \")\""
   ]
  },
  {
   "cell_type": "code",
   "execution_count": 187,
   "metadata": {
    "collapsed": false
   },
   "outputs": [
    {
     "name": "stdout",
     "output_type": "stream",
     "text": [
      "ListStack([1])\n",
      "1\n",
      "1\n",
      "ListStack([])\n"
     ]
    }
   ],
   "source": [
    "a = ListStack()\n",
    "a.push(1)\n",
    "print(a)\n",
    "print(a.peek())\n",
    "print(a.pop())\n",
    "print(a)"
   ]
  },
  {
   "cell_type": "markdown",
   "metadata": {},
   "source": [
    "How do we test this using the tests in `StackInterface`? And in general for other virtual or real subclasses? Show this here. (work out doing this from a file at home, you dont need to answer the file case here). This recipe wont work with py.test"
   ]
  },
  {
   "cell_type": "code",
   "execution_count": 186,
   "metadata": {
    "collapsed": false
   },
   "outputs": [
    {
     "name": "stdout",
     "output_type": "stream",
     "text": [
      "Finding tests in NoName\n",
      "Trying:\n",
      "    a = ListStack()\n",
      "Expecting nothing\n",
      "ok\n",
      "Trying:\n",
      "    a.push(1)\n",
      "Expecting nothing\n",
      "ok\n",
      "Trying:\n",
      "    a.push(2)\n",
      "Expecting nothing\n",
      "ok\n",
      "Trying:\n",
      "    a.peek()\n",
      "Expecting:\n",
      "    2\n",
      "ok\n",
      "Trying:\n",
      "    a.pop()\n",
      "Expecting:\n",
      "    2\n",
      "ok\n",
      "Trying:\n",
      "    a.pop()\n",
      "Expecting:\n",
      "    1\n",
      "ok\n",
      "Trying:\n",
      "    a.peek()\n",
      "Expecting nothing\n",
      "ok\n",
      "Trying:\n",
      "    a.pop()\n",
      "Expecting nothing\n",
      "ok\n"
     ]
    }
   ],
   "source": [
    "globaldict = globals()\n",
    "globaldict['Stack']=StackInterface.__subclasses__()\n",
    "dtest(StackInterface, globaldict, verbose=True)"
   ]
  },
  {
   "cell_type": "markdown",
   "metadata": {},
   "source": [
    "### Q4. Your Timeseries Project\n",
    "\n",
    "Operator overloading on your `TimeSeries` class.\n",
    "\n",
    "Your `TimeSeries` class should be, by now, a well documented, well tested, mutable, class which implements:\n",
    "\n",
    "- `__getitem__`: to get a value for a given time\n",
    "- `__setitem__`: set the value for the given time\n",
    "- `__contains__`: is a value in the values\n",
    "- `__iter__`: iterates over values. (This might have iterated over tuples of (time, value) pairs earlier\n",
    "- `values`: returns a numpy array of values\n",
    "- `itervalues`: returns an iterator over them\n",
    "- `times`: returns a numpy array of times\n",
    "- `itertimes`: returns an iterator over them\n",
    "- `items`: returns a list of time-value tuple pairs\n",
    "- `iteritems`: returns an iterator over these\n",
    "- `__len__`: returns a length.\n",
    "- `__repr__`: abbreviating spring representation\n",
    "\n",
    "Add to these methods(again well tested):\n",
    "\n",
    "- infix addition, subtraction, equality and multiplication. Here you must check that the lengths are equal and that the time domains are the same for the case of the operations on a TimeSeries (the latter implies the former). Return a `ValueError` in case this fails:\n",
    "\n",
    "`ValueError(str(self)+' and '+str(rhs)+' must have the same time points')`\n",
    "\n",
    "Let these be elementwise operations, as we might expect from a numpy array-like thing. As before, handle the case of a constant.\n",
    "- unary `__abs__`, `__bool__`, `__neg__`, and `__pos__` with the same semantics as the `Vector` class above.\n",
    "\n",
    "\n",
    "A question that might arise is what to do if we add numpy arrays or regular python lists. These should fail with `raise NotImplemented` as we dont have time associated. An option might have been to associate the array with the time indexing of the other array, but this is making too many assumptions: the user can do this explicitly.\n",
    "\n",
    "You will probably have to catch another exception for this to happen.\n",
    "\n",
    "Put this code into your project repo."
   ]
  },
  {
   "cell_type": "markdown",
   "metadata": {
    "collapsed": true
   },
   "source": [
    "### TO READ: Numpy ufuncs and function overloading\n",
    "\n",
    "Check this out. Read http://docs.scipy.org/doc/numpy-dev/reference/arrays.classes.html#special-attributes-and-methods to understand how this works. We will use it later."
   ]
  },
  {
   "cell_type": "code",
   "execution_count": 188,
   "metadata": {
    "collapsed": false
   },
   "outputs": [
    {
     "name": "stdout",
     "output_type": "stream",
     "text": [
      "<class 'pandas.core.series.Series'>\n"
     ]
    },
    {
     "data": {
      "text/plain": [
       "(0     2.718282\n",
       " 1     7.389056\n",
       " 2    20.085537\n",
       " dtype: float64, pandas.core.series.Series)"
      ]
     },
     "execution_count": 188,
     "metadata": {},
     "output_type": "execute_result"
    }
   ],
   "source": [
    "import numpy as np\n",
    "import pandas as pd\n",
    "p=pd.Series([1,2,3])\n",
    "print(type(p))\n",
    "p2=np.exp(p)\n",
    "p2, type(p2)"
   ]
  },
  {
   "cell_type": "code",
   "execution_count": null,
   "metadata": {
    "collapsed": true
   },
   "outputs": [],
   "source": []
  }
 ],
 "metadata": {
  "kernelspec": {
   "display_name": "Python 3",
   "language": "python",
   "name": "python3"
  },
  "language_info": {
   "codemirror_mode": {
    "name": "ipython",
    "version": 3
   },
   "file_extension": ".py",
   "mimetype": "text/x-python",
   "name": "python",
   "nbconvert_exporter": "python",
   "pygments_lexer": "ipython3",
   "version": "3.5.1"
  }
 },
 "nbformat": 4,
 "nbformat_minor": 0
}
