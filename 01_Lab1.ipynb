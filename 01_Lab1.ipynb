{
 "cells": [
  {
   "cell_type": "markdown",
   "metadata": {},
   "source": [
    "## Lab 1\n",
    "\n",
    "### by Rahul Dave"
   ]
  },
  {
   "cell_type": "markdown",
   "metadata": {},
   "source": [
    "The purpose of thus lab is to simply get things installed. And to collect some information from you.\n",
    "\n",
    "### Python\n",
    "\n",
    "We will be using python3.5. If you havent installed Anaconda ever before, the easiest thing will be to grab the python3.5 installers from https://www.continuum.io/downloads .\n",
    "\n",
    "If you have installed Python 2.7.x from Anaconda before, the simplest thing to do that I found was here: http://stackoverflow.com/questions/30492623/using-both-python-2-x-and-python-3-x-in-ipython-notebook\n",
    "\n",
    "```\n",
    "conda create -n py35 python=3.5\n",
    "source /anaconda/envs/py35/bin/activate py35\n",
    "conda install notebook ipykernel\n",
    "ipython kernel install\n",
    "```\n",
    "\n",
    "The first line creates a new `py35` envorinment, similar to a virtualenv. The second one activates it on the terminal, changing the PATH. The next two install the python3 kernel, so that you can continue using the ipython notebook the way you always did (a refresh, or maybe a restart would suffice, and it does not matter if the notebook is created with python 2.7 or python 3.5.\n",
    "\n",
    "### C\n",
    "\n",
    "On Linux you will need to do something like:\n",
    "\n",
    "`apt-get install gcc gcc-devel gdb`\n",
    "\n",
    "On Mac you will need to use brew. Install it from here: http://brew.sh/ . Then do \n",
    "\n",
    "```\n",
    "brew install gcc\n",
    "brew install gdb\n",
    "```\n",
    "\n",
    "If you have installed Xcode and have gcc and gdb installed (this would be an older version, perhaps `llvm-gcc`) thats fine too, so you might want to test and see if this works for you. If you want to use llvm thats fine too: just make sure everything is properly installed (`clang` and `lldb`). Still I'd recommend the brew way\n",
    "\n",
    "For windows, if you know how to use visual studio and C on it, thats great. Another option is msys2. http://msys2.github.io/ . Follow the instructions there and use `pacman` to make sure the gcc and gdb packages are installed. Then run the below to make sure you can compile."
   ]
  },
  {
   "cell_type": "code",
   "execution_count": 1,
   "metadata": {
    "collapsed": false
   },
   "outputs": [
    {
     "name": "stdout",
     "output_type": "stream",
     "text": [
      "Writing helloworld.c\n"
     ]
    }
   ],
   "source": [
    "%%file helloworld.c\n",
    "#include <stdio.h>\n",
    "\n",
    "int main(int argc, char** argv)\n",
    "{\n",
    "    printf(\"Hello world!\\n\");\n",
    "    return 0;\n",
    "}"
   ]
  },
  {
   "cell_type": "code",
   "execution_count": 2,
   "metadata": {
    "collapsed": true
   },
   "outputs": [],
   "source": [
    "!gcc -o helloworld helloworld.c"
   ]
  },
  {
   "cell_type": "code",
   "execution_count": 4,
   "metadata": {
    "collapsed": false
   },
   "outputs": [
    {
     "name": "stdout",
     "output_type": "stream",
     "text": [
      "Hello world!\r\n"
     ]
    }
   ],
   "source": [
    "!./helloworld"
   ]
  },
  {
   "cell_type": "code",
   "execution_count": 5,
   "metadata": {
    "collapsed": false
   },
   "outputs": [
    {
     "name": "stdout",
     "output_type": "stream",
     "text": [
      "GNU gdb (GDB) 7.10.1\r\n",
      "Copyright (C) 2015 Free Software Foundation, Inc.\r\n",
      "License GPLv3+: GNU GPL version 3 or later <http://gnu.org/licenses/gpl.html>\r\n",
      "This is free software: you are free to change and redistribute it.\r\n",
      "There is NO WARRANTY, to the extent permitted by law.  Type \"show copying\"\r\n",
      "and \"show warranty\" for details.\r\n",
      "This GDB was configured as \"x86_64-apple-darwin13.4.0\".\r\n",
      "Type \"show configuration\" for configuration details.\r\n",
      "For bug reporting instructions, please see:\r\n",
      "<http://www.gnu.org/software/gdb/bugs/>.\r\n",
      "Find the GDB manual and other documentation resources online at:\r\n",
      "<http://www.gnu.org/software/gdb/documentation/>.\r\n",
      "For help, type \"help\".\r\n",
      "Type \"apropos word\" to search for commands related to \"word\".\r\n"
     ]
    }
   ],
   "source": [
    "!gdb --version"
   ]
  },
  {
   "cell_type": "markdown",
   "metadata": {},
   "source": [
    "### git and github\n",
    "\n",
    "Make sure you have git installed. See cs109's lab 1 for this. That lab (put together by me, based on work by our intrepid head TF Bob, see [here](https://github.com/cs109/2015lab1/blob/master/Lab1-git.ipynb) has a very detailed intro do git which you should remind yourself of. The cs109 youtube channel is also useful.\n",
    "\n",
    "If you dont have a github account yet, create one. You will need it. There, create a repository under your namespace, `cs207labs`, which you will use for labs in this course."
   ]
  },
  {
   "cell_type": "code",
   "execution_count": 8,
   "metadata": {
    "collapsed": false
   },
   "outputs": [
    {
     "name": "stdout",
     "output_type": "stream",
     "text": [
      "git version 2.4.3\r\n"
     ]
    }
   ],
   "source": [
    "!git --version"
   ]
  },
  {
   "cell_type": "markdown",
   "metadata": {},
   "source": [
    "### flake8\n",
    "\n",
    "On any terminal, if you want to use python3.5, use\n",
    "\n",
    "`source /anaconda/envs/py35/bin/activate py35`\n",
    "\n",
    "and it will set up the paths for you. You could of-course use the full paths, but that will get old quickly.\n",
    "\n",
    "Once you do this, do\n",
    "\n",
    "`pip install flake8` which make sure you have the flake8 linter installed."
   ]
  },
  {
   "cell_type": "code",
   "execution_count": 10,
   "metadata": {
    "collapsed": false
   },
   "outputs": [
    {
     "name": "stdout",
     "output_type": "stream",
     "text": [
      "Writing test.py\n"
     ]
    }
   ],
   "source": [
    "%%file test.py\n",
    "if __name__==\"__main__\":\n",
    "    print(\"Hello World\")"
   ]
  },
  {
   "cell_type": "code",
   "execution_count": 11,
   "metadata": {
    "collapsed": false
   },
   "outputs": [
    {
     "name": "stdout",
     "output_type": "stream",
     "text": [
      "test.py:1:12: E225 missing whitespace around operator\r\n",
      "test.py:2:25: W292 no newline at end of file\r\n"
     ]
    }
   ],
   "source": [
    "!/anaconda/envs/py35/bin/flake8 test.py"
   ]
  },
  {
   "cell_type": "code",
   "execution_count": 12,
   "metadata": {
    "collapsed": false
   },
   "outputs": [
    {
     "name": "stdout",
     "output_type": "stream",
     "text": [
      "Overwriting test.py\n"
     ]
    }
   ],
   "source": [
    "%%file test.py\n",
    "if __name__ == \"__main__\":\n",
    "    print(\"Hello World\")"
   ]
  },
  {
   "cell_type": "code",
   "execution_count": 13,
   "metadata": {
    "collapsed": false
   },
   "outputs": [
    {
     "name": "stdout",
     "output_type": "stream",
     "text": [
      "test.py:2:25: W292 no newline at end of file\r\n"
     ]
    }
   ],
   "source": [
    "!/anaconda/envs/py35/bin/flake8 test.py"
   ]
  },
  {
   "cell_type": "markdown",
   "metadata": {},
   "source": [
    "### A text editor\n",
    "\n",
    "Choose a text editor. I am using Atom, with the flake8 plugin installed:\n",
    "\n",
    "```\n",
    "apm install linter\n",
    "apm install linter-flake8\n",
    "```"
   ]
  },
  {
   "cell_type": "markdown",
   "metadata": {},
   "source": [
    "### Unix Basics\n",
    "\n",
    "You must be hip with the unix command line, even if you are on windows. These links might be useful:\n",
    "\n",
    "- http://freeengineer.org/learnUNIXin10minutes.html\n",
    "- Software carpentry can get you started too, and has lessons which might come in useful later in this course as well: http://software-carpentry.org/lessons/ ."
   ]
  }
 ],
 "metadata": {
  "kernelspec": {
   "display_name": "Python 3",
   "language": "python",
   "name": "python3"
  },
  "language_info": {
   "codemirror_mode": {
    "name": "ipython",
    "version": 3
   },
   "file_extension": ".py",
   "mimetype": "text/x-python",
   "name": "python",
   "nbconvert_exporter": "python",
   "pygments_lexer": "ipython3",
   "version": "3.5.1"
  }
 },
 "nbformat": 4,
 "nbformat_minor": 0
}
