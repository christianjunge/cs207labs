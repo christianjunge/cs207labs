{
 "cells": [
  {
   "cell_type": "markdown",
   "metadata": {},
   "source": [
    "## Q1.\n",
    "\n",
    "Use github to integrate our math library with Travis CI and Coveralls."
   ]
  },
  {
   "cell_type": "code",
   "execution_count": 1,
   "metadata": {
    "collapsed": false
   },
   "outputs": [
    {
     "name": "stdout",
     "output_type": "stream",
     "text": [
      "Overwriting amath.py\n"
     ]
    }
   ],
   "source": [
    "%%file amath.py\n",
    "\n",
    "def myaverage(l:list)->float:\n",
    "    \"\"\"\n",
    "    Calculate the average of list l\n",
    "    \n",
    "    Examples:\n",
    "    \n",
    "    >>> myaverage([1,2])\n",
    "    1.5\n",
    "    \n",
    "    \"\"\"\n",
    "    n = len(l)\n",
    "    if n==0:\n",
    "        raise ValueError(\"cant calculate mean of length 0 list\")\n",
    "    try:\n",
    "        thesum = sum(l)\n",
    "    except:\n",
    "        raise TypeError(\"Cannot sum things of different types\")\n",
    "    average = thesum/n\n",
    "    return average\n",
    "\n",
    "def mymedian(l:list)->float:\n",
    "    \"\"\"\n",
    "    Calculate the average of list l\n",
    "    \n",
    "    Examples:\n",
    "    \n",
    "    >>> mymedian([1,2,3])\n",
    "    2\n",
    "    \n",
    "    >>> mymedian([1,2,3,4])\n",
    "    2.5\n",
    "    \"\"\"\n",
    "    try:\n",
    "        lsorted = sorted(l)\n",
    "    except:\n",
    "        raise TypeError(\"Unable to sort array\")\n",
    "    n = len(lsorted)\n",
    "    if n==0:\n",
    "        raise ValueError(\"cant calculate median of length 0 list\")\n",
    "    mididx = len(lsorted)//2\n",
    "    if len(lsorted) % 2 == 0: #even\n",
    "        return (lsorted[mididx-1] + lsorted[mididx])/2\n",
    "    else:\n",
    "        return lsorted[mididx]"
   ]
  },
  {
   "cell_type": "code",
   "execution_count": 2,
   "metadata": {
    "collapsed": false
   },
   "outputs": [
    {
     "name": "stdout",
     "output_type": "stream",
     "text": [
      "Overwriting test_amath.py\n"
     ]
    }
   ],
   "source": [
    "%%file test_amath.py\n",
    "\n",
    "from pytest import raises\n",
    "from amath import myaverage, mymedian\n",
    "\n",
    "def test_mymath_mean():\n",
    "    assert myaverage([9,3]) == 6\n",
    "\n",
    "def test_char():\n",
    "    with raises(TypeError):\n",
    "        myaverage(['a',3])\n",
    "\n",
    "def test_mymath():\n",
    "    assert mymedian([9,3, 6]) == 6\n",
    "    \n",
    "def test_zero_median():\n",
    "    with raises(ValueError):\n",
    "        mymedian([])\n",
    "        \n",
    "def test_char_median():\n",
    "    with raises(TypeError):\n",
    "        mymedian(['a', 3])"
   ]
  },
  {
   "cell_type": "code",
   "execution_count": 7,
   "metadata": {
    "collapsed": false,
    "scrolled": false
   },
   "outputs": [
    {
     "name": "stdout",
     "output_type": "stream",
     "text": [
      "ls: /Users/christianjunge/envs/: No such file or directory\r\n"
     ]
    }
   ],
   "source": [
    "!ls /Users/christianjunge/anaconda/envs/py35/bin/"
   ]
  },
  {
   "cell_type": "code",
   "execution_count": 18,
   "metadata": {
    "collapsed": false
   },
   "outputs": [
    {
     "name": "stdout",
     "output_type": "stream",
     "text": [
      "/Users/christianjunge/anaconda/envs/py35/bin//py.test\r\n"
     ]
    }
   ],
   "source": [
    "!which py.test"
   ]
  },
  {
   "cell_type": "code",
   "execution_count": 8,
   "metadata": {
    "collapsed": false,
    "scrolled": true
   },
   "outputs": [
    {
     "data": {
      "text/plain": [
       "environ({'XPC_SERVICE_NAME': '0', 'SSH_AUTH_SOCK': '/private/tmp/com.apple.launchd.OVd49WCCBV/Listeners', 'JPY_PARENT_PID': '31716', 'SHELL': '/bin/bash', 'LANG': 'en_US.UTF-8', 'PYTHONPATH': ':/usr/local/lib/python2.7/site-packages/', 'PATH': '/Users/christianjunge/anaconda/envs/py35/bin/:/Users/christianjunge/anaconda/bin:/usr/local/bin:/usr/bin:/bin:/usr/sbin:/sbin:/Library/TeX/texbin', 'TMPDIR': '/var/folders/gr/zl_99n6x0x55d0566xgpd4sh0000gn/T/', '__CF_USER_TEXT_ENCODING': '0x1F5:0x0:0x0', 'GIT_PAGER': 'cat', '_': '/Users/christianjunge/anaconda/python.app/Contents/MacOS/python', 'SHLVL': '2', 'TERM_SESSION_ID': '1A8660BC-25F2-494D-8931-43213F46AA64', 'LOGNAME': 'christianjunge', 'USER': 'christianjunge', 'TERM': 'xterm-color', 'Apple_PubSub_Socket_Render': '/private/tmp/com.apple.launchd.NXkmjGyEw2/Render', 'PAGER': 'cat', 'TERM_PROGRAM_VERSION': '361.1', 'HOME': '/Users/christianjunge', 'TERM_PROGRAM': 'Apple_Terminal', 'PWD': '/Users/christianjunge/OneDrive/CS207SoftwareEngineering/cs207labs', 'XPC_FLAGS': '0x0', 'CLICOLOR': '1'})"
      ]
     },
     "execution_count": 8,
     "metadata": {},
     "output_type": "execute_result"
    }
   ],
   "source": [
    "import os\n",
    "os.environ['PATH'] = '/Users/christianjunge/anaconda/envs/py35/bin/:'+os.environ['PATH']\n",
    "os.environ"
   ]
  },
  {
   "cell_type": "code",
   "execution_count": 9,
   "metadata": {
    "collapsed": false,
    "scrolled": false
   },
   "outputs": [
    {
     "name": "stdout",
     "output_type": "stream",
     "text": [
      "\u001b[1m============================= test session starts ==============================\u001b[0m\n",
      "platform darwin -- Python 3.5.1, pytest-2.8.1, py-1.4.30, pluggy-0.3.1\n",
      "rootdir: /Users/christianjunge/OneDrive/CS207SoftwareEngineering/cs207labs, inifile: \n",
      "plugins: cov-2.2.1\n",
      "collected 7 items \n",
      "\u001b[0m\n",
      "amath.py ..\n",
      "test_amath.py .....\n",
      "--------------- coverage: platform darwin, python 3.5.1-final-0 ----------------\n",
      "Name            Stmts   Miss  Cover   Missing\n",
      "---------------------------------------------\n",
      "amath.py           22      1    95%   14\n",
      "test_amath.py      15      0   100%   \n",
      "---------------------------------------------\n",
      "TOTAL              37      1    97%   \n",
      "\n",
      "\u001b[32m\u001b[1m=========================== 7 passed in 0.07 seconds ===========================\u001b[0m\n"
     ]
    }
   ],
   "source": [
    "!py.test --doctest-modules --cov --cov-report term-missing amath.py test_amath.py"
   ]
  },
  {
   "cell_type": "code",
   "execution_count": 20,
   "metadata": {
    "collapsed": false
   },
   "outputs": [
    {
     "name": "stdout",
     "output_type": "stream",
     "text": [
      "Cloning into '/tmp/cs207test'...\n",
      "remote: Counting objects: 4, done.\u001b[K\n",
      "remote: Compressing objects: 100% (3/3), done.\u001b[K\n",
      "remote: Total 4 (delta 0), reused 0 (delta 0), pack-reused 0\u001b[K\n",
      "Receiving objects: 100% (4/4), done.\n",
      "Checking connectivity... done.\n"
     ]
    }
   ],
   "source": [
    "!rm -rf /tmp/cs207test\n",
    "!git clone git@github.com:christianjunge/cs207test.git /tmp/cs207test\n",
    "    "
   ]
  },
  {
   "cell_type": "raw",
   "metadata": {
    "collapsed": false
   },
   "source": [
    "%%bash\n",
    "pushd /tmp/cs207test\n",
    "git rm *\n",
    "git commit -m \"clean\" -a\n",
    "git push\n",
    "popd"
   ]
  },
  {
   "cell_type": "code",
   "execution_count": 21,
   "metadata": {
    "collapsed": false
   },
   "outputs": [],
   "source": [
    "!cp amath.py test_amath.py /tmp/cs207test/"
   ]
  },
  {
   "cell_type": "code",
   "execution_count": 22,
   "metadata": {
    "collapsed": false
   },
   "outputs": [
    {
     "name": "stdout",
     "output_type": "stream",
     "text": [
      "Writing /tmp/cs207test/setup.cfg\n"
     ]
    }
   ],
   "source": [
    "%%file /tmp/cs207test/setup.cfg\n",
    "[pytest]\n",
    "addopts = --doctest-modules --cov-report term-missing --cov ."
   ]
  },
  {
   "cell_type": "markdown",
   "metadata": {},
   "source": [
    "### Travis CI"
   ]
  },
  {
   "cell_type": "markdown",
   "metadata": {},
   "source": [
    "![travis process](travis-process.png)"
   ]
  },
  {
   "cell_type": "code",
   "execution_count": 23,
   "metadata": {
    "collapsed": false
   },
   "outputs": [
    {
     "name": "stdout",
     "output_type": "stream",
     "text": [
      "Writing /tmp/cs207test/.travis.yml\n"
     ]
    }
   ],
   "source": [
    "%%file /tmp/cs207test/.travis.yml\n",
    "language: python\n",
    "python:\n",
    "    - \"3.5\"\n",
    "before_install:\n",
    "    - pip install pytest pytest-cov\n",
    "script:\n",
    "    - py.test"
   ]
  },
  {
   "cell_type": "code",
   "execution_count": 24,
   "metadata": {
    "collapsed": false
   },
   "outputs": [
    {
     "name": "stdout",
     "output_type": "stream",
     "text": [
      "/tmp/cs207test ~/OneDrive/CS207SoftwareEngineering/cs207labs\n",
      "[master 9e30537] travis integration\n",
      " 4 files changed, 75 insertions(+)\n",
      " create mode 100644 .travis.yml\n",
      " create mode 100644 amath.py\n",
      " create mode 100644 setup.cfg\n",
      " create mode 100644 test_amath.py\n",
      "~/OneDrive/CS207SoftwareEngineering/cs207labs\n"
     ]
    },
    {
     "name": "stderr",
     "output_type": "stream",
     "text": [
      "To git@github.com:christianjunge/cs207test.git\n",
      "   c4c3f05..9e30537  master -> master\n"
     ]
    }
   ],
   "source": [
    "%%bash\n",
    "pushd /tmp/cs207test\n",
    "git add .\n",
    "git commit -m \"travis integration\" -a\n",
    "git push\n",
    "popd"
   ]
  },
  {
   "cell_type": "markdown",
   "metadata": {},
   "source": [
    "![build passing](travis-build-passing.png)"
   ]
  },
  {
   "cell_type": "markdown",
   "metadata": {},
   "source": [
    "### Coveralls Integration"
   ]
  },
  {
   "cell_type": "markdown",
   "metadata": {},
   "source": [
    "![coveralls on](coveralls-on.png)"
   ]
  },
  {
   "cell_type": "code",
   "execution_count": 25,
   "metadata": {
    "collapsed": false
   },
   "outputs": [
    {
     "name": "stdout",
     "output_type": "stream",
     "text": [
      "Overwriting /tmp/cs207test/.travis.yml\n"
     ]
    }
   ],
   "source": [
    "%%file /tmp/cs207test/.travis.yml\n",
    "language: python\n",
    "python:\n",
    "    - \"3.5\"\n",
    "before_install:\n",
    "    - pip install pytest pytest-cov\n",
    "    - pip install coveralls\n",
    "script:\n",
    "    - py.test\n",
    "after_success:\n",
    "    - coveralls"
   ]
  },
  {
   "cell_type": "code",
   "execution_count": 27,
   "metadata": {
    "collapsed": false
   },
   "outputs": [
    {
     "name": "stdout",
     "output_type": "stream",
     "text": [
      "/Users/christianjunge/anaconda/envs/py35/bin//py.test\r\n"
     ]
    }
   ],
   "source": [
    "!which py.test"
   ]
  },
  {
   "cell_type": "code",
   "execution_count": 28,
   "metadata": {
    "collapsed": false
   },
   "outputs": [
    {
     "name": "stdout",
     "output_type": "stream",
     "text": [
      "/tmp/cs207test ~/OneDrive/CS207SoftwareEngineering/cs207labs\n",
      "On branch master\n",
      "Your branch is up-to-date with 'origin/master'.\n",
      "nothing to commit, working directory clean\n",
      "~/OneDrive/CS207SoftwareEngineering/cs207labs\n"
     ]
    },
    {
     "name": "stderr",
     "output_type": "stream",
     "text": [
      "Everything up-to-date\n"
     ]
    }
   ],
   "source": [
    "%%bash\n",
    "pushd /tmp/cs207test\n",
    "git add .\n",
    "git commit -m \"added coveralls\" -a\n",
    "git push\n",
    "popd"
   ]
  },
  {
   "cell_type": "markdown",
   "metadata": {},
   "source": [
    "![coveralls on](coveralls-repo.png)\n",
    "\n",
    "![coveralls on](coveralls-lines.png)"
   ]
  },
  {
   "cell_type": "code",
   "execution_count": 29,
   "metadata": {
    "collapsed": false
   },
   "outputs": [
    {
     "name": "stdout",
     "output_type": "stream",
     "text": [
      "Overwriting /tmp/cs207test/README.md\n"
     ]
    }
   ],
   "source": [
    "%%file /tmp/cs207test/README.md\n",
    "\n",
    "# cs207test\n",
    "\n",
    "[![Build Status](https://travis-ci.org/rahuldave/cs207test.svg?branch=master)](https://travis-ci.org/rahuldave/cs207test)\n",
    "\n",
    "[![Coverage Status](https://coveralls.io/repos/github/rahuldave/cs207test/badge.svg?branch=master)](https://coveralls.io/github/rahuldave/cs207test?branch=master)"
   ]
  },
  {
   "cell_type": "code",
   "execution_count": 30,
   "metadata": {
    "collapsed": false
   },
   "outputs": [
    {
     "name": "stdout",
     "output_type": "stream",
     "text": [
      "/tmp/cs207test ~/OneDrive/CS207SoftwareEngineering/cs207labs\n",
      "[master f82d1dd] added badges\n",
      " 1 file changed, 6 insertions(+), 1 deletion(-)\n",
      "~/OneDrive/CS207SoftwareEngineering/cs207labs\n"
     ]
    },
    {
     "name": "stderr",
     "output_type": "stream",
     "text": [
      "To git@github.com:christianjunge/cs207test.git\n",
      "   4c19570..f82d1dd  master -> master\n"
     ]
    }
   ],
   "source": [
    "%%bash\n",
    "pushd /tmp/cs207test\n",
    "git add .\n",
    "git commit -m \"added badges\" -a\n",
    "git push\n",
    "popd"
   ]
  },
  {
   "cell_type": "markdown",
   "metadata": {},
   "source": [
    "![badges](github-badges.png)"
   ]
  },
  {
   "cell_type": "markdown",
   "metadata": {},
   "source": [
    "## Q2.\n",
    "\n",
    "Take the implementation of binary search from a previous lecture/lab. Write unit tests for the algorithm (remember we have doctests in there), stripping the doctests down to those that illustrate the interface for a user. How do these doctests deal with the concerns we had?"
   ]
  },
  {
   "cell_type": "code",
   "execution_count": 34,
   "metadata": {
    "collapsed": false
   },
   "outputs": [
    {
     "name": "stdout",
     "output_type": "stream",
     "text": [
      "Overwriting binsearch.py\n"
     ]
    }
   ],
   "source": [
    "%%file binsearch.py\n",
    "def binary_search(da_array: list, needle, left:int=0, right:int=-1) -> int:\n",
    "    \"\"\"\n",
    "    An algorithm that operates in O(lg(n)) to search for an element\n",
    "    in an array sorted in ascending order.\n",
    "    \n",
    "    Parameters\n",
    "    ----------\n",
    "    da_array : list\n",
    "        a list of \"comparable\"items sorted in non-descending order\n",
    "    needle: an item to find in the array; it may or may not\n",
    "        be in the array\n",
    "    left: int, optional\n",
    "        the left index in the array to search from. Default 0\n",
    "    right: int, optional\n",
    "        the right index in the array to search to. Default is -1\n",
    "        in which case we will use the end of the array `len(da_array) - 1`\n",
    "        \n",
    "    Returns\n",
    "    -------\n",
    "    index: int\n",
    "        an integer representing the index of `needle` if found, and -1\n",
    "        otherwise\n",
    "        \n",
    "    Notes\n",
    "    -----\n",
    "    PRE: `da_array` is sorted in non-decreasing order (thus items in\n",
    "        `da_array` must be comparable: implement < and ==)\n",
    "    POST: \n",
    "        - `da_array` is not changed by this function (immutable)\n",
    "        - returns `index`=-1 if `needle` is not in `da_array`\n",
    "        - returns an int `index ` in [0:len(da_array)] if\n",
    "          `index` is in `da_array`\n",
    "    INVARIANTS:\n",
    "        - If `needle` in `da_array`, needle in `da_array[rangemin:rangemax]`\n",
    "          is a loop invariant in the while loop below.\n",
    "          \n",
    "    Examples\n",
    "    --------\n",
    "    >>> input = list(range(10))\n",
    "    >>> binary_search(input, 5)\n",
    "    5\n",
    "    >>> binary_search(input, 4.5)\n",
    "    -1\n",
    "    >>> binary_search(input, 10)\n",
    "    -1\n",
    "    >>> binary_search([5], 5)\n",
    "    0\n",
    "    >>> binary_search([5], 4)\n",
    "    -1\n",
    "    >>> import numpy as np\n",
    "    >>> binary_search([1,2,np.inf], 2)\n",
    "    1\n",
    "    >>> binary_search([1,2,np.inf], np.inf)\n",
    "    2\n",
    "    >>> binary_search(input, 5, 1,3)\n",
    "    -1\n",
    "    >>> binary_search(input, 2, 1,3)\n",
    "    2\n",
    "    >>> binary_search(input, 2, 3, 1)\n",
    "    -1\n",
    "    >>> binary_search(input, 2, 2, 2)\n",
    "    2\n",
    "    >>> binary_search(input, 5, 2, 2)\n",
    "    -1\n",
    "    \n",
    "    \"\"\"\n",
    "    if len(da_array)==0:\n",
    "        return -1\n",
    "    if left==0:\n",
    "        rangemin = 0\n",
    "    else:\n",
    "        rangemin = left\n",
    "    if right==-1:\n",
    "        rangemax=len(da_array) - 1\n",
    "    else:\n",
    "        rangemax=right\n",
    "    while True:\n",
    "        \"needle in da_array => needle in da_array[rangemin:rangemax]\"   \n",
    "        if rangemin > rangemax:\n",
    "            index = -1\n",
    "            return index\n",
    "        #If rangemin and rangemax are both very high we do not want overflow,\n",
    "        #so get the midpoint like this:\n",
    "        midpoint = rangemin + (rangemax - rangemin)//2\n",
    "        if da_array[midpoint] > needle:#lower part\n",
    "            rangemax = midpoint - 1\n",
    "        elif da_array[midpoint] < needle:\n",
    "            rangemin = midpoint + 1\n",
    "        else:\n",
    "            index = midpoint\n",
    "            return index\n"
   ]
  },
  {
   "cell_type": "code",
   "execution_count": 75,
   "metadata": {
    "collapsed": false
   },
   "outputs": [
    {
     "name": "stdout",
     "output_type": "stream",
     "text": [
      "Overwriting test_binsearch.py\n"
     ]
    }
   ],
   "source": [
    "%%file test_binsearch.py\n",
    "\n",
    "import unittest\n",
    "import numpy as np\n",
    "\n",
    "from binsearch import binary_search\n",
    "\n",
    "class MyTest(unittest.TestCase):\n",
    "    \n",
    "    def test_mymath(self):\n",
    "        # Test empty array\n",
    "        self.assertEqual(binary_search([], 2),  -1)\n",
    "        # Test array with nans\n",
    "        self.assertEqual(binary_search(['nan', 1, 2], 2), 2)\n",
    "        # Test array of length 1\n",
    "        self.assertEqual(binary_search([1], 1), 0)\n",
    "        # Test array of length 2\n",
    "        self.assertEqual(binary_search([0,10], 10), 1)\n",
    "        # Test needle greater than the range of the array\n",
    "        self.assertEqual(binary_search(range(10), 11), -1)\n",
    "        # Test needle at extreme of array\n",
    "        self.assertEqual(binary_search(range(5), 4), 4)\n",
    "\n",
    "if __name__ == '__main__':\n",
    "    unittest.main()"
   ]
  },
  {
   "cell_type": "code",
   "execution_count": 76,
   "metadata": {
    "collapsed": false,
    "scrolled": true
   },
   "outputs": [
    {
     "name": "stdout",
     "output_type": "stream",
     "text": [
      ".\r\n",
      "----------------------------------------------------------------------\r\n",
      "Ran 1 test in 0.000s\r\n",
      "\r\n",
      "OK\r\n"
     ]
    }
   ],
   "source": [
    "!python test_binsearch.py"
   ]
  },
  {
   "cell_type": "markdown",
   "metadata": {},
   "source": [
    "In addition, we should be **systematic** about testing our code. You should at-least jave some tests like this:\n",
    "\n",
    "1. We should test with wierd data, ie a wierd array: does it have NANs, is it numeric? Does it have 0 elelemts? 1 element? 2?...ie test the boundaries\n",
    "\n",
    "2. Then think of how the needle relates to the above. Try needles less than or greter than the range in the sorted array, besides needles inbetween (in both cases the needle not being in the array). Try needles at the extremes of the array.\n",
    "\n",
    "3. test the integration of 1 and 2 to make sure something has not gone wrong there.\n",
    "\n",
    "Note: you can always compare your answers with linear search implemented in python."
   ]
  },
  {
   "cell_type": "markdown",
   "metadata": {},
   "source": [
    "For reference, here are some of our concerns from that lab:\n",
    "\n",
    "#### What's happened to our issue from before?\n",
    "\n",
    "- What if the value is not there in the array? What if it is there multiple times? what are we returning (why the -1). Are we consistent in our returning?\n",
    "\n",
    "We return -1 if the element is not in the array. If it is there multiple times, we will return one of them: it is not defined which. We are consistent by always returning an int, choosing one which cannot be an index.\n",
    "\n",
    "- What if rangemax is so high as to create overflow: \n",
    "\n",
    "We fixed it by using the difference and have documented it in the algorithm\n",
    "\n",
    "\n",
    "- what types are we supporting? . \n",
    "\n",
    "It seems that as long as we have a notion of equals `==`, and a notion of `<` to support sorting we are set. We should document this.\n",
    "\n",
    "- what happens if we have a NaN in our array? Infty?\n",
    "\n",
    "If our preconditions are violated by the user, we can do anything. Doing it nicely might be costly. so we wont.\n",
    "\n",
    "\n",
    "- what if da_array was not an array?\n",
    "\n",
    "The user violated the pre-conditions. Anything could happen. We could check for a list\n",
    "but yhen that would hurt a special class which implemented the python sequence protocol\n",
    "\n",
    "- What happens if array is not sorted: \n",
    "\n",
    "The user violated the pre-conditions. We could return an error, violate post conditions. If we sort it we'd violate the o(lg(n)) notion. (fixing it seems dubious). Can we check if its sorted? This is naively O(n) and breaks our performance specifications. We can create a guard to terminate the array at more than n iterations for the infinite case or let the user have enough rope to hang themselves\n",
    "\n"
   ]
  },
  {
   "cell_type": "markdown",
   "metadata": {},
   "source": [
    "## Q3."
   ]
  },
  {
   "cell_type": "markdown",
   "metadata": {},
   "source": [
    "Implement a mean and a median methods for the values (not the times) in the timeseries class (with you made last week. Feel free to use numpy functions to do this. Make sure you have tests for these methods, and that you handle the boundaries.\n",
    "\n",
    "We have asked you to define these methods within these classes, but we also want you to think if these would be best calculated as functions which take a time-series as an argument instead. (to think about, not to hand in)"
   ]
  },
  {
   "cell_type": "code",
   "execution_count": null,
   "metadata": {
    "collapsed": true
   },
   "outputs": [],
   "source": [
    "## See github repo"
   ]
  }
 ],
 "metadata": {
  "kernelspec": {
   "display_name": "Python 3",
   "language": "python",
   "name": "python3"
  },
  "language_info": {
   "codemirror_mode": {
    "name": "ipython",
    "version": 3
   },
   "file_extension": ".py",
   "mimetype": "text/x-python",
   "name": "python",
   "nbconvert_exporter": "python",
   "pygments_lexer": "ipython3",
   "version": "3.5.1"
  }
 },
 "nbformat": 4,
 "nbformat_minor": 0
}
