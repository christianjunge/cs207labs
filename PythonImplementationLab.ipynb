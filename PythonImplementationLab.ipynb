{
 "cells": [
  {
   "cell_type": "markdown",
   "metadata": {},
   "source": [
    "## How is Python Implemented? :Lab\n"
   ]
  },
  {
   "cell_type": "markdown",
   "metadata": {},
   "source": [
    "### The stack\n",
    "\n",
    "(for how the C stack works, see http://duartes.org/gustavo/blog/post/journey-to-the-stack/ and http://duartes.org/gustavo/blog/post/epilogues-canaries-buffer-overflows/ )\n",
    "\n",
    "![](http://aosabook.org/en/500L/interpreter-images/interpreter-callstack.png)\n",
    "\n",
    "There are three stacks alive during the running of a python program. Since we run on a virtual machine, the call stack and stack frames are dependent on the virtual machine, rather than the real machine your code runs on. This is the critical difference between `stupidlang` and what we are doing now.\n",
    "\n",
    "- the first is the **call stack**. This is the stack of environments you are familiar with. Often its not explicitly represented as a stack, but a recursive lookup of environments. Or, as in the C case, offsets into memory.\n",
    "- the second is the **data stack or the value stack**. There is one of these per environment frame, and is used to run code in the context of that environment. This is where data-manupulating opcodes like `BINARY_ADD` run, in conjunction with namespace related opcodes such as `STORE_FAST` and `LOAD_FAST`, seen above.\n",
    "- there is a third stack to handle compund statements: statements that contain other statements. This stack is known as the **block stack**.\n"
   ]
  },
  {
   "cell_type": "code",
   "execution_count": 1,
   "metadata": {
    "collapsed": false
   },
   "outputs": [],
   "source": [
    "def print_code(c):\n",
    "    for x in dir(c):\n",
    "        if x.startswith('co'):\n",
    "            print(x, '=', getattr(c, x))"
   ]
  },
  {
   "cell_type": "code",
   "execution_count": 2,
   "metadata": {
    "collapsed": false
   },
   "outputs": [],
   "source": [
    "import dis"
   ]
  },
  {
   "cell_type": "markdown",
   "metadata": {},
   "source": [
    "Columns:\n",
    "\n",
    "1. line number\n",
    "2. index into the bytecode string\n",
    "3. instruction\n",
    "4. argument to the instruction\n",
    "5. what the argument means\n"
   ]
  },
  {
   "cell_type": "code",
   "execution_count": 3,
   "metadata": {
    "collapsed": true
   },
   "outputs": [],
   "source": [
    "def f(x):\n",
    "    a = 1\n",
    "    return a + x"
   ]
  },
  {
   "cell_type": "code",
   "execution_count": 4,
   "metadata": {
    "collapsed": false
   },
   "outputs": [
    {
     "name": "stdout",
     "output_type": "stream",
     "text": [
      "  2           0 LOAD_CONST               1 (1)\n",
      "              3 STORE_FAST               1 (a)\n",
      "\n",
      "  3           6 LOAD_FAST                1 (a)\n",
      "              9 LOAD_FAST                0 (x)\n",
      "             12 BINARY_ADD\n",
      "             13 RETURN_VALUE\n"
     ]
    }
   ],
   "source": [
    "dis.dis(f)"
   ]
  },
  {
   "cell_type": "code",
   "execution_count": 5,
   "metadata": {
    "collapsed": false
   },
   "outputs": [
    {
     "name": "stdout",
     "output_type": "stream",
     "text": [
      "Name:              f\n",
      "Filename:          <ipython-input-3-b301c67cd96f>\n",
      "Argument count:    1\n",
      "Kw-only arguments: 0\n",
      "Number of locals:  2\n",
      "Stack size:        2\n",
      "Flags:             OPTIMIZED, NEWLOCALS, NOFREE\n",
      "Constants:\n",
      "   0: None\n",
      "   1: 1\n",
      "Variable names:\n",
      "   0: x\n",
      "   1: a\n"
     ]
    }
   ],
   "source": [
    "dis.show_code(f)"
   ]
  },
  {
   "cell_type": "code",
   "execution_count": 6,
   "metadata": {
    "collapsed": true
   },
   "outputs": [],
   "source": [
    "\n",
    "#from https://bitbucket.org/yaniv_aknin/pynards/src/c4b61c7a1798766affb49bfba86e485012af6d16/common/blog.py?at=default&fileviewer=file-view-default\n",
    "import dis\n",
    "import types\n",
    "\n",
    "def get_code_object(obj, compilation_mode=\"exec\"):\n",
    "    if isinstance(obj, types.CodeType):\n",
    "        return obj\n",
    "    elif isinstance(obj, types.FrameType):\n",
    "        return obj.f_code\n",
    "    elif isinstance(obj, types.FunctionType):\n",
    "        return obj.__code__\n",
    "    elif isinstance(obj, str):\n",
    "        try:\n",
    "            return compile(obj, \"<string>\", compilation_mode)\n",
    "        except SyntaxError as error:\n",
    "            raise ValueError(\"syntax error in passed string\") from error\n",
    "    else:\n",
    "        raise TypeError(\"get_code_object() can not handle '%s' objects\" %\n",
    "                        (type(obj).__name__,))\n",
    "\n",
    "def diss(obj, mode=\"exec\", recurse=False):\n",
    "    _visit(obj, dis.dis, mode, recurse)\n",
    "\n",
    "def ssc(obj, mode=\"exec\", recurse=False):\n",
    "    _visit(obj, dis.show_code, mode, recurse)\n",
    "\n",
    "def _visit(obj, visitor, mode=\"exec\", recurse=False):\n",
    "    obj = get_code_object(obj, mode)\n",
    "    visitor(obj)\n",
    "    if recurse:\n",
    "        for constant in obj.co_consts:\n",
    "            if type(constant) is type(obj):\n",
    "                print()\n",
    "                print('recursing into %r:' % (constant,))\n",
    "                _visit(constant, visitor, mode, recurse)\n"
   ]
  },
  {
   "cell_type": "code",
   "execution_count": 7,
   "metadata": {
    "collapsed": false
   },
   "outputs": [
    {
     "name": "stdout",
     "output_type": "stream",
     "text": [
      "  2           0 LOAD_CONST               1 (1)\n",
      "              3 STORE_FAST               1 (a)\n",
      "\n",
      "  3           6 LOAD_FAST                1 (a)\n",
      "              9 LOAD_FAST                0 (x)\n",
      "             12 BINARY_ADD\n",
      "             13 RETURN_VALUE\n"
     ]
    }
   ],
   "source": [
    "diss(f)"
   ]
  },
  {
   "cell_type": "code",
   "execution_count": 8,
   "metadata": {
    "collapsed": false
   },
   "outputs": [
    {
     "name": "stdout",
     "output_type": "stream",
     "text": [
      "Name:              f\n",
      "Filename:          <ipython-input-3-b301c67cd96f>\n",
      "Argument count:    1\n",
      "Kw-only arguments: 0\n",
      "Number of locals:  2\n",
      "Stack size:        2\n",
      "Flags:             OPTIMIZED, NEWLOCALS, NOFREE\n",
      "Constants:\n",
      "   0: None\n",
      "   1: 1\n",
      "Variable names:\n",
      "   0: x\n",
      "   1: a\n"
     ]
    }
   ],
   "source": [
    "ssc(f)"
   ]
  },
  {
   "cell_type": "markdown",
   "metadata": {},
   "source": [
    "Notice we have not talked anything about frames yet. Thats because, so far, we have only defined functions. Lets see what happens when we execute them.\n",
    "\n",
    "### Binding lookup and Execution\n",
    "\n",
    "Frame creation occurs in when a code object needs to be evaulated:\n",
    "\n",
    "- when a function is called\n",
    "- when a module is imported (top-level code is executed)\n",
    "- when a class is defined\n",
    "- every  command in the repl\n",
    "- when eval or exec are used\n",
    "- when the -c switch is used \n",
    "\n",
    "Let's go back to our frame structure in CPython:\n",
    "\n",
    "```c\n",
    "\n",
    "typedef struct _frame {\n",
    "   PyObject_VAR_HEAD\n",
    "   struct _frame *f_back;   /* previous frame, or NULL */\n",
    "   PyCodeObject *f_code;    /* code segment */\n",
    "   PyObject *f_builtins;    /* builtin symbol table */\n",
    "   PyObject *f_globals;     /* global symbol table */\n",
    "   PyObject *f_locals;      /* local symbol table */\n",
    "   PyObject **f_valuestack; /* points after the last local */\n",
    "   PyObject **f_stacktop;   /* current top of valuestack */\n",
    "   PyObject *f_trace;       /* trace function */\n",
    " \n",
    "   /* used for swapping generator exceptions */\n",
    "   PyObject *f_exc_type, *f_exc_value, *f_exc_traceback;\n",
    " \n",
    "   PyThreadState *f_tstate; /* call stack's thread state */\n",
    "   int f_lasti;             /* last instruction if called */\n",
    "   int f_lineno;            /* current line # (if tracing) */\n",
    "   int f_iblock;            /* index in f_blockstack */\n",
    " \n",
    "   /* for try and loop blocks */\n",
    "   PyTryBlock f_blockstack[CO_MAXBLOCKS];\n",
    " \n",
    "   /* dynamically: locals, free vars, cells and valuestack */\n",
    "   PyObject *f_localsplus[1]; /* dynamic portion */\n",
    "} PyFrameObject;\n",
    "```"
   ]
  },
  {
   "cell_type": "markdown",
   "metadata": {},
   "source": [
    "- `f_code` points to precisely one code object per frame. So when we have a call stack of frames, this corresponds to ca call stack of code objects.\n",
    "- when python code is evaluated, it is done so in 3 namespaces corresponding to three symbol tables: `f_builtins`, `f_globals`, and `f_locals`. A name will first be resolved in the local scope, then in the global scope, and then in the builtin scope. For nested scopes like in closures, we'll first search the local scopes of the outer functions and only then go to the global and the builtin scope. This rule can be thought of as **LEGB**.\n",
    "- a frame is a variable sized object as seen in `f_localsplus` "
   ]
  },
  {
   "cell_type": "markdown",
   "metadata": {},
   "source": [
    "## q1.\n",
    "\n",
    "### `pdb` the python debugger\n",
    "\n",
    "earlier we were inspecting frames manually. now lets use the python debugger to do this."
   ]
  },
  {
   "cell_type": "code",
   "execution_count": 9,
   "metadata": {
    "collapsed": false
   },
   "outputs": [],
   "source": [
    "import pdb"
   ]
  },
  {
   "cell_type": "code",
   "execution_count": 10,
   "metadata": {
    "collapsed": true
   },
   "outputs": [],
   "source": [
    "def play(a,b):\n",
    "    c = 1\n",
    "    d = 5\n",
    "    import pdb;pdb.set_trace()\n",
    "\n",
    "    e = a+b\n",
    "    def g():\n",
    "        pdb.set_trace()\n",
    "        return c +d +e\n",
    "    return g"
   ]
  },
  {
   "cell_type": "markdown",
   "metadata": {},
   "source": [
    "Run play in the debugger by calling `play(5,6)`, assigning it to a variable, and calling the function represented by the variable. Inspect the frames using `w` and `bt`, list with `l`. You can run arbitrary python code at the pdb prompt. `p var` will print a variable, `quit`will quit"
   ]
  },
  {
   "cell_type": "code",
   "execution_count": 11,
   "metadata": {
    "collapsed": false
   },
   "outputs": [
    {
     "name": "stdout",
     "output_type": "stream",
     "text": [
      "> <ipython-input-10-c42340cca819>(6)play()\n",
      "-> e = a+b\n",
      "(Pdb) bob = play(5,6)\n",
      "(Pdb) bob\n",
      "<function play.<locals>.g at 0x1040d7d90>\n",
      "(Pdb) w\n",
      "  /Users/christianjunge/anaconda/envs/py35/lib/python3.5/runpy.py(170)_run_module_as_main()\n",
      "-> \"__main__\", mod_spec)\n",
      "  /Users/christianjunge/anaconda/envs/py35/lib/python3.5/runpy.py(85)_run_code()\n",
      "-> exec(code, run_globals)\n",
      "  /Users/christianjunge/anaconda/envs/py35/lib/python3.5/site-packages/ipykernel/__main__.py(3)<module>()\n",
      "-> app.launch_new_instance()\n",
      "  /Users/christianjunge/anaconda/envs/py35/lib/python3.5/site-packages/traitlets/config/application.py(592)launch_instance()\n",
      "-> app.start()\n",
      "  /Users/christianjunge/anaconda/envs/py35/lib/python3.5/site-packages/ipykernel/kernelapp.py(403)start()\n",
      "-> ioloop.IOLoop.instance().start()\n",
      "  /Users/christianjunge/anaconda/envs/py35/lib/python3.5/site-packages/zmq/eventloop/ioloop.py(151)start()\n",
      "-> super(ZMQIOLoop, self).start()\n",
      "  /Users/christianjunge/anaconda/envs/py35/lib/python3.5/site-packages/tornado/ioloop.py(883)start()\n",
      "-> handler_func(fd_obj, events)\n",
      "  /Users/christianjunge/anaconda/envs/py35/lib/python3.5/site-packages/tornado/stack_context.py(275)null_wrapper()\n",
      "-> return fn(*args, **kwargs)\n",
      "  /Users/christianjunge/anaconda/envs/py35/lib/python3.5/site-packages/zmq/eventloop/zmqstream.py(433)_handle_events()\n",
      "-> self._handle_recv()\n",
      "  /Users/christianjunge/anaconda/envs/py35/lib/python3.5/site-packages/zmq/eventloop/zmqstream.py(465)_handle_recv()\n",
      "-> self._run_callback(callback, msg)\n",
      "  /Users/christianjunge/anaconda/envs/py35/lib/python3.5/site-packages/zmq/eventloop/zmqstream.py(407)_run_callback()\n",
      "-> callback(*args, **kwargs)\n",
      "  /Users/christianjunge/anaconda/envs/py35/lib/python3.5/site-packages/tornado/stack_context.py(275)null_wrapper()\n",
      "-> return fn(*args, **kwargs)\n",
      "  /Users/christianjunge/anaconda/envs/py35/lib/python3.5/site-packages/ipykernel/kernelbase.py(260)dispatcher()\n",
      "-> return self.dispatch_shell(stream, msg)\n",
      "  /Users/christianjunge/anaconda/envs/py35/lib/python3.5/site-packages/ipykernel/kernelbase.py(212)dispatch_shell()\n",
      "-> handler(stream, idents, msg)\n",
      "  /Users/christianjunge/anaconda/envs/py35/lib/python3.5/site-packages/ipykernel/kernelbase.py(370)execute_request()\n",
      "-> user_expressions, allow_stdin)\n",
      "  /Users/christianjunge/anaconda/envs/py35/lib/python3.5/site-packages/ipykernel/ipkernel.py(175)do_execute()\n",
      "-> shell.run_cell(code, store_history=store_history, silent=silent)\n",
      "  /Users/christianjunge/anaconda/envs/py35/lib/python3.5/site-packages/IPython/core/interactiveshell.py(2902)run_cell()\n",
      "-> interactivity=interactivity, compiler=compiler, result=result)\n",
      "  /Users/christianjunge/anaconda/envs/py35/lib/python3.5/site-packages/IPython/core/interactiveshell.py(3006)run_ast_nodes()\n",
      "-> if self.run_code(code, result):\n",
      "  /Users/christianjunge/anaconda/envs/py35/lib/python3.5/site-packages/IPython/core/interactiveshell.py(3066)run_code()\n",
      "-> exec(code_obj, self.user_global_ns, self.user_ns)\n",
      "  <ipython-input-11-a832e6471e39>(2)<module>()\n",
      "-> bob = play(5,6)\n",
      "> <ipython-input-10-c42340cca819>(6)play()\n",
      "-> e = a+b\n",
      "(Pdb) l\n",
      "  1  \tdef play(a,b):\n",
      "  2  \t    c = 1\n",
      "  3  \t    d = 5\n",
      "  4  \t    import pdb;pdb.set_trace()\n",
      "  5  \t\n",
      "  6  ->\t    e = a+b\n",
      "  7  \t    def g():\n",
      "  8  \t        pdb.set_trace()\n",
      "  9  \t        return c +d +e\n",
      " 10  \t    return g\n",
      "[EOF]\n",
      "(Pdb) l\n",
      "[EOF]\n",
      "(Pdb) l\n",
      "[EOF]\n",
      "(Pdb) l\n",
      "[EOF]\n",
      "(Pdb) w\n",
      "  /Users/christianjunge/anaconda/envs/py35/lib/python3.5/runpy.py(170)_run_module_as_main()\n",
      "-> \"__main__\", mod_spec)\n",
      "  /Users/christianjunge/anaconda/envs/py35/lib/python3.5/runpy.py(85)_run_code()\n",
      "-> exec(code, run_globals)\n",
      "  /Users/christianjunge/anaconda/envs/py35/lib/python3.5/site-packages/ipykernel/__main__.py(3)<module>()\n",
      "-> app.launch_new_instance()\n",
      "  /Users/christianjunge/anaconda/envs/py35/lib/python3.5/site-packages/traitlets/config/application.py(592)launch_instance()\n",
      "-> app.start()\n",
      "  /Users/christianjunge/anaconda/envs/py35/lib/python3.5/site-packages/ipykernel/kernelapp.py(403)start()\n",
      "-> ioloop.IOLoop.instance().start()\n",
      "  /Users/christianjunge/anaconda/envs/py35/lib/python3.5/site-packages/zmq/eventloop/ioloop.py(151)start()\n",
      "-> super(ZMQIOLoop, self).start()\n",
      "  /Users/christianjunge/anaconda/envs/py35/lib/python3.5/site-packages/tornado/ioloop.py(883)start()\n",
      "-> handler_func(fd_obj, events)\n",
      "  /Users/christianjunge/anaconda/envs/py35/lib/python3.5/site-packages/tornado/stack_context.py(275)null_wrapper()\n",
      "-> return fn(*args, **kwargs)\n",
      "  /Users/christianjunge/anaconda/envs/py35/lib/python3.5/site-packages/zmq/eventloop/zmqstream.py(433)_handle_events()\n",
      "-> self._handle_recv()\n",
      "  /Users/christianjunge/anaconda/envs/py35/lib/python3.5/site-packages/zmq/eventloop/zmqstream.py(465)_handle_recv()\n",
      "-> self._run_callback(callback, msg)\n",
      "  /Users/christianjunge/anaconda/envs/py35/lib/python3.5/site-packages/zmq/eventloop/zmqstream.py(407)_run_callback()\n",
      "-> callback(*args, **kwargs)\n",
      "  /Users/christianjunge/anaconda/envs/py35/lib/python3.5/site-packages/tornado/stack_context.py(275)null_wrapper()\n",
      "-> return fn(*args, **kwargs)\n",
      "  /Users/christianjunge/anaconda/envs/py35/lib/python3.5/site-packages/ipykernel/kernelbase.py(260)dispatcher()\n",
      "-> return self.dispatch_shell(stream, msg)\n",
      "  /Users/christianjunge/anaconda/envs/py35/lib/python3.5/site-packages/ipykernel/kernelbase.py(212)dispatch_shell()\n",
      "-> handler(stream, idents, msg)\n",
      "  /Users/christianjunge/anaconda/envs/py35/lib/python3.5/site-packages/ipykernel/kernelbase.py(370)execute_request()\n",
      "-> user_expressions, allow_stdin)\n",
      "  /Users/christianjunge/anaconda/envs/py35/lib/python3.5/site-packages/ipykernel/ipkernel.py(175)do_execute()\n",
      "-> shell.run_cell(code, store_history=store_history, silent=silent)\n",
      "  /Users/christianjunge/anaconda/envs/py35/lib/python3.5/site-packages/IPython/core/interactiveshell.py(2902)run_cell()\n",
      "-> interactivity=interactivity, compiler=compiler, result=result)\n",
      "  /Users/christianjunge/anaconda/envs/py35/lib/python3.5/site-packages/IPython/core/interactiveshell.py(3006)run_ast_nodes()\n",
      "-> if self.run_code(code, result):\n",
      "  /Users/christianjunge/anaconda/envs/py35/lib/python3.5/site-packages/IPython/core/interactiveshell.py(3066)run_code()\n",
      "-> exec(code_obj, self.user_global_ns, self.user_ns)\n",
      "  <ipython-input-11-a832e6471e39>(2)<module>()\n",
      "-> bob = play(5,6)\n",
      "> <ipython-input-10-c42340cca819>(6)play()\n",
      "-> e = a+b\n",
      "(Pdb) bt\n",
      "  /Users/christianjunge/anaconda/envs/py35/lib/python3.5/runpy.py(170)_run_module_as_main()\n",
      "-> \"__main__\", mod_spec)\n",
      "  /Users/christianjunge/anaconda/envs/py35/lib/python3.5/runpy.py(85)_run_code()\n",
      "-> exec(code, run_globals)\n",
      "  /Users/christianjunge/anaconda/envs/py35/lib/python3.5/site-packages/ipykernel/__main__.py(3)<module>()\n",
      "-> app.launch_new_instance()\n",
      "  /Users/christianjunge/anaconda/envs/py35/lib/python3.5/site-packages/traitlets/config/application.py(592)launch_instance()\n",
      "-> app.start()\n",
      "  /Users/christianjunge/anaconda/envs/py35/lib/python3.5/site-packages/ipykernel/kernelapp.py(403)start()\n",
      "-> ioloop.IOLoop.instance().start()\n",
      "  /Users/christianjunge/anaconda/envs/py35/lib/python3.5/site-packages/zmq/eventloop/ioloop.py(151)start()\n",
      "-> super(ZMQIOLoop, self).start()\n",
      "  /Users/christianjunge/anaconda/envs/py35/lib/python3.5/site-packages/tornado/ioloop.py(883)start()\n",
      "-> handler_func(fd_obj, events)\n",
      "  /Users/christianjunge/anaconda/envs/py35/lib/python3.5/site-packages/tornado/stack_context.py(275)null_wrapper()\n",
      "-> return fn(*args, **kwargs)\n",
      "  /Users/christianjunge/anaconda/envs/py35/lib/python3.5/site-packages/zmq/eventloop/zmqstream.py(433)_handle_events()\n",
      "-> self._handle_recv()\n",
      "  /Users/christianjunge/anaconda/envs/py35/lib/python3.5/site-packages/zmq/eventloop/zmqstream.py(465)_handle_recv()\n",
      "-> self._run_callback(callback, msg)\n",
      "  /Users/christianjunge/anaconda/envs/py35/lib/python3.5/site-packages/zmq/eventloop/zmqstream.py(407)_run_callback()\n",
      "-> callback(*args, **kwargs)\n",
      "  /Users/christianjunge/anaconda/envs/py35/lib/python3.5/site-packages/tornado/stack_context.py(275)null_wrapper()\n",
      "-> return fn(*args, **kwargs)\n",
      "  /Users/christianjunge/anaconda/envs/py35/lib/python3.5/site-packages/ipykernel/kernelbase.py(260)dispatcher()\n",
      "-> return self.dispatch_shell(stream, msg)\n",
      "  /Users/christianjunge/anaconda/envs/py35/lib/python3.5/site-packages/ipykernel/kernelbase.py(212)dispatch_shell()\n",
      "-> handler(stream, idents, msg)\n",
      "  /Users/christianjunge/anaconda/envs/py35/lib/python3.5/site-packages/ipykernel/kernelbase.py(370)execute_request()\n",
      "-> user_expressions, allow_stdin)\n",
      "  /Users/christianjunge/anaconda/envs/py35/lib/python3.5/site-packages/ipykernel/ipkernel.py(175)do_execute()\n",
      "-> shell.run_cell(code, store_history=store_history, silent=silent)\n",
      "  /Users/christianjunge/anaconda/envs/py35/lib/python3.5/site-packages/IPython/core/interactiveshell.py(2902)run_cell()\n",
      "-> interactivity=interactivity, compiler=compiler, result=result)\n",
      "  /Users/christianjunge/anaconda/envs/py35/lib/python3.5/site-packages/IPython/core/interactiveshell.py(3006)run_ast_nodes()\n",
      "-> if self.run_code(code, result):\n",
      "  /Users/christianjunge/anaconda/envs/py35/lib/python3.5/site-packages/IPython/core/interactiveshell.py(3066)run_code()\n",
      "-> exec(code_obj, self.user_global_ns, self.user_ns)\n",
      "  <ipython-input-11-a832e6471e39>(2)<module>()\n",
      "-> bob = play(5,6)\n",
      "> <ipython-input-10-c42340cca819>(6)play()\n",
      "-> e = a+b\n",
      "(Pdb) bt\n",
      "  /Users/christianjunge/anaconda/envs/py35/lib/python3.5/runpy.py(170)_run_module_as_main()\n",
      "-> \"__main__\", mod_spec)\n",
      "  /Users/christianjunge/anaconda/envs/py35/lib/python3.5/runpy.py(85)_run_code()\n",
      "-> exec(code, run_globals)\n",
      "  /Users/christianjunge/anaconda/envs/py35/lib/python3.5/site-packages/ipykernel/__main__.py(3)<module>()\n",
      "-> app.launch_new_instance()\n",
      "  /Users/christianjunge/anaconda/envs/py35/lib/python3.5/site-packages/traitlets/config/application.py(592)launch_instance()\n",
      "-> app.start()\n",
      "  /Users/christianjunge/anaconda/envs/py35/lib/python3.5/site-packages/ipykernel/kernelapp.py(403)start()\n",
      "-> ioloop.IOLoop.instance().start()\n",
      "  /Users/christianjunge/anaconda/envs/py35/lib/python3.5/site-packages/zmq/eventloop/ioloop.py(151)start()\n",
      "-> super(ZMQIOLoop, self).start()\n",
      "  /Users/christianjunge/anaconda/envs/py35/lib/python3.5/site-packages/tornado/ioloop.py(883)start()\n",
      "-> handler_func(fd_obj, events)\n",
      "  /Users/christianjunge/anaconda/envs/py35/lib/python3.5/site-packages/tornado/stack_context.py(275)null_wrapper()\n",
      "-> return fn(*args, **kwargs)\n",
      "  /Users/christianjunge/anaconda/envs/py35/lib/python3.5/site-packages/zmq/eventloop/zmqstream.py(433)_handle_events()\n",
      "-> self._handle_recv()\n",
      "  /Users/christianjunge/anaconda/envs/py35/lib/python3.5/site-packages/zmq/eventloop/zmqstream.py(465)_handle_recv()\n",
      "-> self._run_callback(callback, msg)\n",
      "  /Users/christianjunge/anaconda/envs/py35/lib/python3.5/site-packages/zmq/eventloop/zmqstream.py(407)_run_callback()\n",
      "-> callback(*args, **kwargs)\n",
      "  /Users/christianjunge/anaconda/envs/py35/lib/python3.5/site-packages/tornado/stack_context.py(275)null_wrapper()\n",
      "-> return fn(*args, **kwargs)\n",
      "  /Users/christianjunge/anaconda/envs/py35/lib/python3.5/site-packages/ipykernel/kernelbase.py(260)dispatcher()\n",
      "-> return self.dispatch_shell(stream, msg)\n",
      "  /Users/christianjunge/anaconda/envs/py35/lib/python3.5/site-packages/ipykernel/kernelbase.py(212)dispatch_shell()\n",
      "-> handler(stream, idents, msg)\n",
      "  /Users/christianjunge/anaconda/envs/py35/lib/python3.5/site-packages/ipykernel/kernelbase.py(370)execute_request()\n",
      "-> user_expressions, allow_stdin)\n",
      "  /Users/christianjunge/anaconda/envs/py35/lib/python3.5/site-packages/ipykernel/ipkernel.py(175)do_execute()\n",
      "-> shell.run_cell(code, store_history=store_history, silent=silent)\n",
      "  /Users/christianjunge/anaconda/envs/py35/lib/python3.5/site-packages/IPython/core/interactiveshell.py(2902)run_cell()\n",
      "-> interactivity=interactivity, compiler=compiler, result=result)\n",
      "  /Users/christianjunge/anaconda/envs/py35/lib/python3.5/site-packages/IPython/core/interactiveshell.py(3006)run_ast_nodes()\n",
      "-> if self.run_code(code, result):\n",
      "  /Users/christianjunge/anaconda/envs/py35/lib/python3.5/site-packages/IPython/core/interactiveshell.py(3066)run_code()\n",
      "-> exec(code_obj, self.user_global_ns, self.user_ns)\n",
      "  <ipython-input-11-a832e6471e39>(2)<module>()\n",
      "-> bob = play(5,6)\n",
      "> <ipython-input-10-c42340cca819>(6)play()\n",
      "-> e = a+b\n",
      "(Pdb) l\n",
      "[EOF]\n",
      "(Pdb) p bob\n",
      "<function play.<locals>.g at 0x1040d7d90>\n",
      "(Pdb) quit\n"
     ]
    },
    {
     "ename": "BdbQuit",
     "evalue": "",
     "output_type": "error",
     "traceback": [
      "\u001b[0;31m---------------------------------------------------------------------------\u001b[0m",
      "\u001b[0;31mBdbQuit\u001b[0m                                   Traceback (most recent call last)",
      "\u001b[0;32m<ipython-input-11-a832e6471e39>\u001b[0m in \u001b[0;36m<module>\u001b[0;34m()\u001b[0m\n\u001b[1;32m      1\u001b[0m \u001b[0;31m#your code here\u001b[0m\u001b[0;34m\u001b[0m\u001b[0;34m\u001b[0m\u001b[0m\n\u001b[0;32m----> 2\u001b[0;31m \u001b[0mbob\u001b[0m \u001b[0;34m=\u001b[0m \u001b[0mplay\u001b[0m\u001b[0;34m(\u001b[0m\u001b[0;36m5\u001b[0m\u001b[0;34m,\u001b[0m\u001b[0;36m6\u001b[0m\u001b[0;34m)\u001b[0m\u001b[0;34m\u001b[0m\u001b[0m\n\u001b[0m",
      "\u001b[0;32m<ipython-input-10-c42340cca819>\u001b[0m in \u001b[0;36mplay\u001b[0;34m(a, b)\u001b[0m\n\u001b[1;32m      4\u001b[0m     \u001b[0;32mimport\u001b[0m \u001b[0mpdb\u001b[0m\u001b[0;34m;\u001b[0m\u001b[0mpdb\u001b[0m\u001b[0;34m.\u001b[0m\u001b[0mset_trace\u001b[0m\u001b[0;34m(\u001b[0m\u001b[0;34m)\u001b[0m\u001b[0;34m\u001b[0m\u001b[0m\n\u001b[1;32m      5\u001b[0m \u001b[0;34m\u001b[0m\u001b[0m\n\u001b[0;32m----> 6\u001b[0;31m     \u001b[0me\u001b[0m \u001b[0;34m=\u001b[0m \u001b[0ma\u001b[0m\u001b[0;34m+\u001b[0m\u001b[0mb\u001b[0m\u001b[0;34m\u001b[0m\u001b[0m\n\u001b[0m\u001b[1;32m      7\u001b[0m     \u001b[0;32mdef\u001b[0m \u001b[0mg\u001b[0m\u001b[0;34m(\u001b[0m\u001b[0;34m)\u001b[0m\u001b[0;34m:\u001b[0m\u001b[0;34m\u001b[0m\u001b[0m\n\u001b[1;32m      8\u001b[0m         \u001b[0mpdb\u001b[0m\u001b[0;34m.\u001b[0m\u001b[0mset_trace\u001b[0m\u001b[0;34m(\u001b[0m\u001b[0;34m)\u001b[0m\u001b[0;34m\u001b[0m\u001b[0m\n",
      "\u001b[0;32m<ipython-input-10-c42340cca819>\u001b[0m in \u001b[0;36mplay\u001b[0;34m(a, b)\u001b[0m\n\u001b[1;32m      4\u001b[0m     \u001b[0;32mimport\u001b[0m \u001b[0mpdb\u001b[0m\u001b[0;34m;\u001b[0m\u001b[0mpdb\u001b[0m\u001b[0;34m.\u001b[0m\u001b[0mset_trace\u001b[0m\u001b[0;34m(\u001b[0m\u001b[0;34m)\u001b[0m\u001b[0;34m\u001b[0m\u001b[0m\n\u001b[1;32m      5\u001b[0m \u001b[0;34m\u001b[0m\u001b[0m\n\u001b[0;32m----> 6\u001b[0;31m     \u001b[0me\u001b[0m \u001b[0;34m=\u001b[0m \u001b[0ma\u001b[0m\u001b[0;34m+\u001b[0m\u001b[0mb\u001b[0m\u001b[0;34m\u001b[0m\u001b[0m\n\u001b[0m\u001b[1;32m      7\u001b[0m     \u001b[0;32mdef\u001b[0m \u001b[0mg\u001b[0m\u001b[0;34m(\u001b[0m\u001b[0;34m)\u001b[0m\u001b[0;34m:\u001b[0m\u001b[0;34m\u001b[0m\u001b[0m\n\u001b[1;32m      8\u001b[0m         \u001b[0mpdb\u001b[0m\u001b[0;34m.\u001b[0m\u001b[0mset_trace\u001b[0m\u001b[0;34m(\u001b[0m\u001b[0;34m)\u001b[0m\u001b[0;34m\u001b[0m\u001b[0m\n",
      "\u001b[0;32m/Users/christianjunge/anaconda/envs/py35/lib/python3.5/bdb.py\u001b[0m in \u001b[0;36mtrace_dispatch\u001b[0;34m(self, frame, event, arg)\u001b[0m\n\u001b[1;32m     46\u001b[0m             \u001b[0;32mreturn\u001b[0m \u001b[0;31m# None\u001b[0m\u001b[0;34m\u001b[0m\u001b[0m\n\u001b[1;32m     47\u001b[0m         \u001b[0;32mif\u001b[0m \u001b[0mevent\u001b[0m \u001b[0;34m==\u001b[0m \u001b[0;34m'line'\u001b[0m\u001b[0;34m:\u001b[0m\u001b[0;34m\u001b[0m\u001b[0m\n\u001b[0;32m---> 48\u001b[0;31m             \u001b[0;32mreturn\u001b[0m \u001b[0mself\u001b[0m\u001b[0;34m.\u001b[0m\u001b[0mdispatch_line\u001b[0m\u001b[0;34m(\u001b[0m\u001b[0mframe\u001b[0m\u001b[0;34m)\u001b[0m\u001b[0;34m\u001b[0m\u001b[0m\n\u001b[0m\u001b[1;32m     49\u001b[0m         \u001b[0;32mif\u001b[0m \u001b[0mevent\u001b[0m \u001b[0;34m==\u001b[0m \u001b[0;34m'call'\u001b[0m\u001b[0;34m:\u001b[0m\u001b[0;34m\u001b[0m\u001b[0m\n\u001b[1;32m     50\u001b[0m             \u001b[0;32mreturn\u001b[0m \u001b[0mself\u001b[0m\u001b[0;34m.\u001b[0m\u001b[0mdispatch_call\u001b[0m\u001b[0;34m(\u001b[0m\u001b[0mframe\u001b[0m\u001b[0;34m,\u001b[0m \u001b[0marg\u001b[0m\u001b[0;34m)\u001b[0m\u001b[0;34m\u001b[0m\u001b[0m\n",
      "\u001b[0;32m/Users/christianjunge/anaconda/envs/py35/lib/python3.5/bdb.py\u001b[0m in \u001b[0;36mdispatch_line\u001b[0;34m(self, frame)\u001b[0m\n\u001b[1;32m     64\u001b[0m     \u001b[0;32mdef\u001b[0m \u001b[0mdispatch_line\u001b[0m\u001b[0;34m(\u001b[0m\u001b[0mself\u001b[0m\u001b[0;34m,\u001b[0m \u001b[0mframe\u001b[0m\u001b[0;34m)\u001b[0m\u001b[0;34m:\u001b[0m\u001b[0;34m\u001b[0m\u001b[0m\n\u001b[1;32m     65\u001b[0m         \u001b[0;32mif\u001b[0m \u001b[0mself\u001b[0m\u001b[0;34m.\u001b[0m\u001b[0mstop_here\u001b[0m\u001b[0;34m(\u001b[0m\u001b[0mframe\u001b[0m\u001b[0;34m)\u001b[0m \u001b[0;32mor\u001b[0m \u001b[0mself\u001b[0m\u001b[0;34m.\u001b[0m\u001b[0mbreak_here\u001b[0m\u001b[0;34m(\u001b[0m\u001b[0mframe\u001b[0m\u001b[0;34m)\u001b[0m\u001b[0;34m:\u001b[0m\u001b[0;34m\u001b[0m\u001b[0m\n\u001b[0;32m---> 66\u001b[0;31m             \u001b[0mself\u001b[0m\u001b[0;34m.\u001b[0m\u001b[0muser_line\u001b[0m\u001b[0;34m(\u001b[0m\u001b[0mframe\u001b[0m\u001b[0;34m)\u001b[0m\u001b[0;34m\u001b[0m\u001b[0m\n\u001b[0m\u001b[1;32m     67\u001b[0m             \u001b[0;32mif\u001b[0m \u001b[0mself\u001b[0m\u001b[0;34m.\u001b[0m\u001b[0mquitting\u001b[0m\u001b[0;34m:\u001b[0m \u001b[0;32mraise\u001b[0m \u001b[0mBdbQuit\u001b[0m\u001b[0;34m\u001b[0m\u001b[0m\n\u001b[1;32m     68\u001b[0m         \u001b[0;32mreturn\u001b[0m \u001b[0mself\u001b[0m\u001b[0;34m.\u001b[0m\u001b[0mtrace_dispatch\u001b[0m\u001b[0;34m\u001b[0m\u001b[0m\n",
      "\u001b[0;31mBdbQuit\u001b[0m: "
     ]
    }
   ],
   "source": [
    "#your code here\n",
    "bob = play(5,6)\n"
   ]
  },
  {
   "cell_type": "code",
   "execution_count": 12,
   "metadata": {
    "collapsed": false
   },
   "outputs": [
    {
     "ename": "NameError",
     "evalue": "name 'bob' is not defined",
     "output_type": "error",
     "traceback": [
      "\u001b[0;31m---------------------------------------------------------------------------\u001b[0m",
      "\u001b[0;31mNameError\u001b[0m                                 Traceback (most recent call last)",
      "\u001b[0;32m<ipython-input-12-1cabb0674819>\u001b[0m in \u001b[0;36m<module>\u001b[0;34m()\u001b[0m\n\u001b[1;32m      1\u001b[0m \u001b[0;31m#your code here\u001b[0m\u001b[0;34m\u001b[0m\u001b[0;34m\u001b[0m\u001b[0m\n\u001b[0;32m----> 2\u001b[0;31m \u001b[0mbob\u001b[0m\u001b[0;34m\u001b[0m\u001b[0m\n\u001b[0m",
      "\u001b[0;31mNameError\u001b[0m: name 'bob' is not defined"
     ]
    }
   ],
   "source": [
    "#your code here\n",
    "bob"
   ]
  },
  {
   "cell_type": "markdown",
   "metadata": {},
   "source": [
    "## q2.\n",
    "\n",
    "### A small implementation\n",
    "\n",
    "Taken from byterun and edited some, here is an implementation of `Frame`:"
   ]
  },
  {
   "cell_type": "code",
   "execution_count": 21,
   "metadata": {
    "collapsed": true
   },
   "outputs": [],
   "source": [
    "class Frame(object):\n",
    "    def __init__(self, code_obj, global_names, local_names, prev_frame):\n",
    "        self.code_obj = code_obj\n",
    "        self.f_globals = global_names\n",
    "        self.f_locals = local_names\n",
    "        self.f_back = prev_frame\n",
    "        self.stack = []\n",
    "        if prev_frame:\n",
    "            self.f_builtins = prev_frame.f_builtins\n",
    "        else:\n",
    "            self.f_builtins = self.f_locals['__builtins__']\n",
    "            if hasattr(self.f_builtins, '__dict__'):\n",
    "                self.f_builtins = self.f_builtins.__dict__\n",
    "\n",
    "        self.last_instruction = 0\n"
   ]
  },
  {
   "cell_type": "markdown",
   "metadata": {},
   "source": [
    "And here is an implementation of `VirtualMachine` in which you will provide some methods: see below for \"implement this\""
   ]
  },
  {
   "cell_type": "code",
   "execution_count": 22,
   "metadata": {
    "collapsed": false
   },
   "outputs": [],
   "source": [
    "class VirtualMachineError(Exception):\n",
    "    pass\n",
    "\n",
    "import operator\n",
    "class VirtualMachine(object):\n",
    "    def __init__(self):\n",
    "        self.frames = []   # The call stack of frames.\n",
    "        self.frame = None  # The current frame.\n",
    "        self.return_value = None\n",
    "\n",
    "    def run_code(self, code, global_names=None, local_names=None):\n",
    "        \"\"\" An entry point to execute code using the virtual machine.\"\"\"\n",
    "        frame = self.make_frame(code, global_names=global_names, \n",
    "                                local_names=local_names)\n",
    "        #print(vars(frame))\n",
    "        return self.run_frame(frame)\n",
    "        \n",
    "    # Frame manipulation\n",
    "    def make_frame(self, code, callargs={}, global_names=None, local_names=None):\n",
    "        if global_names is not None and local_names is not None:\n",
    "            local_names = global_names\n",
    "        elif self.frames:\n",
    "            global_names = self.frame.f_globals\n",
    "            local_names = {}\n",
    "        else:\n",
    "            global_names = local_names = {\n",
    "                '__builtins__': __builtins__,\n",
    "                '__name__': '__main__',\n",
    "                '__doc__': None,\n",
    "                '__package__': None,\n",
    "            }\n",
    "        local_names.update(callargs)\n",
    "        frame = Frame(code, global_names, local_names, self.frame)\n",
    "        return frame\n",
    "\n",
    "    def push_frame(self, frame):\n",
    "        self.frames.append(frame)\n",
    "        self.frame = frame\n",
    "\n",
    "    def pop_frame(self):\n",
    "        self.frames.pop()\n",
    "        if self.frames:\n",
    "            self.frame = self.frames[-1]\n",
    "        else:\n",
    "            self.frame = None\n",
    "        \n",
    "    # Data stack manipulation\n",
    "    def top(self):\n",
    "        return self.frame.stack[-1]\n",
    "\n",
    "    def pop(self):\n",
    "        return self.frame.stack.pop()\n",
    "\n",
    "    def push(self, *vals):\n",
    "        self.frame.stack.extend(vals)\n",
    "\n",
    "    def popn(self, n):\n",
    "        \"\"\"Pop a number of values from the value stack.\n",
    "        A list of `n` values is returned, the deepest value first.\n",
    "        \"\"\"\n",
    "        if n:\n",
    "            ret = self.frame.stack[-n:]\n",
    "            self.frame.stack[-n:] = []\n",
    "            return ret\n",
    "        else:\n",
    "            return []\n",
    "        \n",
    "    def parse_byte_and_args(self):\n",
    "        f = self.frame\n",
    "        opoffset = f.last_instruction\n",
    "        byteCode = f.code_obj.co_code[opoffset]\n",
    "        f.last_instruction += 1\n",
    "        byte_name = dis.opname[byteCode]\n",
    "        if byteCode >= dis.HAVE_ARGUMENT:\n",
    "            # index into the bytecode\n",
    "            arg = f.code_obj.co_code[f.last_instruction:f.last_instruction+2]  \n",
    "            f.last_instruction += 2   # advance the instruction pointer\n",
    "            arg_val = arg[0] + (arg[1] * 256)\n",
    "            if byteCode in dis.hasconst:   # Look up a constant\n",
    "                arg = f.code_obj.co_consts[arg_val]\n",
    "            elif byteCode in dis.hasname:  # Look up a name\n",
    "                arg = f.code_obj.co_names[arg_val]\n",
    "            elif byteCode in dis.haslocal: # Look up a local name\n",
    "                arg = f.code_obj.co_varnames[arg_val]\n",
    "            else:\n",
    "                arg = arg_val\n",
    "            argument = [arg]\n",
    "        else:\n",
    "            argument = []\n",
    "\n",
    "        return byte_name, argument\n",
    "    \n",
    "    def dispatch(self, byte_name, argument):\n",
    "        \"\"\" Dispatch by bytename to the corresponding methods.\n",
    "        Exceptions are caught and set on the virtual machine.\"\"\"\n",
    "        why=None\n",
    "        bytecode_fn = getattr(self, 'byte_%s' % byte_name, None)\n",
    "        if bytecode_fn is None:\n",
    "            if byte_name.startswith('UNARY_'):\n",
    "                self.unaryOperator(byte_name[6:])\n",
    "            elif byte_name.startswith('BINARY_'):\n",
    "                self.binaryOperator(byte_name[7:])\n",
    "            else:\n",
    "                raise VirtualMachineError(\n",
    "                    \"unsupported bytecode type: %s\" % byte_name\n",
    "                )\n",
    "        else:\n",
    "            why = bytecode_fn(*argument)\n",
    "\n",
    "        return why\n",
    "\n",
    "    def run_frame(self, frame):\n",
    "        \"\"\"Run a frame until it returns (somehow).\n",
    "        Exceptions are raised, the return value is returned.\n",
    "        \"\"\"\n",
    "        self.push_frame(frame)\n",
    "        while True:\n",
    "            byte_name, arguments = self.parse_byte_and_args()\n",
    "\n",
    "            why = self.dispatch(byte_name, arguments)\n",
    "\n",
    "\n",
    "            if why:\n",
    "                break\n",
    "\n",
    "        self.pop_frame()\n",
    "        #print(\">>\",why, self.return_value)\n",
    "        return self.return_value\n",
    "    \n",
    "## Stack manipulation\n",
    "\n",
    "    def byte_LOAD_CONST(self, const):\n",
    "        \"implement this\"\n",
    "        ####################\n",
    "        self.push(const)\n",
    "\n",
    "    def byte_POP_TOP(self):\n",
    "        \"implement this\"\n",
    "        ####################\n",
    "        self.pop()\n",
    "\n",
    "    ## Names\n",
    "    def byte_LOAD_NAME(self, name):\n",
    "        frame = self.frame\n",
    "        \"\"\"implement whis with error\n",
    "            raise NameError(\"name '%s' is not defined\" % name)\n",
    "        if the name is not found.\"\"\"\n",
    "        ####################\n",
    "        if name in frame.f_locals:\n",
    "            val= frame.f_locals[name]\n",
    "        elif name in frame.f_globals:\n",
    "            val = frame.f_globals[name]\n",
    "        elif name in frame.f_builtins:\n",
    "            val = frame.f_builtins[name]\n",
    "        else:\n",
    "            raise NameError(\"name '%s' is not defined\" % name)\n",
    "        self.push(val)\n",
    "\n",
    "    def byte_STORE_NAME(self, name):\n",
    "        self.frame.f_locals[name] = self.pop()\n",
    "\n",
    "    def byte_LOAD_FAST(self, name):\n",
    "        if name in self.frame.f_locals:\n",
    "            val = self.frame.f_locals[name]\n",
    "        else:\n",
    "            raise UnboundLocalError(\n",
    "                \"local variable '%s' referenced before assignment\" % name\n",
    "            )\n",
    "        self.push(val)\n",
    "\n",
    "    def byte_STORE_FAST(self, name):\n",
    "        \"implement this\"\n",
    "        ################\n",
    "        self.frame.f_locals[name] = self.pop()\n",
    "\n",
    "        \n",
    "    def byte_LOAD_GLOBAL(self, name):\n",
    "        f = self.frame\n",
    "        if name in f.f_globals:\n",
    "            val = f.f_globals[name]\n",
    "        elif name in f.f_builtins:\n",
    "            val = f.f_builtins[name]\n",
    "        else:\n",
    "            raise NameError(\"global name '%s' is not defined\" % name)\n",
    "        self.push(val)\n",
    "        \n",
    "    ## Operators\n",
    "\n",
    "    BINARY_OPERATORS = {\n",
    "        'POWER':    pow,\n",
    "        'MULTIPLY': operator.mul,\n",
    "        'FLOOR_DIVIDE': operator.floordiv,\n",
    "        'TRUE_DIVIDE':  operator.truediv,\n",
    "        'MODULO':   operator.mod,\n",
    "        'ADD':      operator.add,\n",
    "        'SUBTRACT': operator.sub,\n",
    "    }\n",
    "\n",
    "    def binaryOperator(self, op):\n",
    "        x, y = self.popn(2)\n",
    "        self.push(self.BINARY_OPERATORS[op](x, y))\n",
    "\n",
    "    ## Functions\n",
    "\n",
    "    def byte_MAKE_FUNCTION(self, argc):\n",
    "        name = self.pop()\n",
    "        code = self.pop()\n",
    "        defaults = self.popn(argc)\n",
    "        globs = self.frame.f_globals\n",
    "        fn = Function(name, code, globs, defaults, self)\n",
    "        self.push(fn)\n",
    "\n",
    "    def byte_CALL_FUNCTION(self, arg):\n",
    "        lenKw, lenPos = divmod(arg, 256) # KWargs not supported here\n",
    "        posargs = self.popn(lenPos)\n",
    "\n",
    "        func = self.pop()\n",
    "        frame = self.frame\n",
    "        retval = func(*posargs)\n",
    "        self.push(retval)\n",
    "\n",
    "    def byte_RETURN_VALUE(self):\n",
    "        self.return_value = self.pop()\n",
    "        return \"return\""
   ]
  },
  {
   "cell_type": "code",
   "execution_count": 28,
   "metadata": {
    "collapsed": false
   },
   "outputs": [],
   "source": [
    "import inspect\n",
    "class Function(object):\n",
    "    \"\"\"\n",
    "    Create a realistic function object, defining the things the interpreter expects.\n",
    "    \"\"\"\n",
    "\n",
    "\n",
    "    def __init__(self, name, code, globs, defaults, vm):\n",
    "        \"\"\"You don't need to follow this closely to understand the interpreter.\"\"\"\n",
    "        self._vm = vm\n",
    "        self.func_code = code\n",
    "        self.func_name = self.__name__ = name or code.co_name\n",
    "        self.func_defaults = tuple(defaults)\n",
    "        self.func_globals = globs\n",
    "        self.func_locals = self._vm.frame.f_locals\n",
    "        self.__doc__ = code.co_consts[0] if code.co_consts else None\n",
    "        # Sometimes, we need a real Python function.  This is for that.\n",
    "        kw = {\n",
    "            'argdefs': self.func_defaults,\n",
    "        }\n",
    "        self._func = types.FunctionType(code, globs, **kw)\n",
    "\n",
    "    def __call__(self, *args, **kwargs):\n",
    "        \"\"\"When calling a Function, make a new frame and run it.\"\"\"\n",
    "        callargs = inspect.getcallargs(self._func, *args, **kwargs)\n",
    "        # Use callargs to provide a mapping of arguments: values to pass into the new \n",
    "        # frame. Now create a frame and run it, returning \n",
    "        #self._vm.run_frame(frame)\n",
    "        \"implement this\"\n",
    "        frame = self._vm.make_frame(code=self.func_code, callargs=callargs, local_names=self.func_locals, global_names=self.func_globals)\n",
    "        \n",
    "        return self._vm.run_frame(frame)\n"
   ]
  },
  {
   "cell_type": "code",
   "execution_count": 29,
   "metadata": {
    "collapsed": false
   },
   "outputs": [],
   "source": [
    "call = \"\"\"\n",
    "def g():\n",
    "    a=1\n",
    "    b=2\n",
    "    c=a+b\n",
    "    return c\n",
    "d = g()\n",
    "print(d)\n",
    "\"\"\"\n",
    "code=compile(call.strip(), \"\", \"exec\")"
   ]
  },
  {
   "cell_type": "code",
   "execution_count": 30,
   "metadata": {
    "collapsed": false
   },
   "outputs": [
    {
     "data": {
      "text/plain": [
       "'def g():\\n    a=1\\n    b=2\\n    c=a+b\\n    return c\\nd = g()\\nprint(d)'"
      ]
     },
     "execution_count": 30,
     "metadata": {},
     "output_type": "execute_result"
    }
   ],
   "source": [
    "call.strip()"
   ]
  },
  {
   "cell_type": "code",
   "execution_count": 31,
   "metadata": {
    "collapsed": false
   },
   "outputs": [
    {
     "name": "stdout",
     "output_type": "stream",
     "text": [
      "  1           0 LOAD_CONST               0 (<code object g at 0x104355d20, file \"\", line 1>)\n",
      "              3 LOAD_CONST               1 ('g')\n",
      "              6 MAKE_FUNCTION            0\n",
      "              9 STORE_NAME               0 (g)\n",
      "\n",
      "  6          12 LOAD_NAME                0 (g)\n",
      "             15 CALL_FUNCTION            0 (0 positional, 0 keyword pair)\n",
      "             18 STORE_NAME               1 (d)\n",
      "\n",
      "  7          21 LOAD_NAME                2 (print)\n",
      "             24 LOAD_NAME                1 (d)\n",
      "             27 CALL_FUNCTION            1 (1 positional, 0 keyword pair)\n",
      "             30 POP_TOP\n",
      "             31 LOAD_CONST               2 (None)\n",
      "             34 RETURN_VALUE\n",
      "\n",
      "recursing into <code object g at 0x104355d20, file \"\", line 1>:\n",
      "  2           0 LOAD_CONST               1 (1)\n",
      "              3 STORE_FAST               0 (a)\n",
      "\n",
      "  3           6 LOAD_CONST               2 (2)\n",
      "              9 STORE_FAST               1 (b)\n",
      "\n",
      "  4          12 LOAD_FAST                0 (a)\n",
      "             15 LOAD_FAST                1 (b)\n",
      "             18 BINARY_ADD\n",
      "             19 STORE_FAST               2 (c)\n",
      "\n",
      "  5          22 LOAD_FAST                2 (c)\n",
      "             25 RETURN_VALUE\n"
     ]
    }
   ],
   "source": [
    "diss(code, recurse=True)"
   ]
  },
  {
   "cell_type": "code",
   "execution_count": 32,
   "metadata": {
    "collapsed": false
   },
   "outputs": [
    {
     "name": "stdout",
     "output_type": "stream",
     "text": [
      "3\n"
     ]
    }
   ],
   "source": [
    "vm = VirtualMachine()\n",
    "vm_value = vm.run_code(code)#should print 3"
   ]
  },
  {
   "cell_type": "code",
   "execution_count": 33,
   "metadata": {
    "collapsed": true
   },
   "outputs": [],
   "source": [
    "vm_value"
   ]
  },
  {
   "cell_type": "code",
   "execution_count": 34,
   "metadata": {
    "collapsed": true
   },
   "outputs": [],
   "source": [
    "call2=\"\"\"\n",
    "a=10\n",
    "def g():\n",
    "    return a+2\n",
    "print(g())\n",
    "\"\"\"\n",
    "code=compile(call2, \"\", \"exec\")"
   ]
  },
  {
   "cell_type": "code",
   "execution_count": 35,
   "metadata": {
    "collapsed": false
   },
   "outputs": [
    {
     "name": "stdout",
     "output_type": "stream",
     "text": [
      "  2           0 LOAD_CONST               0 (10)\n",
      "              3 STORE_NAME               0 (a)\n",
      "\n",
      "  3           6 LOAD_CONST               1 (<code object g at 0x1043bd300, file \"\", line 3>)\n",
      "              9 LOAD_CONST               2 ('g')\n",
      "             12 MAKE_FUNCTION            0\n",
      "             15 STORE_NAME               1 (g)\n",
      "\n",
      "  5          18 LOAD_NAME                2 (print)\n",
      "             21 LOAD_NAME                1 (g)\n",
      "             24 CALL_FUNCTION            0 (0 positional, 0 keyword pair)\n",
      "             27 CALL_FUNCTION            1 (1 positional, 0 keyword pair)\n",
      "             30 POP_TOP\n",
      "             31 LOAD_CONST               3 (None)\n",
      "             34 RETURN_VALUE\n",
      "\n",
      "recursing into <code object g at 0x1043bd300, file \"\", line 3>:\n",
      "  4           0 LOAD_GLOBAL              0 (a)\n",
      "              3 LOAD_CONST               1 (2)\n",
      "              6 BINARY_ADD\n",
      "              7 RETURN_VALUE\n"
     ]
    }
   ],
   "source": [
    "diss(code, recurse=True)"
   ]
  },
  {
   "cell_type": "code",
   "execution_count": 36,
   "metadata": {
    "collapsed": false
   },
   "outputs": [
    {
     "name": "stdout",
     "output_type": "stream",
     "text": [
      "12\n"
     ]
    }
   ],
   "source": [
    "vm = VirtualMachine()\n",
    "vm_value = vm.run_code(code)#should print 12"
   ]
  },
  {
   "cell_type": "code",
   "execution_count": null,
   "metadata": {
    "collapsed": true
   },
   "outputs": [],
   "source": []
  }
 ],
 "metadata": {
  "kernelspec": {
   "display_name": "Python 3",
   "language": "python",
   "name": "python3"
  },
  "language_info": {
   "codemirror_mode": {
    "name": "ipython",
    "version": 3
   },
   "file_extension": ".py",
   "mimetype": "text/x-python",
   "name": "python",
   "nbconvert_exporter": "python",
   "pygments_lexer": "ipython3",
   "version": "3.5.1"
  }
 },
 "nbformat": 4,
 "nbformat_minor": 0
}
